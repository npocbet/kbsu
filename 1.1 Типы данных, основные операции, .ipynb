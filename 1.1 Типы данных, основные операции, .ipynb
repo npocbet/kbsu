{
 "cells": [
  {
   "cell_type": "markdown",
   "id": "e88c4975",
   "metadata": {},
   "source": [
    "## Пример простой программы"
   ]
  },
  {
   "cell_type": "markdown",
   "id": "9d04ebf6",
   "metadata": {},
   "source": [
    "Рассмотрим в качестве примера программу, которая вычисляет площадь цилиндра.\n",
    "\n",
    "Так как основанием цилиндра является круг, **площадь основания** вычисляется по формуле $$S_b = \\pi r^2$$ А **площадь боковой поверхности** вычислется по формуле\n",
    "$$\n",
    "S_s = 2 \\pi r h\n",
    "$$\n",
    "**Полная площадь** цилиндра слагается из площади боковой поверхности и удвоенной площади снования\n",
    "$$S = 2 S_b + S_s$$\n",
    "\n",
    "<img src=\"https://homework.study.com/cimages/multimages/16/zsdkfj1019373429681313743.png\">"
   ]
  },
  {
   "cell_type": "markdown",
   "id": "06ee616b",
   "metadata": {},
   "source": [
    "## Числовые типы данных"
   ]
  },
  {
   "cell_type": "code",
   "execution_count": 4,
   "id": "a15733ac",
   "metadata": {},
   "outputs": [
    {
     "name": "stdout",
     "output_type": "stream",
     "text": [
      "S = 1281.12\n"
     ]
    }
   ],
   "source": [
    "h = 100\n",
    "r = 2\n",
    "pi = 3.14\n",
    "\n",
    "base_area = pi * r ** 2           # площадь основания\n",
    "side_area = 2 * pi * r * h      # площадь боковой поверхности\n",
    "area = 2 * base_area + side_area  # возврат полной площади\n",
    "\n",
    "print('S =', area)"
   ]
  },
  {
   "cell_type": "markdown",
   "id": "3c339b13",
   "metadata": {},
   "source": [
    "## Множественное присваивание"
   ]
  },
  {
   "cell_type": "code",
   "execution_count": 15,
   "id": "3e602eee",
   "metadata": {},
   "outputs": [],
   "source": [
    "a, b, c = 1, 2, 3"
   ]
  },
  {
   "cell_type": "markdown",
   "id": "db7884d2",
   "metadata": {},
   "source": [
    "## Базовые арифметические операторы"
   ]
  },
  {
   "cell_type": "markdown",
   "id": "286a56d8",
   "metadata": {},
   "source": [
    "```\n",
    "+ # сложение\n",
    "- # вычитание\n",
    "* # умножение\n",
    "/ # деление (классическое), возвращает float\n",
    "// # целочисленное деление, возвращает int\n",
    "% # остаток от деления, возвращает int\n",
    "** # возведение в степень\n",
    "```"
   ]
  },
  {
   "cell_type": "markdown",
   "id": "e13b7e0d",
   "metadata": {},
   "source": [
    "Библиотека **math**. В ней содержится ряд инженерных функций, таких как синус, косинус, арктангенс и т.д."
   ]
  },
  {
   "cell_type": "code",
   "execution_count": null,
   "id": "65f64153",
   "metadata": {},
   "outputs": [],
   "source": [
    "# Импорт библиотеки целиком\n",
    "\n",
    "import math\n",
    "\n",
    "z = math.sqrt(100)"
   ]
  },
  {
   "cell_type": "code",
   "execution_count": null,
   "id": "0a373956",
   "metadata": {},
   "outputs": [],
   "source": [
    "# Частичный импорт\n",
    "from math import cos, pi  \n",
    "  \n",
    "print(cos(pi))"
   ]
  },
  {
   "cell_type": "markdown",
   "id": "8a866c0c",
   "metadata": {},
   "source": [
    "# Полный перечень содержимого библиотеки"
   ]
  },
  {
   "cell_type": "code",
   "execution_count": 5,
   "id": "cc1e7610",
   "metadata": {},
   "outputs": [
    {
     "name": "stdout",
     "output_type": "stream",
     "text": [
      "Help on module math:\n",
      "\n",
      "NAME\n",
      "    math\n",
      "\n",
      "MODULE REFERENCE\n",
      "    https://docs.python.org/3.9/library/math\n",
      "    \n",
      "    The following documentation is automatically generated from the Python\n",
      "    source files.  It may be incomplete, incorrect or include features that\n",
      "    are considered implementation detail and may vary between Python\n",
      "    implementations.  When in doubt, consult the module reference at the\n",
      "    location listed above.\n",
      "\n",
      "DESCRIPTION\n",
      "    This module provides access to the mathematical functions\n",
      "    defined by the C standard.\n",
      "\n",
      "FUNCTIONS\n",
      "    acos(x, /)\n",
      "        Return the arc cosine (measured in radians) of x.\n",
      "        \n",
      "        The result is between 0 and pi.\n",
      "    \n",
      "    acosh(x, /)\n",
      "        Return the inverse hyperbolic cosine of x.\n",
      "    \n",
      "    asin(x, /)\n",
      "        Return the arc sine (measured in radians) of x.\n",
      "        \n",
      "        The result is between -pi/2 and pi/2.\n",
      "    \n",
      "    asinh(x, /)\n",
      "        Return the inverse hyperbolic sine of x.\n",
      "    \n",
      "    atan(x, /)\n",
      "        Return the arc tangent (measured in radians) of x.\n",
      "        \n",
      "        The result is between -pi/2 and pi/2.\n",
      "    \n",
      "    atan2(y, x, /)\n",
      "        Return the arc tangent (measured in radians) of y/x.\n",
      "        \n",
      "        Unlike atan(y/x), the signs of both x and y are considered.\n",
      "    \n",
      "    atanh(x, /)\n",
      "        Return the inverse hyperbolic tangent of x.\n",
      "    \n",
      "    ceil(x, /)\n",
      "        Return the ceiling of x as an Integral.\n",
      "        \n",
      "        This is the smallest integer >= x.\n",
      "    \n",
      "    comb(n, k, /)\n",
      "        Number of ways to choose k items from n items without repetition and without order.\n",
      "        \n",
      "        Evaluates to n! / (k! * (n - k)!) when k <= n and evaluates\n",
      "        to zero when k > n.\n",
      "        \n",
      "        Also called the binomial coefficient because it is equivalent\n",
      "        to the coefficient of k-th term in polynomial expansion of the\n",
      "        expression (1 + x)**n.\n",
      "        \n",
      "        Raises TypeError if either of the arguments are not integers.\n",
      "        Raises ValueError if either of the arguments are negative.\n",
      "    \n",
      "    copysign(x, y, /)\n",
      "        Return a float with the magnitude (absolute value) of x but the sign of y.\n",
      "        \n",
      "        On platforms that support signed zeros, copysign(1.0, -0.0)\n",
      "        returns -1.0.\n",
      "    \n",
      "    cos(x, /)\n",
      "        Return the cosine of x (measured in radians).\n",
      "    \n",
      "    cosh(x, /)\n",
      "        Return the hyperbolic cosine of x.\n",
      "    \n",
      "    degrees(x, /)\n",
      "        Convert angle x from radians to degrees.\n",
      "    \n",
      "    dist(p, q, /)\n",
      "        Return the Euclidean distance between two points p and q.\n",
      "        \n",
      "        The points should be specified as sequences (or iterables) of\n",
      "        coordinates.  Both inputs must have the same dimension.\n",
      "        \n",
      "        Roughly equivalent to:\n",
      "            sqrt(sum((px - qx) ** 2.0 for px, qx in zip(p, q)))\n",
      "    \n",
      "    erf(x, /)\n",
      "        Error function at x.\n",
      "    \n",
      "    erfc(x, /)\n",
      "        Complementary error function at x.\n",
      "    \n",
      "    exp(x, /)\n",
      "        Return e raised to the power of x.\n",
      "    \n",
      "    expm1(x, /)\n",
      "        Return exp(x)-1.\n",
      "        \n",
      "        This function avoids the loss of precision involved in the direct evaluation of exp(x)-1 for small x.\n",
      "    \n",
      "    fabs(x, /)\n",
      "        Return the absolute value of the float x.\n",
      "    \n",
      "    factorial(x, /)\n",
      "        Find x!.\n",
      "        \n",
      "        Raise a ValueError if x is negative or non-integral.\n",
      "    \n",
      "    floor(x, /)\n",
      "        Return the floor of x as an Integral.\n",
      "        \n",
      "        This is the largest integer <= x.\n",
      "    \n",
      "    fmod(x, y, /)\n",
      "        Return fmod(x, y), according to platform C.\n",
      "        \n",
      "        x % y may differ.\n",
      "    \n",
      "    frexp(x, /)\n",
      "        Return the mantissa and exponent of x, as pair (m, e).\n",
      "        \n",
      "        m is a float and e is an int, such that x = m * 2.**e.\n",
      "        If x is 0, m and e are both 0.  Else 0.5 <= abs(m) < 1.0.\n",
      "    \n",
      "    fsum(seq, /)\n",
      "        Return an accurate floating point sum of values in the iterable seq.\n",
      "        \n",
      "        Assumes IEEE-754 floating point arithmetic.\n",
      "    \n",
      "    gamma(x, /)\n",
      "        Gamma function at x.\n",
      "    \n",
      "    gcd(*integers)\n",
      "        Greatest Common Divisor.\n",
      "    \n",
      "    hypot(...)\n",
      "        hypot(*coordinates) -> value\n",
      "        \n",
      "        Multidimensional Euclidean distance from the origin to a point.\n",
      "        \n",
      "        Roughly equivalent to:\n",
      "            sqrt(sum(x**2 for x in coordinates))\n",
      "        \n",
      "        For a two dimensional point (x, y), gives the hypotenuse\n",
      "        using the Pythagorean theorem:  sqrt(x*x + y*y).\n",
      "        \n",
      "        For example, the hypotenuse of a 3/4/5 right triangle is:\n",
      "        \n",
      "            >>> hypot(3.0, 4.0)\n",
      "            5.0\n",
      "    \n",
      "    isclose(a, b, *, rel_tol=1e-09, abs_tol=0.0)\n",
      "        Determine whether two floating point numbers are close in value.\n",
      "        \n",
      "          rel_tol\n",
      "            maximum difference for being considered \"close\", relative to the\n",
      "            magnitude of the input values\n",
      "          abs_tol\n",
      "            maximum difference for being considered \"close\", regardless of the\n",
      "            magnitude of the input values\n",
      "        \n",
      "        Return True if a is close in value to b, and False otherwise.\n",
      "        \n",
      "        For the values to be considered close, the difference between them\n",
      "        must be smaller than at least one of the tolerances.\n",
      "        \n",
      "        -inf, inf and NaN behave similarly to the IEEE 754 Standard.  That\n",
      "        is, NaN is not close to anything, even itself.  inf and -inf are\n",
      "        only close to themselves.\n",
      "    \n",
      "    isfinite(x, /)\n",
      "        Return True if x is neither an infinity nor a NaN, and False otherwise.\n",
      "    \n",
      "    isinf(x, /)\n",
      "        Return True if x is a positive or negative infinity, and False otherwise.\n",
      "    \n",
      "    isnan(x, /)\n",
      "        Return True if x is a NaN (not a number), and False otherwise.\n",
      "    \n",
      "    isqrt(n, /)\n",
      "        Return the integer part of the square root of the input.\n",
      "    \n",
      "    lcm(*integers)\n",
      "        Least Common Multiple.\n",
      "    \n",
      "    ldexp(x, i, /)\n",
      "        Return x * (2**i).\n",
      "        \n",
      "        This is essentially the inverse of frexp().\n",
      "    \n",
      "    lgamma(x, /)\n",
      "        Natural logarithm of absolute value of Gamma function at x.\n",
      "    \n",
      "    log(...)\n",
      "        log(x, [base=math.e])\n",
      "        Return the logarithm of x to the given base.\n",
      "        \n",
      "        If the base not specified, returns the natural logarithm (base e) of x.\n",
      "    \n",
      "    log10(x, /)\n",
      "        Return the base 10 logarithm of x.\n",
      "    \n",
      "    log1p(x, /)\n",
      "        Return the natural logarithm of 1+x (base e).\n",
      "        \n",
      "        The result is computed in a way which is accurate for x near zero.\n",
      "    \n",
      "    log2(x, /)\n",
      "        Return the base 2 logarithm of x.\n",
      "    \n",
      "    modf(x, /)\n",
      "        Return the fractional and integer parts of x.\n",
      "        \n",
      "        Both results carry the sign of x and are floats.\n",
      "    \n",
      "    nextafter(x, y, /)\n",
      "        Return the next floating-point value after x towards y.\n",
      "    \n",
      "    perm(n, k=None, /)\n",
      "        Number of ways to choose k items from n items without repetition and with order.\n",
      "        \n",
      "        Evaluates to n! / (n - k)! when k <= n and evaluates\n",
      "        to zero when k > n.\n",
      "        \n",
      "        If k is not specified or is None, then k defaults to n\n",
      "        and the function returns n!.\n",
      "        \n",
      "        Raises TypeError if either of the arguments are not integers.\n",
      "        Raises ValueError if either of the arguments are negative.\n",
      "    \n",
      "    pow(x, y, /)\n",
      "        Return x**y (x to the power of y).\n",
      "    \n",
      "    prod(iterable, /, *, start=1)\n",
      "        Calculate the product of all the elements in the input iterable.\n",
      "        \n",
      "        The default start value for the product is 1.\n",
      "        \n",
      "        When the iterable is empty, return the start value.  This function is\n",
      "        intended specifically for use with numeric values and may reject\n",
      "        non-numeric types.\n",
      "    \n",
      "    radians(x, /)\n",
      "        Convert angle x from degrees to radians.\n",
      "    \n",
      "    remainder(x, y, /)\n",
      "        Difference between x and the closest integer multiple of y.\n",
      "        \n",
      "        Return x - n*y where n*y is the closest integer multiple of y.\n",
      "        In the case where x is exactly halfway between two multiples of\n",
      "        y, the nearest even value of n is used. The result is always exact.\n",
      "    \n",
      "    sin(x, /)\n",
      "        Return the sine of x (measured in radians).\n",
      "    \n",
      "    sinh(x, /)\n",
      "        Return the hyperbolic sine of x.\n",
      "    \n",
      "    sqrt(x, /)\n",
      "        Return the square root of x.\n",
      "    \n",
      "    tan(x, /)\n",
      "        Return the tangent of x (measured in radians).\n",
      "    \n",
      "    tanh(x, /)\n",
      "        Return the hyperbolic tangent of x.\n",
      "    \n",
      "    trunc(x, /)\n",
      "        Truncates the Real x to the nearest Integral toward 0.\n",
      "        \n",
      "        Uses the __trunc__ magic method.\n",
      "    \n",
      "    ulp(x, /)\n",
      "        Return the value of the least significant bit of the float x.\n",
      "\n",
      "DATA\n",
      "    e = 2.718281828459045\n",
      "    inf = inf\n",
      "    nan = nan\n",
      "    pi = 3.141592653589793\n",
      "    tau = 6.283185307179586\n",
      "\n",
      "FILE\n",
      "    /usr/lib/python3.9/lib-dynload/math.cpython-39-x86_64-linux-gnu.so\n",
      "\n",
      "\n"
     ]
    }
   ],
   "source": [
    "import math\n",
    "help(math)"
   ]
  },
  {
   "cell_type": "code",
   "execution_count": null,
   "id": "3ff7625c",
   "metadata": {},
   "outputs": [],
   "source": [
    "# комментарии\n",
    "# этот текст проигнорирован интерпретатором\n",
    "# a = int(float(9 ** 19)) <======= и этот код тоже"
   ]
  },
  {
   "cell_type": "markdown",
   "id": "b363fe12",
   "metadata": {},
   "source": [
    "## Базовые типы данных\n",
    "\n",
    "### int - целое\n",
    "### float - вещественное, с плавающей точкой\n",
    "### bool - логический тип данных\n",
    "### str - строковый тип"
   ]
  },
  {
   "cell_type": "code",
   "execution_count": 7,
   "id": "a92b28cb",
   "metadata": {},
   "outputs": [
    {
     "data": {
      "text/plain": [
       "'Привет'"
      ]
     },
     "execution_count": 7,
     "metadata": {},
     "output_type": "execute_result"
    }
   ],
   "source": [
    "# Пример строк\n",
    "'Привет'"
   ]
  },
  {
   "cell_type": "code",
   "execution_count": 8,
   "id": "9f666363",
   "metadata": {},
   "outputs": [
    {
     "data": {
      "text/plain": [
       "'Мир'"
      ]
     },
     "execution_count": 8,
     "metadata": {},
     "output_type": "execute_result"
    }
   ],
   "source": [
    "\"Мир\""
   ]
  },
  {
   "cell_type": "markdown",
   "id": "f1cd0947",
   "metadata": {},
   "source": [
    "## спецсимволы\n",
    "\n",
    "1. \"\\n\" - перенос строки\n",
    "2. \"\\е\" - табуляция\n",
    "3. \"\\\\\" - слеш\n",
    "4. \"\\'\" - одинарная кавычка\n",
    "5. \"\\\"\" - двойная кавычка"
   ]
  },
  {
   "cell_type": "markdown",
   "id": "a1625281",
   "metadata": {},
   "source": [
    "### конкатенация"
   ]
  },
  {
   "cell_type": "code",
   "execution_count": 10,
   "id": "3b789b1d",
   "metadata": {},
   "outputs": [
    {
     "data": {
      "text/plain": [
       "'Иванов, Иван'"
      ]
     },
     "execution_count": 10,
     "metadata": {},
     "output_type": "execute_result"
    }
   ],
   "source": [
    "first = 'Иван'\n",
    "last = 'Иванов'\n",
    "# Конкатенируем строки\n",
    "both = last + \", \" + first\n",
    "# Отображаем результат\n",
    "both"
   ]
  },
  {
   "cell_type": "markdown",
   "id": "f377fa56",
   "metadata": {},
   "source": [
    "### Длина строки"
   ]
  },
  {
   "cell_type": "code",
   "execution_count": 12,
   "id": "2194e096",
   "metadata": {},
   "outputs": [
    {
     "data": {
      "text/plain": [
       "'В вашем имени 4 символа'"
      ]
     },
     "execution_count": 12,
     "metadata": {},
     "output_type": "execute_result"
    }
   ],
   "source": [
    "first = 'Петр'\n",
    "# Вычисляем длину строки\n",
    "num_chars = len(first)\n",
    "# Отображаем результат\n",
    "\"В вашем имени \" + str(num_chars) + \" символа\""
   ]
  },
  {
   "cell_type": "markdown",
   "id": "d22c4476",
   "metadata": {},
   "source": [
    "### обращение к символу по индексу"
   ]
  },
  {
   "cell_type": "code",
   "execution_count": 14,
   "id": "8040cdf7",
   "metadata": {},
   "outputs": [
    {
     "data": {
      "text/plain": [
       "'ПИС'"
      ]
     },
     "execution_count": 14,
     "metadata": {},
     "output_type": "execute_result"
    }
   ],
   "source": [
    "first = 'Петр'\n",
    "middle = 'Иванович'\n",
    "last = 'Сидоров'\n",
    "# Извлекаем первый символ из всех трех переменных и собираем их вместе\n",
    "first[0] + middle[0] + last[0]"
   ]
  },
  {
   "cell_type": "markdown",
   "id": "cca41688",
   "metadata": {},
   "source": [
    "## Логический тип данных, логические выражения"
   ]
  },
  {
   "cell_type": "markdown",
   "id": "0b872ff2",
   "metadata": {},
   "source": [
    "Значения: **True** или **False**  \n",
    "Получить можно в результате логических выражений"
   ]
  },
  {
   "cell_type": "code",
   "execution_count": 1,
   "id": "04d1b31c",
   "metadata": {},
   "outputs": [],
   "source": [
    "greater = 10 > 3 # True"
   ]
  },
  {
   "cell_type": "markdown",
   "id": "4b2b13d8",
   "metadata": {},
   "source": [
    "### Операторы сравнения\n",
    "```\n",
    "> \n",
    "<   \n",
    ">=\n",
    "<=  \n",
    "==  - сравнение на равенство (не путать с присваиванием - \"=\")\n",
    "!=  - сравнение на неравенство, неравно\n",
    "```"
   ]
  },
  {
   "cell_type": "code",
   "execution_count": null,
   "id": "8a6171ee",
   "metadata": {},
   "outputs": [],
   "source": []
  }
 ],
 "metadata": {
  "kernelspec": {
   "display_name": "Python 3 (ipykernel)",
   "language": "python",
   "name": "python3"
  },
  "language_info": {
   "codemirror_mode": {
    "name": "ipython",
    "version": 3
   },
   "file_extension": ".py",
   "mimetype": "text/x-python",
   "name": "python",
   "nbconvert_exporter": "python",
   "pygments_lexer": "ipython3",
   "version": "3.9.14"
  }
 },
 "nbformat": 4,
 "nbformat_minor": 5
}
