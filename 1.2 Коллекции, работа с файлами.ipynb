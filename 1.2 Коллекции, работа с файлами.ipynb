{
 "cells": [
  {
   "cell_type": "markdown",
   "id": "d93d0fd5",
   "metadata": {},
   "source": [
    "# 1. Коллекции"
   ]
  },
  {
   "cell_type": "markdown",
   "id": "7c6b43a7",
   "metadata": {},
   "source": [
    "Коллекция, это набор элементов произвольных типов (в том числе коллекций). Бывают упорядоченными - строки, списки, кортежи и неупорядоченными - множества, словари."
   ]
  },
  {
   "cell_type": "markdown",
   "id": "db9cebe1",
   "metadata": {},
   "source": [
    "## 1.1 Строки (методы строк)"
   ]
  },
  {
   "cell_type": "markdown",
   "id": "95b7cf6c",
   "metadata": {},
   "source": [
    "### 1.1.1 **in** и **not in** - вхождение/не вхождение подстроки в строку"
   ]
  },
  {
   "cell_type": "code",
   "execution_count": 2,
   "id": "cb96fe3e",
   "metadata": {},
   "outputs": [],
   "source": [
    "s = 'abracadabra'\n",
    "s2 = 'aca'\n",
    "s3 = 'bar'"
   ]
  },
  {
   "cell_type": "code",
   "execution_count": 3,
   "id": "4c068aa3",
   "metadata": {},
   "outputs": [
    {
     "data": {
      "text/plain": [
       "True"
      ]
     },
     "execution_count": 3,
     "metadata": {},
     "output_type": "execute_result"
    }
   ],
   "source": [
    "s2 in s"
   ]
  },
  {
   "cell_type": "code",
   "execution_count": 4,
   "id": "10e7dd3a",
   "metadata": {},
   "outputs": [
    {
     "data": {
      "text/plain": [
       "False"
      ]
     },
     "execution_count": 4,
     "metadata": {},
     "output_type": "execute_result"
    }
   ],
   "source": [
    "s3 in s"
   ]
  },
  {
   "cell_type": "markdown",
   "id": "f587fc99",
   "metadata": {},
   "source": [
    "### 1.1.2 **+** - конкатенация "
   ]
  },
  {
   "cell_type": "code",
   "execution_count": 5,
   "id": "7b1e462a",
   "metadata": {},
   "outputs": [
    {
     "data": {
      "text/plain": [
       "'abracadabraaca'"
      ]
     },
     "execution_count": 5,
     "metadata": {},
     "output_type": "execute_result"
    }
   ],
   "source": [
    "s + s2"
   ]
  },
  {
   "cell_type": "markdown",
   "id": "9e31afc8",
   "metadata": {},
   "source": [
    "1.1.3 * - повторение строк "
   ]
  },
  {
   "cell_type": "code",
   "execution_count": 6,
   "id": "24927631",
   "metadata": {},
   "outputs": [
    {
     "data": {
      "text/plain": [
       "'acaacaaca'"
      ]
     },
     "execution_count": 6,
     "metadata": {},
     "output_type": "execute_result"
    }
   ],
   "source": [
    "k = 3\n",
    "s2 * k"
   ]
  },
  {
   "cell_type": "markdown",
   "id": "d639eb93",
   "metadata": {},
   "source": [
    "### 1.1.4 Индексы"
   ]
  },
  {
   "cell_type": "code",
   "execution_count": 7,
   "id": "0f773e45",
   "metadata": {},
   "outputs": [
    {
     "name": "stdout",
     "output_type": "stream",
     "text": [
      "a c\n"
     ]
    }
   ],
   "source": [
    "print(s2[2], s2[-2])"
   ]
  },
  {
   "cell_type": "markdown",
   "id": "1dd6db2b",
   "metadata": {},
   "source": [
    "### 1.1.5 Срезы"
   ]
  },
  {
   "cell_type": "code",
   "execution_count": 9,
   "id": "e337db7c",
   "metadata": {},
   "outputs": [
    {
     "data": {
      "text/plain": [
       "'abracadabra'"
      ]
     },
     "execution_count": 9,
     "metadata": {},
     "output_type": "execute_result"
    }
   ],
   "source": [
    "s"
   ]
  },
  {
   "cell_type": "code",
   "execution_count": 10,
   "id": "35e8e020",
   "metadata": {},
   "outputs": [
    {
     "data": {
      "text/plain": [
       "'bra'"
      ]
     },
     "execution_count": 10,
     "metadata": {},
     "output_type": "execute_result"
    }
   ],
   "source": [
    "s[1: 4]"
   ]
  },
  {
   "cell_type": "code",
   "execution_count": 12,
   "id": "c85b105a",
   "metadata": {},
   "outputs": [
    {
     "data": {
      "text/plain": [
       "'badaca'"
      ]
     },
     "execution_count": 12,
     "metadata": {},
     "output_type": "execute_result"
    }
   ],
   "source": [
    "s[-3: 2: -1]"
   ]
  },
  {
   "cell_type": "markdown",
   "id": "ab55ec0a",
   "metadata": {},
   "source": [
    "### 1.1.6 Длина строки"
   ]
  },
  {
   "cell_type": "code",
   "execution_count": 14,
   "id": "72ba920b",
   "metadata": {},
   "outputs": [
    {
     "data": {
      "text/plain": [
       "11"
      ]
     },
     "execution_count": 14,
     "metadata": {},
     "output_type": "execute_result"
    }
   ],
   "source": [
    "len(s)"
   ]
  },
  {
   "cell_type": "markdown",
   "id": "0abb54c1",
   "metadata": {},
   "source": [
    "### 1.1.7 Поиск вхождения подстроки "
   ]
  },
  {
   "cell_type": "code",
   "execution_count": 16,
   "id": "7c1d5a7a",
   "metadata": {},
   "outputs": [
    {
     "data": {
      "text/plain": [
       "0"
      ]
     },
     "execution_count": 16,
     "metadata": {},
     "output_type": "execute_result"
    }
   ],
   "source": [
    "s.find('ab')"
   ]
  },
  {
   "cell_type": "code",
   "execution_count": 17,
   "id": "486bfa89",
   "metadata": {},
   "outputs": [
    {
     "data": {
      "text/plain": [
       "7"
      ]
     },
     "execution_count": 17,
     "metadata": {},
     "output_type": "execute_result"
    }
   ],
   "source": [
    "s.rfind('ab')"
   ]
  },
  {
   "cell_type": "code",
   "execution_count": 18,
   "id": "aadad15d",
   "metadata": {},
   "outputs": [
    {
     "data": {
      "text/plain": [
       "-1"
      ]
     },
     "execution_count": 18,
     "metadata": {},
     "output_type": "execute_result"
    }
   ],
   "source": [
    "s.find('x')"
   ]
  },
  {
   "cell_type": "markdown",
   "id": "6735f67c",
   "metadata": {},
   "source": [
    "### 1.1.8 Подсчет количества непересекающегося вхождения подстрок"
   ]
  },
  {
   "cell_type": "code",
   "execution_count": 19,
   "id": "89ebe355",
   "metadata": {},
   "outputs": [
    {
     "data": {
      "text/plain": [
       "2"
      ]
     },
     "execution_count": 19,
     "metadata": {},
     "output_type": "execute_result"
    }
   ],
   "source": [
    "s = 'abracadabra'\n",
    "s2 = 'ab'\n",
    "s.count(s2)"
   ]
  },
  {
   "cell_type": "markdown",
   "id": "cdf5eced",
   "metadata": {},
   "source": [
    "### 1.1.9 Проверка, что строка начинается/заканчивается с подстроки "
   ]
  },
  {
   "cell_type": "code",
   "execution_count": 20,
   "id": "b23fe3d4",
   "metadata": {},
   "outputs": [
    {
     "data": {
      "text/plain": [
       "True"
      ]
     },
     "execution_count": 20,
     "metadata": {},
     "output_type": "execute_result"
    }
   ],
   "source": [
    "'abracadabra'.startswith('abra')"
   ]
  },
  {
   "cell_type": "code",
   "execution_count": 21,
   "id": "4af77328",
   "metadata": {},
   "outputs": [
    {
     "data": {
      "text/plain": [
       "True"
      ]
     },
     "execution_count": 21,
     "metadata": {},
     "output_type": "execute_result"
    }
   ],
   "source": [
    "'abracadabra'.endswith('bra')"
   ]
  },
  {
   "cell_type": "markdown",
   "id": "cf46d27a",
   "metadata": {},
   "source": [
    "### 1.1.10 Проверка, что строка состоит из букв/цифр"
   ]
  },
  {
   "cell_type": "code",
   "execution_count": 26,
   "id": "f4b520ac",
   "metadata": {},
   "outputs": [
    {
     "data": {
      "text/plain": [
       "True"
      ]
     },
     "execution_count": 26,
     "metadata": {},
     "output_type": "execute_result"
    }
   ],
   "source": [
    "'12340'.isdigit()    # - целое число"
   ]
  },
  {
   "cell_type": "code",
   "execution_count": 27,
   "id": "1b22cc78",
   "metadata": {},
   "outputs": [
    {
     "data": {
      "text/plain": [
       "True"
      ]
     },
     "execution_count": 27,
     "metadata": {},
     "output_type": "execute_result"
    }
   ],
   "source": [
    "'abracadabra'.isalpha()     # состоит из букв"
   ]
  },
  {
   "cell_type": "code",
   "execution_count": 28,
   "id": "8af441c4",
   "metadata": {},
   "outputs": [
    {
     "data": {
      "text/plain": [
       "True"
      ]
     },
     "execution_count": 28,
     "metadata": {},
     "output_type": "execute_result"
    }
   ],
   "source": [
    "'ab123'.isalnum()      # состоит из букв и чисел"
   ]
  },
  {
   "cell_type": "markdown",
   "id": "a7090334",
   "metadata": {},
   "source": [
    "### 1.1.11 Проверка регистра"
   ]
  },
  {
   "cell_type": "code",
   "execution_count": 30,
   "id": "b88398d5",
   "metadata": {},
   "outputs": [
    {
     "data": {
      "text/plain": [
       "True"
      ]
     },
     "execution_count": 30,
     "metadata": {},
     "output_type": "execute_result"
    }
   ],
   "source": [
    "'abra'.islower()"
   ]
  },
  {
   "cell_type": "code",
   "execution_count": 31,
   "id": "a954a5b7",
   "metadata": {},
   "outputs": [
    {
     "data": {
      "text/plain": [
       "False"
      ]
     },
     "execution_count": 31,
     "metadata": {},
     "output_type": "execute_result"
    }
   ],
   "source": [
    "'Abra'.islower()"
   ]
  },
  {
   "cell_type": "code",
   "execution_count": 32,
   "id": "70522002",
   "metadata": {},
   "outputs": [
    {
     "data": {
      "text/plain": [
       "True"
      ]
     },
     "execution_count": 32,
     "metadata": {},
     "output_type": "execute_result"
    }
   ],
   "source": [
    "'ABRA'.isupper()"
   ]
  },
  {
   "cell_type": "code",
   "execution_count": 33,
   "id": "486bcaae",
   "metadata": {},
   "outputs": [
    {
     "data": {
      "text/plain": [
       "False"
      ]
     },
     "execution_count": 33,
     "metadata": {},
     "output_type": "execute_result"
    }
   ],
   "source": [
    "'ABRa'.isupper()"
   ]
  },
  {
   "cell_type": "markdown",
   "id": "61c437d5",
   "metadata": {},
   "source": [
    "### 1.1.12 Изменение регистра строки"
   ]
  },
  {
   "cell_type": "code",
   "execution_count": 34,
   "id": "67abcf51",
   "metadata": {},
   "outputs": [
    {
     "data": {
      "text/plain": [
       "'abra'"
      ]
     },
     "execution_count": 34,
     "metadata": {},
     "output_type": "execute_result"
    }
   ],
   "source": [
    "'ABrA'.lower()"
   ]
  },
  {
   "cell_type": "code",
   "execution_count": 35,
   "id": "4d2ae37a",
   "metadata": {},
   "outputs": [
    {
     "data": {
      "text/plain": [
       "'ABRA'"
      ]
     },
     "execution_count": 35,
     "metadata": {},
     "output_type": "execute_result"
    }
   ],
   "source": [
    "'abra'.upper()"
   ]
  },
  {
   "cell_type": "code",
   "execution_count": 37,
   "id": "ae684a1e",
   "metadata": {},
   "outputs": [
    {
     "data": {
      "text/plain": [
       "'Testtttt!!!123'"
      ]
     },
     "execution_count": 37,
     "metadata": {},
     "output_type": "execute_result"
    }
   ],
   "source": [
    "'TeSTTTTT!!!123'.capitalize()   # первая буква - заглавная, остальные - маленькие"
   ]
  },
  {
   "cell_type": "markdown",
   "id": "96687e0e",
   "metadata": {},
   "source": [
    "### 1.1.13 Удалить символы пустого пространства (пробелы, табуляции, символы переноса строки)"
   ]
  },
  {
   "cell_type": "code",
   "execution_count": 39,
   "id": "ef0f6af2",
   "metadata": {},
   "outputs": [
    {
     "data": {
      "text/plain": [
       "'Привет!'"
      ]
     },
     "execution_count": 39,
     "metadata": {},
     "output_type": "execute_result"
    }
   ],
   "source": [
    "'   Привет!    '.strip()"
   ]
  },
  {
   "cell_type": "markdown",
   "id": "14eeb7ea",
   "metadata": {},
   "source": [
    "### 1.1.14 Добавить слева или справа нужное количество символов, чтобы длина строки стала равна указанной длине"
   ]
  },
  {
   "cell_type": "code",
   "execution_count": 40,
   "id": "0c456c3d",
   "metadata": {},
   "outputs": [
    {
     "data": {
      "text/plain": [
       "'Привет!!!!'"
      ]
     },
     "execution_count": 40,
     "metadata": {},
     "output_type": "execute_result"
    }
   ],
   "source": [
    "'Привет!'.ljust(10,'!')"
   ]
  },
  {
   "cell_type": "code",
   "execution_count": 41,
   "id": "1d260392",
   "metadata": {},
   "outputs": [
    {
     "data": {
      "text/plain": [
       "'0000000321'"
      ]
     },
     "execution_count": 41,
     "metadata": {},
     "output_type": "execute_result"
    }
   ],
   "source": [
    "'321'.rjust(10, '0')"
   ]
  },
  {
   "cell_type": "markdown",
   "id": "6ffc63b8",
   "metadata": {},
   "source": [
    "### 1.1.15 \"Склеить\" строки из списка через заданный символ - разделитель"
   ]
  },
  {
   "cell_type": "code",
   "execution_count": 43,
   "id": "03f179a3",
   "metadata": {},
   "outputs": [
    {
     "data": {
      "text/plain": [
       "'Петя+Маша'"
      ]
     },
     "execution_count": 43,
     "metadata": {},
     "output_type": "execute_result"
    }
   ],
   "source": [
    "'+'.join(['Петя', 'Маша'])"
   ]
  },
  {
   "cell_type": "code",
   "execution_count": 45,
   "id": "f915a4d0",
   "metadata": {},
   "outputs": [
    {
     "data": {
      "text/plain": [
       "'+7-900-123-45-67'"
      ]
     },
     "execution_count": 45,
     "metadata": {},
     "output_type": "execute_result"
    }
   ],
   "source": [
    "'-'.join(['+7', '900', '123', '45', '67'])"
   ]
  },
  {
   "cell_type": "markdown",
   "id": "6d061adc",
   "metadata": {},
   "source": [
    "### 1.1.16 Получить список строк, используя разделитель"
   ]
  },
  {
   "cell_type": "code",
   "execution_count": 46,
   "id": "16b7218b",
   "metadata": {},
   "outputs": [
    {
     "data": {
      "text/plain": [
       "['Раз', 'два', 'три']"
      ]
     },
     "execution_count": 46,
     "metadata": {},
     "output_type": "execute_result"
    }
   ],
   "source": [
    "'Раз два три'.split()"
   ]
  },
  {
   "cell_type": "code",
   "execution_count": 47,
   "id": "97d454ef",
   "metadata": {},
   "outputs": [
    {
     "data": {
      "text/plain": [
       "['Р', 'з дв', ' три']"
      ]
     },
     "execution_count": 47,
     "metadata": {},
     "output_type": "execute_result"
    }
   ],
   "source": [
    "'Раз два три'.split('а')"
   ]
  },
  {
   "cell_type": "markdown",
   "id": "b2209cfe",
   "metadata": {},
   "source": [
    "### 1.1.17 Заменить одни непересекающиеся подстроки на другие "
   ]
  },
  {
   "cell_type": "code",
   "execution_count": 48,
   "id": "37c66203",
   "metadata": {},
   "outputs": [
    {
     "data": {
      "text/plain": [
       "'Ряз двя три!'"
      ]
     },
     "execution_count": 48,
     "metadata": {},
     "output_type": "execute_result"
    }
   ],
   "source": [
    "'Раз два три!'.replace('а', 'я')"
   ]
  },
  {
   "cell_type": "code",
   "execution_count": 50,
   "id": "802b200a",
   "metadata": {},
   "outputs": [
    {
     "data": {
      "text/plain": [
       "'Ряз два три!'"
      ]
     },
     "execution_count": 50,
     "metadata": {},
     "output_type": "execute_result"
    }
   ],
   "source": [
    "'Раз два три!'.replace('а', 'я', 1)"
   ]
  },
  {
   "cell_type": "markdown",
   "id": "ccdb2f10",
   "metadata": {},
   "source": [
    "### 1.1.18 Преобразовать к другому типу"
   ]
  },
  {
   "cell_type": "code",
   "execution_count": 52,
   "id": "7f25f02d",
   "metadata": {},
   "outputs": [
    {
     "data": {
      "text/plain": [
       "['a', 'b', 'r', 'a']"
      ]
     },
     "execution_count": 52,
     "metadata": {},
     "output_type": "execute_result"
    }
   ],
   "source": [
    "list('abra')"
   ]
  },
  {
   "cell_type": "code",
   "execution_count": 53,
   "id": "284a574e",
   "metadata": {},
   "outputs": [
    {
     "data": {
      "text/plain": [
       "True"
      ]
     },
     "execution_count": 53,
     "metadata": {},
     "output_type": "execute_result"
    }
   ],
   "source": [
    "bool('abra')"
   ]
  },
  {
   "cell_type": "code",
   "execution_count": 54,
   "id": "f0ec0862",
   "metadata": {},
   "outputs": [
    {
     "data": {
      "text/plain": [
       "False"
      ]
     },
     "execution_count": 54,
     "metadata": {},
     "output_type": "execute_result"
    }
   ],
   "source": [
    "bool('')"
   ]
  },
  {
   "cell_type": "code",
   "execution_count": 55,
   "id": "e1dce8ea",
   "metadata": {},
   "outputs": [
    {
     "data": {
      "text/plain": [
       "25"
      ]
     },
     "execution_count": 55,
     "metadata": {},
     "output_type": "execute_result"
    }
   ],
   "source": [
    "int('25')"
   ]
  },
  {
   "cell_type": "code",
   "execution_count": 56,
   "id": "d2d9a8c9",
   "metadata": {},
   "outputs": [
    {
     "data": {
      "text/plain": [
       "123.4"
      ]
     },
     "execution_count": 56,
     "metadata": {},
     "output_type": "execute_result"
    }
   ],
   "source": [
    "float('123.4')"
   ]
  },
  {
   "cell_type": "markdown",
   "id": "7175a60b",
   "metadata": {},
   "source": [
    "## 1.2 Списки (методы списков) "
   ]
  },
  {
   "cell_type": "markdown",
   "id": "17eaa637",
   "metadata": {},
   "source": [
    "Список - упорядоченные набор элементов произвольного типа (в том числе других списков.)"
   ]
  },
  {
   "cell_type": "markdown",
   "id": "0845720e",
   "metadata": {},
   "source": [
    "### 1.2.1 Вхождение/не вхождение элемента в список"
   ]
  },
  {
   "cell_type": "code",
   "execution_count": 58,
   "id": "c514837a",
   "metadata": {},
   "outputs": [
    {
     "data": {
      "text/plain": [
       "True"
      ]
     },
     "execution_count": 58,
     "metadata": {},
     "output_type": "execute_result"
    }
   ],
   "source": [
    "5 in [2, 3, 5]"
   ]
  },
  {
   "cell_type": "code",
   "execution_count": 59,
   "id": "36520b1b",
   "metadata": {},
   "outputs": [
    {
     "data": {
      "text/plain": [
       "True"
      ]
     },
     "execution_count": 59,
     "metadata": {},
     "output_type": "execute_result"
    }
   ],
   "source": [
    "5 not in [2, 3, 6]"
   ]
  },
  {
   "cell_type": "markdown",
   "id": "fcaf9d38",
   "metadata": {},
   "source": [
    "### 1.2.2 Конкатенация списков"
   ]
  },
  {
   "cell_type": "code",
   "execution_count": 60,
   "id": "6153b8df",
   "metadata": {},
   "outputs": [
    {
     "data": {
      "text/plain": [
       "[2, 4, 5, 3]"
      ]
     },
     "execution_count": 60,
     "metadata": {},
     "output_type": "execute_result"
    }
   ],
   "source": [
    "[2, 4] + [5, 3]"
   ]
  },
  {
   "cell_type": "markdown",
   "id": "15ce6ce4",
   "metadata": {},
   "source": [
    "### 1.2.3 Повторение списка"
   ]
  },
  {
   "cell_type": "code",
   "execution_count": 62,
   "id": "bed1dea8",
   "metadata": {},
   "outputs": [
    {
     "data": {
      "text/plain": [
       "[2, 3, 2, 3, 2, 3]"
      ]
     },
     "execution_count": 62,
     "metadata": {},
     "output_type": "execute_result"
    }
   ],
   "source": [
    "[2, 3] * 3"
   ]
  },
  {
   "cell_type": "markdown",
   "id": "16dffb02",
   "metadata": {},
   "source": [
    "### 1.2.4 Индекс"
   ]
  },
  {
   "cell_type": "code",
   "execution_count": 63,
   "id": "99a3cc1b",
   "metadata": {},
   "outputs": [
    {
     "data": {
      "text/plain": [
       "2"
      ]
     },
     "execution_count": 63,
     "metadata": {},
     "output_type": "execute_result"
    }
   ],
   "source": [
    "[2, 3, 7][0]"
   ]
  },
  {
   "cell_type": "code",
   "execution_count": 64,
   "id": "46b51e41",
   "metadata": {},
   "outputs": [
    {
     "data": {
      "text/plain": [
       "2"
      ]
     },
     "execution_count": 64,
     "metadata": {},
     "output_type": "execute_result"
    }
   ],
   "source": [
    "a = [1, 2, 3, 4]\n",
    "a[1]"
   ]
  },
  {
   "cell_type": "code",
   "execution_count": 65,
   "id": "efd166b4",
   "metadata": {},
   "outputs": [
    {
     "data": {
      "text/plain": [
       "4"
      ]
     },
     "execution_count": 65,
     "metadata": {},
     "output_type": "execute_result"
    }
   ],
   "source": [
    "a[-1]"
   ]
  },
  {
   "cell_type": "markdown",
   "id": "8578417f",
   "metadata": {},
   "source": [
    "### 1.2.5 Срез списка"
   ]
  },
  {
   "cell_type": "code",
   "execution_count": 67,
   "id": "dd834104",
   "metadata": {},
   "outputs": [
    {
     "data": {
      "text/plain": [
       "[2, 3]"
      ]
     },
     "execution_count": 67,
     "metadata": {},
     "output_type": "execute_result"
    }
   ],
   "source": [
    "[2, 3, 7][:2]"
   ]
  },
  {
   "cell_type": "code",
   "execution_count": 68,
   "id": "d692fbd2",
   "metadata": {},
   "outputs": [
    {
     "data": {
      "text/plain": [
       "[7, 6, 5, 4, 3, 2, 1]"
      ]
     },
     "execution_count": 68,
     "metadata": {},
     "output_type": "execute_result"
    }
   ],
   "source": [
    "[1, 2, 3, 4, 5, 6, 7][::-1]"
   ]
  },
  {
   "cell_type": "code",
   "execution_count": 70,
   "id": "8d49459e",
   "metadata": {},
   "outputs": [
    {
     "data": {
      "text/plain": [
       "[5, 3]"
      ]
     },
     "execution_count": 70,
     "metadata": {},
     "output_type": "execute_result"
    }
   ],
   "source": [
    "[1, 2, 3, 4, 5][-1: 1: -2]"
   ]
  },
  {
   "cell_type": "markdown",
   "id": "fa131ad6",
   "metadata": {},
   "source": [
    "### 1.2.6 длина списка"
   ]
  },
  {
   "cell_type": "code",
   "execution_count": 72,
   "id": "96a489e1",
   "metadata": {},
   "outputs": [
    {
     "data": {
      "text/plain": [
       "3"
      ]
     },
     "execution_count": 72,
     "metadata": {},
     "output_type": "execute_result"
    }
   ],
   "source": [
    "len([1, 2, 3])"
   ]
  },
  {
   "cell_type": "markdown",
   "id": "906420c2",
   "metadata": {},
   "source": [
    "### 1.2.7 Максимальный элемент списка (для чисел)"
   ]
  },
  {
   "cell_type": "code",
   "execution_count": 73,
   "id": "cb1385e3",
   "metadata": {},
   "outputs": [
    {
     "data": {
      "text/plain": [
       "9"
      ]
     },
     "execution_count": 73,
     "metadata": {},
     "output_type": "execute_result"
    }
   ],
   "source": [
    "max([7, 2, 9])"
   ]
  },
  {
   "cell_type": "markdown",
   "id": "bc14996e",
   "metadata": {},
   "source": [
    "### 1.2.8 Минимальный элемент списка"
   ]
  },
  {
   "cell_type": "code",
   "execution_count": 75,
   "id": "5ad165ea",
   "metadata": {},
   "outputs": [
    {
     "data": {
      "text/plain": [
       "2"
      ]
     },
     "execution_count": 75,
     "metadata": {},
     "output_type": "execute_result"
    }
   ],
   "source": [
    "min([7, 2, 9])"
   ]
  },
  {
   "cell_type": "markdown",
   "id": "1c25155d",
   "metadata": {},
   "source": [
    "### 1.2.9 Сумма элементов списка"
   ]
  },
  {
   "cell_type": "code",
   "execution_count": 76,
   "id": "e0119133",
   "metadata": {},
   "outputs": [
    {
     "data": {
      "text/plain": [
       "18"
      ]
     },
     "execution_count": 76,
     "metadata": {},
     "output_type": "execute_result"
    }
   ],
   "source": [
    "sum([2, 9, 7])"
   ]
  },
  {
   "cell_type": "markdown",
   "id": "aabd9427",
   "metadata": {},
   "source": [
    "### 1.2.10 Индекс первого вхождения элемента"
   ]
  },
  {
   "cell_type": "code",
   "execution_count": 77,
   "id": "11dcd259",
   "metadata": {},
   "outputs": [
    {
     "data": {
      "text/plain": [
       "1"
      ]
     },
     "execution_count": 77,
     "metadata": {},
     "output_type": "execute_result"
    }
   ],
   "source": [
    "[7, 2, 9].index(2)"
   ]
  },
  {
   "cell_type": "code",
   "execution_count": 78,
   "id": "137570a8",
   "metadata": {},
   "outputs": [
    {
     "ename": "ValueError",
     "evalue": "3 is not in list",
     "output_type": "error",
     "traceback": [
      "\u001b[0;31m---------------------------------------------------------------------------\u001b[0m",
      "\u001b[0;31mValueError\u001b[0m                                Traceback (most recent call last)",
      "Cell \u001b[0;32mIn [78], line 1\u001b[0m\n\u001b[0;32m----> 1\u001b[0m \u001b[43m[\u001b[49m\u001b[38;5;241;43m7\u001b[39;49m\u001b[43m,\u001b[49m\u001b[43m \u001b[49m\u001b[38;5;241;43m2\u001b[39;49m\u001b[43m,\u001b[49m\u001b[43m \u001b[49m\u001b[38;5;241;43m9\u001b[39;49m\u001b[43m]\u001b[49m\u001b[38;5;241;43m.\u001b[39;49m\u001b[43mindex\u001b[49m\u001b[43m(\u001b[49m\u001b[38;5;241;43m3\u001b[39;49m\u001b[43m)\u001b[49m\n",
      "\u001b[0;31mValueError\u001b[0m: 3 is not in list"
     ]
    }
   ],
   "source": [
    "[7, 2, 9].index(3)"
   ]
  },
  {
   "cell_type": "markdown",
   "id": "66b436d0",
   "metadata": {},
   "source": [
    "### 1.2.11 Количество элементов заданного значения"
   ]
  },
  {
   "cell_type": "code",
   "execution_count": 79,
   "id": "30125a10",
   "metadata": {},
   "outputs": [
    {
     "data": {
      "text/plain": [
       "2"
      ]
     },
     "execution_count": 79,
     "metadata": {},
     "output_type": "execute_result"
    }
   ],
   "source": [
    "[2, 7, 3, 7].count(7)"
   ]
  },
  {
   "cell_type": "markdown",
   "id": "8ceaf8c6",
   "metadata": {},
   "source": [
    "### 1.2.12 Добавить элемент в конец списка"
   ]
  },
  {
   "cell_type": "code",
   "execution_count": 80,
   "id": "c42ffc90",
   "metadata": {},
   "outputs": [
    {
     "data": {
      "text/plain": [
       "[2, 3, 7, 8]"
      ]
     },
     "execution_count": 80,
     "metadata": {},
     "output_type": "execute_result"
    }
   ],
   "source": [
    "a = [2, 3, 7]\n",
    "a.append(8)\n",
    "a"
   ]
  },
  {
   "cell_type": "markdown",
   "id": "4fbe650d",
   "metadata": {},
   "source": [
    "### 1.2.13 Добавить элементы коллекции в конец списка"
   ]
  },
  {
   "cell_type": "code",
   "execution_count": 83,
   "id": "88b5e2e6",
   "metadata": {},
   "outputs": [
    {
     "data": {
      "text/plain": [
       "[2, 3, 7, 'a', 'b', 'c']"
      ]
     },
     "execution_count": 83,
     "metadata": {},
     "output_type": "execute_result"
    }
   ],
   "source": [
    "a = [2, 3, 7]\n",
    "a.extend('abc')\n",
    "a"
   ]
  },
  {
   "cell_type": "markdown",
   "id": "46dfd8fc",
   "metadata": {},
   "source": [
    "### 1.2.14 Удалить элемент из списка по индексу"
   ]
  },
  {
   "cell_type": "code",
   "execution_count": 84,
   "id": "b6f17cbf",
   "metadata": {},
   "outputs": [
    {
     "data": {
      "text/plain": [
       "[2, 7]"
      ]
     },
     "execution_count": 84,
     "metadata": {},
     "output_type": "execute_result"
    }
   ],
   "source": [
    "a = [2, 3, 7]\n",
    "del a[1]\n",
    "a"
   ]
  },
  {
   "cell_type": "markdown",
   "id": "b54354be",
   "metadata": {},
   "source": [
    "### 1.2.15 Удалить срез элементов"
   ]
  },
  {
   "cell_type": "code",
   "execution_count": 85,
   "id": "68ba6e0f",
   "metadata": {},
   "outputs": [
    {
     "data": {
      "text/plain": [
       "[7]"
      ]
     },
     "execution_count": 85,
     "metadata": {},
     "output_type": "execute_result"
    }
   ],
   "source": [
    "a = [2, 3, 7]\n",
    "del a[:2]\n",
    "a "
   ]
  },
  {
   "cell_type": "markdown",
   "id": "94ab2884",
   "metadata": {},
   "source": [
    "### 1.2.16 Удалить все элементы"
   ]
  },
  {
   "cell_type": "code",
   "execution_count": 88,
   "id": "91950448",
   "metadata": {},
   "outputs": [
    {
     "data": {
      "text/plain": [
       "[]"
      ]
     },
     "execution_count": 88,
     "metadata": {},
     "output_type": "execute_result"
    }
   ],
   "source": [
    "a = [1, 2, 3]\n",
    "a.clear()\n",
    "a"
   ]
  },
  {
   "cell_type": "markdown",
   "id": "ac03493a",
   "metadata": {},
   "source": [
    "### 1.2.17 Скопировать список"
   ]
  },
  {
   "cell_type": "code",
   "execution_count": 90,
   "id": "f67f37f5",
   "metadata": {},
   "outputs": [
    {
     "data": {
      "text/plain": [
       "[123, 2, 3]"
      ]
     },
     "execution_count": 90,
     "metadata": {},
     "output_type": "execute_result"
    }
   ],
   "source": [
    "a = [1, 2, 3]\n",
    "b = a\n",
    "b[0] = 123\n",
    "a"
   ]
  },
  {
   "cell_type": "markdown",
   "id": "f4a07db3",
   "metadata": {},
   "source": [
    "выше пример неправильного копирования, изменив элемент одного списка мы поменяли его и в другом"
   ]
  },
  {
   "cell_type": "code",
   "execution_count": 92,
   "id": "fd45ce44",
   "metadata": {},
   "outputs": [
    {
     "data": {
      "text/plain": [
       "[1, 2, 3]"
      ]
     },
     "execution_count": 92,
     "metadata": {},
     "output_type": "execute_result"
    }
   ],
   "source": [
    "a = [1, 2, 3]\n",
    "b = a.copy()\n",
    "b[0] = 123\n",
    "a"
   ]
  },
  {
   "cell_type": "code",
   "execution_count": 93,
   "id": "4720d7b8",
   "metadata": {},
   "outputs": [
    {
     "data": {
      "text/plain": [
       "[123, 2, 3]"
      ]
     },
     "execution_count": 93,
     "metadata": {},
     "output_type": "execute_result"
    }
   ],
   "source": [
    "b"
   ]
  },
  {
   "cell_type": "markdown",
   "id": "7035b93b",
   "metadata": {},
   "source": [
    "Вместо .copy() можно использовать полный срез - a[:]"
   ]
  },
  {
   "cell_type": "markdown",
   "id": "1649521e",
   "metadata": {},
   "source": [
    "### 1.2.18 Вставить элемент в список на указаннюу позицию"
   ]
  },
  {
   "cell_type": "code",
   "execution_count": 96,
   "id": "7c8334d1",
   "metadata": {},
   "outputs": [
    {
     "data": {
      "text/plain": [
       "[8, 2, 3, 7]"
      ]
     },
     "execution_count": 96,
     "metadata": {},
     "output_type": "execute_result"
    }
   ],
   "source": [
    "a = [2, 3, 7]\n",
    "a.insert(0, 8)\n",
    "a"
   ]
  },
  {
   "cell_type": "markdown",
   "id": "ec79a4fa",
   "metadata": {},
   "source": [
    "### 1.2.19 Получить элемент из списка по индексу и, одновременно, удалить его"
   ]
  },
  {
   "cell_type": "code",
   "execution_count": 98,
   "id": "7efc3b2d",
   "metadata": {},
   "outputs": [
    {
     "data": {
      "text/plain": [
       "3"
      ]
     },
     "execution_count": 98,
     "metadata": {},
     "output_type": "execute_result"
    }
   ],
   "source": [
    "a = [2, 3, 7]\n",
    "a.pop(1)"
   ]
  },
  {
   "cell_type": "code",
   "execution_count": 99,
   "id": "b9a0e349",
   "metadata": {},
   "outputs": [
    {
     "data": {
      "text/plain": [
       "[2, 7]"
      ]
     },
     "execution_count": 99,
     "metadata": {},
     "output_type": "execute_result"
    }
   ],
   "source": [
    "a"
   ]
  },
  {
   "cell_type": "markdown",
   "id": "489eacea",
   "metadata": {},
   "source": [
    "### 1.2.20 Удалить первое вхождение значения в список"
   ]
  },
  {
   "cell_type": "code",
   "execution_count": 100,
   "id": "3e53d653",
   "metadata": {},
   "outputs": [
    {
     "data": {
      "text/plain": [
       "[2, 7]"
      ]
     },
     "execution_count": 100,
     "metadata": {},
     "output_type": "execute_result"
    }
   ],
   "source": [
    "a = [2, 3, 7]\n",
    "a.remove(3)\n",
    "a"
   ]
  },
  {
   "cell_type": "code",
   "execution_count": 101,
   "id": "a25f3a1d",
   "metadata": {},
   "outputs": [
    {
     "ename": "ValueError",
     "evalue": "list.remove(x): x not in list",
     "output_type": "error",
     "traceback": [
      "\u001b[0;31m---------------------------------------------------------------------------\u001b[0m",
      "\u001b[0;31mValueError\u001b[0m                                Traceback (most recent call last)",
      "Cell \u001b[0;32mIn [101], line 1\u001b[0m\n\u001b[0;32m----> 1\u001b[0m \u001b[43ma\u001b[49m\u001b[38;5;241;43m.\u001b[39;49m\u001b[43mremove\u001b[49m\u001b[43m(\u001b[49m\u001b[38;5;241;43m3\u001b[39;49m\u001b[43m)\u001b[49m\n\u001b[1;32m      2\u001b[0m a\n",
      "\u001b[0;31mValueError\u001b[0m: list.remove(x): x not in list"
     ]
    }
   ],
   "source": [
    "a.remove(3)\n",
    "a"
   ]
  },
  {
   "cell_type": "markdown",
   "id": "9daa48ee",
   "metadata": {},
   "source": [
    "### 1.2.21 Изменить порядок элементов на обратный"
   ]
  },
  {
   "cell_type": "code",
   "execution_count": 102,
   "id": "99e153e5",
   "metadata": {},
   "outputs": [
    {
     "data": {
      "text/plain": [
       "[7, 3, 2]"
      ]
     },
     "execution_count": 102,
     "metadata": {},
     "output_type": "execute_result"
    }
   ],
   "source": [
    "a = [2, 3, 7]\n",
    "a.reverse()\n",
    "a"
   ]
  },
  {
   "cell_type": "markdown",
   "id": "23cef4d6",
   "metadata": {},
   "source": [
    "### 1.2.22 Отсортировать список"
   ]
  },
  {
   "cell_type": "code",
   "execution_count": 104,
   "id": "c7cfa3dc",
   "metadata": {},
   "outputs": [
    {
     "data": {
      "text/plain": [
       "[2, 3, 7]"
      ]
     },
     "execution_count": 104,
     "metadata": {},
     "output_type": "execute_result"
    }
   ],
   "source": [
    "a = [3, 2, 7]\n",
    "a.sort()\n",
    "a "
   ]
  },
  {
   "cell_type": "code",
   "execution_count": 105,
   "id": "fa9a9ad4",
   "metadata": {},
   "outputs": [
    {
     "data": {
      "text/plain": [
       "[7, 3, 2]"
      ]
     },
     "execution_count": 105,
     "metadata": {},
     "output_type": "execute_result"
    }
   ],
   "source": [
    "a = [3, 2, 7]\n",
    "a.sort(reverse = True)\n",
    "a"
   ]
  },
  {
   "cell_type": "markdown",
   "id": "2a82680e",
   "metadata": {},
   "source": [
    "## 1.3 Кортежи "
   ]
  },
  {
   "cell_type": "markdown",
   "id": "8d70593b",
   "metadata": {},
   "source": [
    "Кортежи очень похожи на списки, но в отличие от них - неизменяемые"
   ]
  },
  {
   "cell_type": "code",
   "execution_count": 106,
   "id": "a8765544",
   "metadata": {},
   "outputs": [
    {
     "name": "stdout",
     "output_type": "stream",
     "text": [
      "2 7 ('7', 'пик', 18)\n"
     ]
    }
   ],
   "source": [
    "# кортеж из двух элементов; тип элементов может быть любой\n",
    "card = ('7', 'пик')           \n",
    "          \n",
    "# пустой кортеж (из 0 элементов)\n",
    "empty = ()\n",
    " \n",
    "# кортеж из 1 элемента - запятая нужна, чтобы отличить от обычных скобок\n",
    "t = (18,)\n",
    "\n",
    "# длина, значение отдельного элемента, сложение - как у списков\n",
    "print(len(card), card[0], card + t)"
   ]
  },
  {
   "cell_type": "markdown",
   "id": "3f4aff38",
   "metadata": {},
   "source": [
    "### 1.3.1 Операции сравнения упорядоченных коллекций на примере кортежей"
   ]
  },
  {
   "cell_type": "markdown",
   "id": "4cfe9fc2",
   "metadata": {},
   "source": [
    "Упорядоченные коллекции: списки, строки, кортежи сравниваются поэлементно"
   ]
  },
  {
   "cell_type": "code",
   "execution_count": 108,
   "id": "3e839f7e",
   "metadata": {},
   "outputs": [
    {
     "data": {
      "text/plain": [
       "False"
      ]
     },
     "execution_count": 108,
     "metadata": {},
     "output_type": "execute_result"
    }
   ],
   "source": [
    "(1, 2) == (1, 3) "
   ]
  },
  {
   "cell_type": "code",
   "execution_count": 110,
   "id": "561ed0ed",
   "metadata": {},
   "outputs": [
    {
     "data": {
      "text/plain": [
       "True"
      ]
     },
     "execution_count": 110,
     "metadata": {},
     "output_type": "execute_result"
    }
   ],
   "source": [
    "(1, 2) < (1, 3) "
   ]
  },
  {
   "cell_type": "code",
   "execution_count": 111,
   "id": "69e45037",
   "metadata": {},
   "outputs": [
    {
     "data": {
      "text/plain": [
       "True"
      ]
     },
     "execution_count": 111,
     "metadata": {},
     "output_type": "execute_result"
    }
   ],
   "source": [
    "(1, 2) < (5,) "
   ]
  },
  {
   "cell_type": "code",
   "execution_count": 112,
   "id": "d5bf6510",
   "metadata": {},
   "outputs": [
    {
     "ename": "TypeError",
     "evalue": "'<' not supported between instances of 'int' and 'str'",
     "output_type": "error",
     "traceback": [
      "\u001b[0;31m---------------------------------------------------------------------------\u001b[0m",
      "\u001b[0;31mTypeError\u001b[0m                                 Traceback (most recent call last)",
      "Cell \u001b[0;32mIn [112], line 2\u001b[0m\n\u001b[1;32m      1\u001b[0m \u001b[38;5;66;03m# А вот так сравнивать нельзя: элементы кортежей разных типов\u001b[39;00m\n\u001b[0;32m----> 2\u001b[0m \u001b[43m(\u001b[49m\u001b[38;5;241;43m1\u001b[39;49m\u001b[43m,\u001b[49m\u001b[43m \u001b[49m\u001b[38;5;241;43m2\u001b[39;49m\u001b[43m)\u001b[49m\u001b[43m \u001b[49m\u001b[38;5;241;43m<\u001b[39;49m\u001b[43m \u001b[49m\u001b[43m(\u001b[49m\u001b[38;5;124;43m'\u001b[39;49m\u001b[38;5;124;43m7\u001b[39;49m\u001b[38;5;124;43m'\u001b[39;49m\u001b[43m,\u001b[49m\u001b[43m \u001b[49m\u001b[38;5;124;43m'\u001b[39;49m\u001b[38;5;124;43mпик\u001b[39;49m\u001b[38;5;124;43m'\u001b[39;49m\u001b[43m)\u001b[49m\n",
      "\u001b[0;31mTypeError\u001b[0m: '<' not supported between instances of 'int' and 'str'"
     ]
    }
   ],
   "source": [
    "# А вот так сравнивать нельзя: элементы кортежей разных типов\n",
    "(1, 2) < ('7', 'пик') "
   ]
  },
  {
   "cell_type": "markdown",
   "id": "b36a33a8",
   "metadata": {},
   "source": [
    "## 1.4 Множества "
   ]
  },
  {
   "cell_type": "markdown",
   "id": "06e9e965",
   "metadata": {},
   "source": [
    "Множество - это набор уникальных (доступных только в одном экземпляре) неупорядоченных элементов"
   ]
  },
  {
   "cell_type": "markdown",
   "id": "aaa5e13d",
   "metadata": {},
   "source": [
    "### 1.4.1 Создание множества"
   ]
  },
  {
   "cell_type": "code",
   "execution_count": 116,
   "id": "48ea9bb6",
   "metadata": {},
   "outputs": [
    {
     "data": {
      "text/plain": [
       "{'cat', 'dog', 'elephant', 'fox'}"
      ]
     },
     "execution_count": 116,
     "metadata": {},
     "output_type": "execute_result"
    }
   ],
   "source": [
    "mammals = {'cat', 'dog', 'fox', 'elephant'} \n",
    "mammals"
   ]
  },
  {
   "cell_type": "code",
   "execution_count": 120,
   "id": "47cf4c4c",
   "metadata": {},
   "outputs": [
    {
     "data": {
      "text/plain": [
       "set()"
      ]
     },
     "execution_count": 120,
     "metadata": {},
     "output_type": "execute_result"
    }
   ],
   "source": [
    "a = set()   # пустое множество\n",
    "a"
   ]
  },
  {
   "cell_type": "code",
   "execution_count": 121,
   "id": "f9854525",
   "metadata": {},
   "outputs": [
    {
     "data": {
      "text/plain": [
       "{12, 3, 4, 5, 'cat', 'dog', 'elephant', 'fox'}"
      ]
     },
     "execution_count": 121,
     "metadata": {},
     "output_type": "execute_result"
    }
   ],
   "source": [
    "mammals_and_numbers = {'cat', 5, 'dog', 3, 'fox', 12, 'elephant', 4}\n",
    "mammals_and_numbers"
   ]
  },
  {
   "cell_type": "markdown",
   "id": "91e164d6",
   "metadata": {},
   "source": [
    "### 1.4.2 Число элементов множества"
   ]
  },
  {
   "cell_type": "code",
   "execution_count": 122,
   "id": "4f66266d",
   "metadata": {},
   "outputs": [
    {
     "data": {
      "text/plain": [
       "4"
      ]
     },
     "execution_count": 122,
     "metadata": {},
     "output_type": "execute_result"
    }
   ],
   "source": [
    "a = {1, 2, 3, 1, 'abc'}\n",
    "len(a)"
   ]
  },
  {
   "cell_type": "markdown",
   "id": "fa9f1699",
   "metadata": {},
   "source": [
    "### 1.4.3 Перебор элементов множества"
   ]
  },
  {
   "cell_type": "code",
   "execution_count": 123,
   "id": "6d1b8ef9",
   "metadata": {},
   "outputs": [
    {
     "name": "stdout",
     "output_type": "stream",
     "text": [
      "b\n",
      "a\n",
      "c\n"
     ]
    }
   ],
   "source": [
    "my_set = {'a', 'b', 'c'}\n",
    "for elem in my_set:\n",
    "    print(elem)"
   ]
  },
  {
   "cell_type": "markdown",
   "id": "5d7323cb",
   "metadata": {},
   "source": [
    "### 1.4.4 Вхождение элемента в множество"
   ]
  },
  {
   "cell_type": "code",
   "execution_count": 125,
   "id": "5fa375ee",
   "metadata": {},
   "outputs": [
    {
     "data": {
      "text/plain": [
       "True"
      ]
     },
     "execution_count": 125,
     "metadata": {},
     "output_type": "execute_result"
    }
   ],
   "source": [
    "mammals = {'cat', 'dog', 'fox', 'elephant'} \n",
    "'cat' in mammals"
   ]
  },
  {
   "cell_type": "markdown",
   "id": "d611f32a",
   "metadata": {},
   "source": [
    "### 1.4.5 Добавление элемнета в множество"
   ]
  },
  {
   "cell_type": "code",
   "execution_count": 126,
   "id": "1de96ccb",
   "metadata": {},
   "outputs": [
    {
     "data": {
      "text/plain": [
       "{'cat', 'dog', 'elephant', 'fox', 'whale'}"
      ]
     },
     "execution_count": 126,
     "metadata": {},
     "output_type": "execute_result"
    }
   ],
   "source": [
    "mammals = {'cat', 'dog', 'fox', 'elephant'} \n",
    "mammals.add('whale')\n",
    "mammals"
   ]
  },
  {
   "cell_type": "markdown",
   "id": "c62764d1",
   "metadata": {},
   "source": [
    "### 1.4.6 Очистка множества"
   ]
  },
  {
   "cell_type": "code",
   "execution_count": 128,
   "id": "862e886c",
   "metadata": {},
   "outputs": [
    {
     "data": {
      "text/plain": [
       "set()"
      ]
     },
     "execution_count": 128,
     "metadata": {},
     "output_type": "execute_result"
    }
   ],
   "source": [
    "mammals.clear()\n",
    "mammals"
   ]
  },
  {
   "cell_type": "markdown",
   "id": "cb9b0ab5",
   "metadata": {},
   "source": [
    "### 1.4.7 Удаление элемента из множества"
   ]
  },
  {
   "cell_type": "code",
   "execution_count": 129,
   "id": "402d8427",
   "metadata": {},
   "outputs": [
    {
     "name": "stdout",
     "output_type": "stream",
     "text": [
      "до удаления: {'b', 'a', 'c'}\n",
      "удалённый элемент: b\n",
      "после удаления: {'a', 'c'}\n"
     ]
    }
   ],
   "source": [
    "my_set = {'a', 'b', 'c'}\n",
    "print('до удаления:', my_set)\n",
    "elem = my_set.pop()\n",
    "print('удалённый элемент:', elem)\n",
    "print('после удаления:', my_set)"
   ]
  },
  {
   "cell_type": "markdown",
   "id": "bdb85cd4",
   "metadata": {},
   "source": [
    "### 1.4.8 Операции над множествами"
   ]
  },
  {
   "cell_type": "markdown",
   "id": "1dc722df",
   "metadata": {},
   "source": [
    "#### 1.4.8.1 Объединение"
   ]
  },
  {
   "attachments": {
    "image.png": {
     "image/png": "[encoded data removed]"
    }
   },
   "cell_type": "markdown",
   "id": "394529b5",
   "metadata": {},
   "source": [
    "![image.png](attachment:image.png)"
   ]
  },
  {
   "cell_type": "code",
   "execution_count": 132,
   "id": "0a915f56",
   "metadata": {},
   "outputs": [],
   "source": [
    "my_set1 = {1, 2, 3}\n",
    "my_set2 = {3, 4, 5}"
   ]
  },
  {
   "cell_type": "code",
   "execution_count": 133,
   "id": "1c6e90e1",
   "metadata": {},
   "outputs": [
    {
     "data": {
      "text/plain": [
       "{1, 2, 3, 4, 5}"
      ]
     },
     "execution_count": 133,
     "metadata": {},
     "output_type": "execute_result"
    }
   ],
   "source": [
    "my_set1.union(my_set2)"
   ]
  },
  {
   "cell_type": "code",
   "execution_count": 134,
   "id": "c73c380d",
   "metadata": {},
   "outputs": [
    {
     "data": {
      "text/plain": [
       "{1, 2, 3, 4, 5}"
      ]
     },
     "execution_count": 134,
     "metadata": {},
     "output_type": "execute_result"
    }
   ],
   "source": [
    "my_set1 | my_set2"
   ]
  },
  {
   "cell_type": "markdown",
   "id": "f781235a",
   "metadata": {},
   "source": [
    "#### 1.4.8.2 Пересечение"
   ]
  },
  {
   "attachments": {
    "image.png": {
     "image/png": "[encoded data removed]"
    }
   },
   "cell_type": "markdown",
   "id": "3be19a7a",
   "metadata": {},
   "source": [
    "![image.png](attachment:image.png)"
   ]
  },
  {
   "cell_type": "code",
   "execution_count": 135,
   "id": "17b99fdb",
   "metadata": {},
   "outputs": [
    {
     "data": {
      "text/plain": [
       "{3}"
      ]
     },
     "execution_count": 135,
     "metadata": {},
     "output_type": "execute_result"
    }
   ],
   "source": [
    "my_set1.intersection(my_set2)"
   ]
  },
  {
   "cell_type": "code",
   "execution_count": 136,
   "id": "63f2c0cd",
   "metadata": {},
   "outputs": [
    {
     "data": {
      "text/plain": [
       "{3}"
      ]
     },
     "execution_count": 136,
     "metadata": {},
     "output_type": "execute_result"
    }
   ],
   "source": [
    "my_set1 & my_set2"
   ]
  },
  {
   "cell_type": "markdown",
   "id": "27d2deb8",
   "metadata": {},
   "source": [
    "#### 1.4.8.3 Разность"
   ]
  },
  {
   "attachments": {
    "image.png": {
     "image/png": "[encoded data removed]"
    }
   },
   "cell_type": "markdown",
   "id": "12322442",
   "metadata": {},
   "source": [
    "![image.png](attachment:image.png)"
   ]
  },
  {
   "cell_type": "code",
   "execution_count": 137,
   "id": "f217408d",
   "metadata": {},
   "outputs": [
    {
     "data": {
      "text/plain": [
       "{1, 2}"
      ]
     },
     "execution_count": 137,
     "metadata": {},
     "output_type": "execute_result"
    }
   ],
   "source": [
    "my_set1.difference(my_set2)"
   ]
  },
  {
   "cell_type": "code",
   "execution_count": 138,
   "id": "bd9e6085",
   "metadata": {},
   "outputs": [
    {
     "data": {
      "text/plain": [
       "{4, 5}"
      ]
     },
     "execution_count": 138,
     "metadata": {},
     "output_type": "execute_result"
    }
   ],
   "source": [
    "my_set2 - my_set1"
   ]
  },
  {
   "cell_type": "markdown",
   "id": "c77ab619",
   "metadata": {},
   "source": [
    "#### 1.4.8.4 Симметричная разность"
   ]
  },
  {
   "attachments": {
    "image.png": {
     "image/png": "[encoded data removed]"
    }
   },
   "cell_type": "markdown",
   "id": "10a81cd1",
   "metadata": {},
   "source": [
    "![image.png](attachment:image.png)"
   ]
  },
  {
   "cell_type": "code",
   "execution_count": 139,
   "id": "ed297fc2",
   "metadata": {},
   "outputs": [
    {
     "data": {
      "text/plain": [
       "{1, 2, 4, 5}"
      ]
     },
     "execution_count": 139,
     "metadata": {},
     "output_type": "execute_result"
    }
   ],
   "source": [
    "my_set1.symmetric_difference(my_set2)"
   ]
  },
  {
   "cell_type": "code",
   "execution_count": 140,
   "id": "e569018b",
   "metadata": {},
   "outputs": [
    {
     "data": {
      "text/plain": [
       "{1, 2, 4, 5}"
      ]
     },
     "execution_count": 140,
     "metadata": {},
     "output_type": "execute_result"
    }
   ],
   "source": [
    "my_set1 ^ my_set2"
   ]
  },
  {
   "cell_type": "markdown",
   "id": "0112a5d3",
   "metadata": {},
   "source": [
    "## 1.5 Словари"
   ]
  },
  {
   "cell_type": "markdown",
   "id": "22520724",
   "metadata": {},
   "source": [
    "Словари - это неупорядоченная коллекция элементов вида ключ-значение."
   ]
  },
  {
   "cell_type": "markdown",
   "id": "c736e0a8",
   "metadata": {},
   "source": [
    "### 1.5.1 Создание словаря"
   ]
  },
  {
   "cell_type": "code",
   "execution_count": 145,
   "id": "f74c5d8f",
   "metadata": {},
   "outputs": [
    {
     "data": {
      "text/plain": [
       "{'Джонни Депп': 'Джон Кристофер Депп Второй родился 9 июня 1963 года в Овенсборо, Кентукки...',\n",
       " 'Сильвестр Сталлоне': 'Сильвестр Гарденцио Сталлоне родился в Нью-Йорке. Его отец, парикмахер Фрэнк Сталлоне — иммигрант из Сицилии...',\n",
       " 'Эмма Уотсон': 'Эмма Шарлотта Дуерр Уотсон родилась в семье английских адвокатов. В пять лет переехала вместе с семьей из Парижа в Англию...'}"
      ]
     },
     "execution_count": 145,
     "metadata": {},
     "output_type": "execute_result"
    }
   ],
   "source": [
    "actors = {\n",
    " 'Джонни Депп': 'Джон Кристофер Депп Второй родился 9 июня 1963 года '\n",
    "                'в Овенсборо, Кентукки...',\n",
    " 'Сильвестр Сталлоне': 'Сильвестр Гарденцио Сталлоне родился в Нью-Йорке. '\n",
    "                       'Его отец, парикмахер Фрэнк Сталлоне — иммигрант из Сицилии...',\n",
    " 'Эмма Уотсон': 'Эмма Шарлотта Дуерр Уотсон родилась в семье английских адвокатов. '\n",
    "                'В пять лет переехала вместе с семьей из Парижа в Англию...',\n",
    " }\n",
    "actors"
   ]
  },
  {
   "cell_type": "code",
   "execution_count": 144,
   "id": "9b8deafe",
   "metadata": {},
   "outputs": [],
   "source": [
    "# пустой словарь\n",
    "d = dict()\n",
    "# или так\n",
    "d = {}"
   ]
  },
  {
   "cell_type": "markdown",
   "id": "322868c7",
   "metadata": {},
   "source": [
    "### 1.5.2 Обращение к элементу словаря"
   ]
  },
  {
   "cell_type": "code",
   "execution_count": 146,
   "id": "123a012e",
   "metadata": {},
   "outputs": [
    {
     "data": {
      "text/plain": [
       "'Эмма Шарлотта Дуерр Уотсон родилась в семье английских адвокатов. В пять лет переехала вместе с семьей из Парижа в Англию...'"
      ]
     },
     "execution_count": 146,
     "metadata": {},
     "output_type": "execute_result"
    }
   ],
   "source": [
    "actors['Эмма Уотсон']"
   ]
  },
  {
   "cell_type": "code",
   "execution_count": 147,
   "id": "c3ea5500",
   "metadata": {},
   "outputs": [
    {
     "ename": "KeyError",
     "evalue": "'Несуществующий ключ'",
     "output_type": "error",
     "traceback": [
      "\u001b[0;31m---------------------------------------------------------------------------\u001b[0m",
      "\u001b[0;31mKeyError\u001b[0m                                  Traceback (most recent call last)",
      "Cell \u001b[0;32mIn [147], line 1\u001b[0m\n\u001b[0;32m----> 1\u001b[0m \u001b[43mactors\u001b[49m\u001b[43m[\u001b[49m\u001b[38;5;124;43m'\u001b[39;49m\u001b[38;5;124;43mНесуществующий ключ\u001b[39;49m\u001b[38;5;124;43m'\u001b[39;49m\u001b[43m]\u001b[49m\n",
      "\u001b[0;31mKeyError\u001b[0m: 'Несуществующий ключ'"
     ]
    }
   ],
   "source": [
    "actors['Несуществующий ключ']"
   ]
  },
  {
   "cell_type": "markdown",
   "id": "9e728a50",
   "metadata": {},
   "source": [
    "### 1.5.3 Добавление и удаление элементов"
   ]
  },
  {
   "cell_type": "code",
   "execution_count": 149,
   "id": "02b1482f",
   "metadata": {},
   "outputs": [
    {
     "data": {
      "text/plain": [
       "{'Джонни Депп': 'Джон Кристофер Депп Второй родился 9 июня 1963 года в Овенсборо, Кентукки...',\n",
       " 'Сильвестр Сталлоне': 'Сильвестр Гарденцио Сталлоне родился в Нью-Йорке. Его отец, парикмахер Фрэнк Сталлоне — иммигрант из Сицилии...',\n",
       " 'Эмма Уотсон': 'Новый текст статьи об Эмме Уотсон'}"
      ]
     },
     "execution_count": 149,
     "metadata": {},
     "output_type": "execute_result"
    }
   ],
   "source": [
    "actors['Эмма Уотсон'] = 'Новый текст статьи об Эмме Уотсон'\n",
    "actors"
   ]
  },
  {
   "cell_type": "code",
   "execution_count": 150,
   "id": "dad2cee4",
   "metadata": {},
   "outputs": [
    {
     "data": {
      "text/plain": [
       "{'Джонни Депп': 'Джон Кристофер Депп Второй родился 9 июня 1963 года в Овенсборо, Кентукки...',\n",
       " 'Сильвестр Сталлоне': 'Сильвестр Гарденцио Сталлоне родился в Нью-Йорке. Его отец, парикмахер Фрэнк Сталлоне — иммигрант из Сицилии...',\n",
       " 'Эмма Уотсон': 'Новый текст статьи об Эмме Уотсон',\n",
       " 'Брэд Питт': 'Уильям Брэдли Питт, более известный как Брэд Питт — американский актёр и продюсер. Лауреат премии «Золотой глобус» за 1995 год, ...'}"
      ]
     },
     "execution_count": 150,
     "metadata": {},
     "output_type": "execute_result"
    }
   ],
   "source": [
    "actors['Брэд Питт'] = 'Уильям Брэдли Питт, более известный как Брэд Питт — ' \\\n",
    "                      'американский актёр и продюсер. ' \\\n",
    "                      'Лауреат премии «Золотой глобус» за 1995 год, ...'\n",
    "actors"
   ]
  },
  {
   "cell_type": "code",
   "execution_count": 151,
   "id": "a1bf8a59",
   "metadata": {},
   "outputs": [
    {
     "ename": "KeyError",
     "evalue": "'Джонни Депп'",
     "output_type": "error",
     "traceback": [
      "\u001b[0;31m---------------------------------------------------------------------------\u001b[0m",
      "\u001b[0;31mKeyError\u001b[0m                                  Traceback (most recent call last)",
      "Cell \u001b[0;32mIn [151], line 2\u001b[0m\n\u001b[1;32m      1\u001b[0m \u001b[38;5;28;01mdel\u001b[39;00m actors[\u001b[38;5;124m'\u001b[39m\u001b[38;5;124mДжонни Депп\u001b[39m\u001b[38;5;124m'\u001b[39m]\n\u001b[0;32m----> 2\u001b[0m \u001b[43mactors\u001b[49m\u001b[43m[\u001b[49m\u001b[38;5;124;43m'\u001b[39;49m\u001b[38;5;124;43mДжонни Депп\u001b[39;49m\u001b[38;5;124;43m'\u001b[39;49m\u001b[43m]\u001b[49m\n",
      "\u001b[0;31mKeyError\u001b[0m: 'Джонни Депп'"
     ]
    }
   ],
   "source": [
    "del actors['Джонни Депп']\n",
    "actors['Джонни Депп']"
   ]
  },
  {
   "cell_type": "code",
   "execution_count": 152,
   "id": "31fcba3d",
   "metadata": {},
   "outputs": [
    {
     "data": {
      "text/plain": [
       "{'Сильвестр Сталлоне': 'Сильвестр Гарденцио Сталлоне родился в Нью-Йорке. Его отец, парикмахер Фрэнк Сталлоне — иммигрант из Сицилии...',\n",
       " 'Эмма Уотсон': 'Новый текст статьи об Эмме Уотсон',\n",
       " 'Брэд Питт': 'Уильям Брэдли Питт, более известный как Брэд Питт — американский актёр и продюсер. Лауреат премии «Золотой глобус» за 1995 год, ...'}"
      ]
     },
     "execution_count": 152,
     "metadata": {},
     "output_type": "execute_result"
    }
   ],
   "source": [
    "actors"
   ]
  },
  {
   "cell_type": "markdown",
   "id": "60a63c67",
   "metadata": {},
   "source": [
    "### 1.5.4 Проверка наличия элементов в словаре"
   ]
  },
  {
   "cell_type": "code",
   "execution_count": 153,
   "id": "6d67fd9a",
   "metadata": {},
   "outputs": [
    {
     "name": "stdout",
     "output_type": "stream",
     "text": [
      "У нас есть статья про Сильвестра Сталлоне\n"
     ]
    }
   ],
   "source": [
    "if 'Сильвестр Сталлоне' in actors:\n",
    "    print('У нас есть статья про Сильвестра Сталлоне')"
   ]
  },
  {
   "cell_type": "code",
   "execution_count": 154,
   "id": "53be6538",
   "metadata": {},
   "outputs": [
    {
     "name": "stdout",
     "output_type": "stream",
     "text": [
      "У нас нет статьи о Сергее Безрукове\n"
     ]
    }
   ],
   "source": [
    "if 'Сергей Безруков' not in actors:\n",
    "    print('У нас нет статьи о Сергее Безрукове')"
   ]
  },
  {
   "cell_type": "markdown",
   "id": "f6b04419",
   "metadata": {},
   "source": [
    "### 1.5.5 Нестроковые ключи"
   ]
  },
  {
   "cell_type": "markdown",
   "id": "db1829f2",
   "metadata": {},
   "source": [
    "Ключи могут быть не только строками, но и числами и даже кортежами"
   ]
  },
  {
   "cell_type": "code",
   "execution_count": 157,
   "id": "1786d798",
   "metadata": {},
   "outputs": [
    {
     "data": {
      "text/plain": [
       "{1: 4, 10: 3, 6: 1, 4: 2, 2: 2}"
      ]
     },
     "execution_count": 157,
     "metadata": {},
     "output_type": "execute_result"
    }
   ],
   "source": [
    "numbers = [1, 10, 1, 6, 4, 10, 4, 2, 2, 1, 10, 1]\n",
    "counts = {}\n",
    "for number in numbers:\n",
    "    if number not in counts:\n",
    "        counts[number] = 1\n",
    "    else:\n",
    "        counts[number] += 1\n",
    "counts"
   ]
  },
  {
   "cell_type": "markdown",
   "id": "dd5d8a3e",
   "metadata": {},
   "source": [
    "### 1.5.6 Методы словарей"
   ]
  },
  {
   "cell_type": "markdown",
   "id": "b6f02724",
   "metadata": {},
   "source": [
    "#### 1.5.6.1 Ключи"
   ]
  },
  {
   "cell_type": "code",
   "execution_count": 160,
   "id": "2a1b7745",
   "metadata": {},
   "outputs": [
    {
     "data": {
      "text/plain": [
       "dict_keys(['Сильвестр Сталлоне', 'Эмма Уотсон', 'Брэд Питт'])"
      ]
     },
     "execution_count": 160,
     "metadata": {},
     "output_type": "execute_result"
    }
   ],
   "source": [
    "actors.keys()"
   ]
  },
  {
   "cell_type": "code",
   "execution_count": 161,
   "id": "e238fd09",
   "metadata": {},
   "outputs": [
    {
     "data": {
      "text/plain": [
       "['Сильвестр Сталлоне', 'Эмма Уотсон', 'Брэд Питт']"
      ]
     },
     "execution_count": 161,
     "metadata": {},
     "output_type": "execute_result"
    }
   ],
   "source": [
    "list(actors.keys())"
   ]
  },
  {
   "cell_type": "markdown",
   "id": "5423ac8f",
   "metadata": {},
   "source": [
    "#### 1.5.6.2 Значения"
   ]
  },
  {
   "cell_type": "code",
   "execution_count": 162,
   "id": "21a688d1",
   "metadata": {},
   "outputs": [
    {
     "data": {
      "text/plain": [
       "['Сильвестр Гарденцио Сталлоне родился в Нью-Йорке. Его отец, парикмахер Фрэнк Сталлоне — иммигрант из Сицилии...',\n",
       " 'Новый текст статьи об Эмме Уотсон',\n",
       " 'Уильям Брэдли Питт, более известный как Брэд Питт — американский актёр и продюсер. Лауреат премии «Золотой глобус» за 1995 год, ...']"
      ]
     },
     "execution_count": 162,
     "metadata": {},
     "output_type": "execute_result"
    }
   ],
   "source": [
    "list(actors.values())"
   ]
  },
  {
   "cell_type": "markdown",
   "id": "698ac2a5",
   "metadata": {},
   "source": [
    "#### 1.5.6.3 Элементы, перебор"
   ]
  },
  {
   "cell_type": "code",
   "execution_count": 165,
   "id": "55177d9f",
   "metadata": {},
   "outputs": [
    {
     "name": "stdout",
     "output_type": "stream",
     "text": [
      "Сильвестр Сталлоне. Сильвестр Гарденцио Сталлоне родился в Нью-Йорке. Его отец, парикмахер Фрэнк Сталлоне — иммигрант из Сицилии...\n",
      "Эмма Уотсон. Новый текст статьи об Эмме Уотсон\n",
      "Брэд Питт. Уильям Брэдли Питт, более известный как Брэд Питт — американский актёр и продюсер. Лауреат премии «Золотой глобус» за 1995 год, ...\n"
     ]
    }
   ],
   "source": [
    "for actor_name, article in actors.items():\n",
    "    print(actor_name + '.', article)"
   ]
  },
  {
   "cell_type": "markdown",
   "id": "d750f3db",
   "metadata": {},
   "source": [
    "# 2. Работа с файлами "
   ]
  },
  {
   "cell_type": "markdown",
   "id": "261b1968",
   "metadata": {},
   "source": [
    "Файл (англ. file) — именованная область данных на носителе информации."
   ]
  },
  {
   "cell_type": "markdown",
   "id": "d5c93ce0",
   "metadata": {},
   "source": [
    "## 2.1 Типы файлов, бинарные и текстовые "
   ]
  },
  {
   "cell_type": "markdown",
   "id": "3a4e3277",
   "metadata": {},
   "source": [
    "Все файлы на диске — последовательность байт. Операционной системе все равно, какой смысл у содержимого файла: это видео, чертеж, картинка, текстовый документ и т. д. Все это остается в компетенции прикладной программы.\n",
    "\n",
    "Единственное исключение сделано для текстовых файлов, потому что их состав максимально прост (до внедрения Юникода одному символу соответствовал 1 байт). Поэтому если программа знает, что файл текстовый, то сразу читает из файла символы, а не поток байт.\n",
    "\n",
    "Таким образом, все файлы искусственно разделены на текстовые и бинарные."
   ]
  },
  {
   "cell_type": "code",
   "execution_count": 167,
   "id": "51ef3e94",
   "metadata": {},
   "outputs": [
    {
     "name": "stdout",
     "output_type": "stream",
     "text": [
      "Help on built-in function open in module io:\n",
      "\n",
      "open(file, mode='r', buffering=-1, encoding=None, errors=None, newline=None, closefd=True, opener=None)\n",
      "    Open file and return a stream.  Raise OSError upon failure.\n",
      "    \n",
      "    file is either a text or byte string giving the name (and the path\n",
      "    if the file isn't in the current working directory) of the file to\n",
      "    be opened or an integer file descriptor of the file to be\n",
      "    wrapped. (If a file descriptor is given, it is closed when the\n",
      "    returned I/O object is closed, unless closefd is set to False.)\n",
      "    \n",
      "    mode is an optional string that specifies the mode in which the file\n",
      "    is opened. It defaults to 'r' which means open for reading in text\n",
      "    mode.  Other common values are 'w' for writing (truncating the file if\n",
      "    it already exists), 'x' for creating and writing to a new file, and\n",
      "    'a' for appending (which on some Unix systems, means that all writes\n",
      "    append to the end of the file regardless of the current seek position).\n",
      "    In text mode, if encoding is not specified the encoding used is platform\n",
      "    dependent: locale.getpreferredencoding(False) is called to get the\n",
      "    current locale encoding. (For reading and writing raw bytes use binary\n",
      "    mode and leave encoding unspecified.) The available modes are:\n",
      "    \n",
      "    ========= ===============================================================\n",
      "    Character Meaning\n",
      "    --------- ---------------------------------------------------------------\n",
      "    'r'       open for reading (default)\n",
      "    'w'       open for writing, truncating the file first\n",
      "    'x'       create a new file and open it for writing\n",
      "    'a'       open for writing, appending to the end of the file if it exists\n",
      "    'b'       binary mode\n",
      "    't'       text mode (default)\n",
      "    '+'       open a disk file for updating (reading and writing)\n",
      "    'U'       universal newline mode (deprecated)\n",
      "    ========= ===============================================================\n",
      "    \n",
      "    The default mode is 'rt' (open for reading text). For binary random\n",
      "    access, the mode 'w+b' opens and truncates the file to 0 bytes, while\n",
      "    'r+b' opens the file without truncation. The 'x' mode implies 'w' and\n",
      "    raises an `FileExistsError` if the file already exists.\n",
      "    \n",
      "    Python distinguishes between files opened in binary and text modes,\n",
      "    even when the underlying operating system doesn't. Files opened in\n",
      "    binary mode (appending 'b' to the mode argument) return contents as\n",
      "    bytes objects without any decoding. In text mode (the default, or when\n",
      "    't' is appended to the mode argument), the contents of the file are\n",
      "    returned as strings, the bytes having been first decoded using a\n",
      "    platform-dependent encoding or using the specified encoding if given.\n",
      "    \n",
      "    'U' mode is deprecated and will raise an exception in future versions\n",
      "    of Python.  It has no effect in Python 3.  Use newline to control\n",
      "    universal newlines mode.\n",
      "    \n",
      "    buffering is an optional integer used to set the buffering policy.\n",
      "    Pass 0 to switch buffering off (only allowed in binary mode), 1 to select\n",
      "    line buffering (only usable in text mode), and an integer > 1 to indicate\n",
      "    the size of a fixed-size chunk buffer.  When no buffering argument is\n",
      "    given, the default buffering policy works as follows:\n",
      "    \n",
      "    * Binary files are buffered in fixed-size chunks; the size of the buffer\n",
      "      is chosen using a heuristic trying to determine the underlying device's\n",
      "      \"block size\" and falling back on `io.DEFAULT_BUFFER_SIZE`.\n",
      "      On many systems, the buffer will typically be 4096 or 8192 bytes long.\n",
      "    \n",
      "    * \"Interactive\" text files (files for which isatty() returns True)\n",
      "      use line buffering.  Other text files use the policy described above\n",
      "      for binary files.\n",
      "    \n",
      "    encoding is the name of the encoding used to decode or encode the\n",
      "    file. This should only be used in text mode. The default encoding is\n",
      "    platform dependent, but any encoding supported by Python can be\n",
      "    passed.  See the codecs module for the list of supported encodings.\n",
      "    \n",
      "    errors is an optional string that specifies how encoding errors are to\n",
      "    be handled---this argument should not be used in binary mode. Pass\n",
      "    'strict' to raise a ValueError exception if there is an encoding error\n",
      "    (the default of None has the same effect), or pass 'ignore' to ignore\n",
      "    errors. (Note that ignoring encoding errors can lead to data loss.)\n",
      "    See the documentation for codecs.register or run 'help(codecs.Codec)'\n",
      "    for a list of the permitted encoding error strings.\n",
      "    \n",
      "    newline controls how universal newlines works (it only applies to text\n",
      "    mode). It can be None, '', '\\n', '\\r', and '\\r\\n'.  It works as\n",
      "    follows:\n",
      "    \n",
      "    * On input, if newline is None, universal newlines mode is\n",
      "      enabled. Lines in the input can end in '\\n', '\\r', or '\\r\\n', and\n",
      "      these are translated into '\\n' before being returned to the\n",
      "      caller. If it is '', universal newline mode is enabled, but line\n",
      "      endings are returned to the caller untranslated. If it has any of\n",
      "      the other legal values, input lines are only terminated by the given\n",
      "      string, and the line ending is returned to the caller untranslated.\n",
      "    \n",
      "    * On output, if newline is None, any '\\n' characters written are\n",
      "      translated to the system default line separator, os.linesep. If\n",
      "      newline is '' or '\\n', no translation takes place. If newline is any\n",
      "      of the other legal values, any '\\n' characters written are translated\n",
      "      to the given string.\n",
      "    \n",
      "    If closefd is False, the underlying file descriptor will be kept open\n",
      "    when the file is closed. This does not work when a file name is given\n",
      "    and must be True in that case.\n",
      "    \n",
      "    A custom opener can be used by passing a callable as *opener*. The\n",
      "    underlying file descriptor for the file object is then obtained by\n",
      "    calling *opener* with (*file*, *flags*). *opener* must return an open\n",
      "    file descriptor (passing os.open as *opener* results in functionality\n",
      "    similar to passing None).\n",
      "    \n",
      "    open() returns a file object whose type depends on the mode, and\n",
      "    through which the standard file operations such as reading and writing\n",
      "    are performed. When open() is used to open a file in a text mode ('w',\n",
      "    'r', 'wt', 'rt', etc.), it returns a TextIOWrapper. When used to open\n",
      "    a file in a binary mode, the returned class varies: in read binary\n",
      "    mode, it returns a BufferedReader; in write binary and append binary\n",
      "    modes, it returns a BufferedWriter, and in read/write mode, it returns\n",
      "    a BufferedRandom.\n",
      "    \n",
      "    It is also possible to use a string or bytearray as a file for both\n",
      "    reading and writing. For strings StringIO can be used like a file\n",
      "    opened in a text mode, and for bytes a BytesIO can be used like a file\n",
      "    opened in a binary mode.\n",
      "\n"
     ]
    }
   ],
   "source": [
    "help(open)\n"
   ]
  },
  {
   "cell_type": "markdown",
   "id": "4435acac",
   "metadata": {},
   "source": [
    "Для открытия используется функция **open()**\n",
    "\n",
    "\n",
    "-**file** — имя открываемого файла.   \n",
    "Оно может быть задано с использованием и относительных и абсолютных путей  \n",
    "-**mode** — режим открытия.   \n",
    "r (или rt) — чтение в текстовом режиме, rb — чтение в бинарном режиме, w — запись, wb — запись в бинарном режиме. По умолчанию файл открывается в режиме r. Дописать в файл в текстовом режиме можно с помощью w+.  \n",
    "-**encoding** — если работа идет в текстовом режиме, Python должен получить имя кодировки, чтобы корректно работать с данными. Независимо от кодировки файла, в результате чтения будет возвращаться стандартная юникод-строка Python"
   ]
  },
  {
   "cell_type": "markdown",
   "id": "f7089fd9",
   "metadata": {},
   "source": [
    "## 2.2 .txt"
   ]
  },
  {
   "cell_type": "code",
   "execution_count": 168,
   "id": "bb707d2b",
   "metadata": {},
   "outputs": [
    {
     "name": "stdout",
     "output_type": "stream",
     "text": [
      "b'\\xd0\\xa2\\xd0\\xb5\\xd0\\xb1\\xd0\\xb5 \\xe2\\x80\\x94 \\xd0\\xbd\\xd0\\xbe \\xd0\\xb3'\n"
     ]
    }
   ],
   "source": [
    "f = open(\"Полтава.txt\", mode=\"rb\")\n",
    "print(f.read(20))\n",
    "f.close()"
   ]
  },
  {
   "cell_type": "code",
   "execution_count": 170,
   "id": "6571edb8",
   "metadata": {},
   "outputs": [
    {
     "name": "stdout",
     "output_type": "stream",
     "text": [
      "Полтава.txt\n",
      "True\n",
      "20\n",
      "False\n",
      "True\n",
      "rb\n"
     ]
    }
   ],
   "source": [
    "f = open(\"Полтава.txt\", mode=\"rb\")\n",
    "f.read(20)\n",
    "print(f.name)\n",
    "print(f.readable())\n",
    "print(f.tell())\n",
    "print(f.writable())\n",
    "print(f.seekable())\n",
    "print(f.mode)\n",
    "f.close()"
   ]
  },
  {
   "cell_type": "code",
   "execution_count": 171,
   "id": "0993ccfb",
   "metadata": {},
   "outputs": [
    {
     "name": "stdout",
     "output_type": "stream",
     "text": [
      "Тебе — но голос музы тёмной\n",
      "Коснется ль уха твоего?\n",
      "Поймешь ли ты душою скромной\n",
      "Стремленье сердца м\n",
      "183\n",
      "1245\n",
      "рд,\n",
      "Не родовыми хуторами,\n",
      "Прекрасной дочерью своей\n",
      "Гордится старый Кочубей.\n",
      "И то сказать: в Полтаве \n",
      "1426\n"
     ]
    }
   ],
   "source": [
    "f = open(\"Полтава.txt\", encoding=\"utf-8\")\n",
    "print(f.read(100))\n",
    "print(f.tell())\n",
    "print(f.seek(1245))\n",
    "print(f.read(100))\n",
    "print(f.tell())\n",
    "f.close()"
   ]
  },
  {
   "cell_type": "markdown",
   "id": "e6f0282f",
   "metadata": {},
   "source": [
    "Метод **tell** возвращает позицию в байтах от начала файла, а метод **seek** изменяет ее (перематывает) на заданную позицию. Использование seek с текстовыми файлами затруднено из-за несоответствия номера байта и номера символа (это видно в предыдущем примере, когда мы считали 100 символов, а tell вернул нам смещение 103)"
   ]
  },
  {
   "cell_type": "markdown",
   "id": "c895d0c8",
   "metadata": {},
   "source": [
    "### 2.2.1 чтение из файла"
   ]
  },
  {
   "cell_type": "code",
   "execution_count": 173,
   "id": "9037e7ff",
   "metadata": {},
   "outputs": [
    {
     "name": "stdout",
     "output_type": "stream",
     "text": [
      "Type: <class 'str'>, length: 39701\n"
     ]
    }
   ],
   "source": [
    "f = open(\"Полтава.txt\", encoding=\"utf8\")\n",
    "data = f.read()\n",
    "print(f'Type: {type(data)}, length: {len(data)}')\n",
    "f.close()"
   ]
  },
  {
   "cell_type": "markdown",
   "id": "1ed2e136",
   "metadata": {},
   "source": [
    "**read** - возвращает ВЕСЬ текст в качестве строки"
   ]
  },
  {
   "cell_type": "code",
   "execution_count": 174,
   "id": "1f6a3794",
   "metadata": {},
   "outputs": [
    {
     "name": "stdout",
     "output_type": "stream",
     "text": [
      "Тебе — но голос музы тёмной\n",
      "Коснется ль уха твоего?\n",
      "Поймешь ли ты душою скромной\n",
      "Стремленье сердца моего?\n",
      "Иль посвящение поэта,\n",
      "Как некогда его любовь,\n",
      "Перед тобою без ответа\n"
     ]
    }
   ],
   "source": [
    "f = open(\"Полтава.txt\", encoding=\"utf8\")\n",
    "for i in range(7):\n",
    "    print(f.readline(), end=\"\")\n",
    "f.close()"
   ]
  },
  {
   "cell_type": "markdown",
   "id": "e12960bc",
   "metadata": {},
   "source": [
    "**readline** - возвращает одну очередную строку из текстового файла"
   ]
  },
  {
   "cell_type": "code",
   "execution_count": 176,
   "id": "55e474ee",
   "metadata": {},
   "outputs": [
    {
     "name": "stdout",
     "output_type": "stream",
     "text": [
      "Type: <class 'list'>, length: 1553\n",
      "И думай, что во дни разлуки,\n",
      "\n"
     ]
    }
   ],
   "source": [
    "f = open(\"Полтава.txt\", encoding=\"utf8\")\n",
    "lines = f.readlines()\n",
    "print('Type: %s, length: %d' % (type(lines), len(lines)))\n",
    "print(lines[10])\n",
    "f.close()"
   ]
  },
  {
   "cell_type": "markdown",
   "id": "e4ac2e70",
   "metadata": {},
   "source": [
    "**readlines** возвращает список строк текстового файла"
   ]
  },
  {
   "cell_type": "markdown",
   "id": "b9affc04",
   "metadata": {},
   "source": [
    "### 2.2.2 Запись в файл"
   ]
  },
  {
   "cell_type": "code",
   "execution_count": 180,
   "id": "17d2e8fe",
   "metadata": {},
   "outputs": [
    {
     "name": "stdout",
     "output_type": "stream",
     "text": [
      "7\n",
      "3\n",
      "5\n",
      "12334352\n"
     ]
    }
   ],
   "source": [
    "f = open(\"example.txt\", 'w')\n",
    "print(f.write('123\\n456'))\n",
    "print(f.seek(3))\n",
    "print(f.write('34352'))\n",
    "f.close()\n",
    "f = open(\"example.txt\", 'r')\n",
    "print(f.read())\n",
    "f.close()"
   ]
  },
  {
   "cell_type": "markdown",
   "id": "c912786b",
   "metadata": {},
   "source": [
    "**write** позволяет записать передаваемую строку в открытый на запись файл"
   ]
  },
  {
   "cell_type": "code",
   "execution_count": 181,
   "id": "95b5cdbb",
   "metadata": {},
   "outputs": [
    {
     "name": "stdout",
     "output_type": "stream",
     "text": [
      "None\n",
      "123456abc123\n"
     ]
    }
   ],
   "source": [
    "f = open(\"example.txt\", 'w')\n",
    "print(f.writelines(['123456', 'abc', '123']))\n",
    "f.close()\n",
    "f = open(\"example.txt\", 'r')\n",
    "print(f.read())\n",
    "f.close()"
   ]
  },
  {
   "cell_type": "markdown",
   "id": "4aabd325",
   "metadata": {},
   "source": [
    "**writelines** позволяет записать в файл список строк"
   ]
  },
  {
   "cell_type": "markdown",
   "id": "e0e6faa9",
   "metadata": {},
   "source": [
    "### 2.2.3 Проблема корректного закрытия файлов, использование оператора with"
   ]
  },
  {
   "cell_type": "code",
   "execution_count": 183,
   "id": "cf430a74",
   "metadata": {},
   "outputs": [
    {
     "name": "stdout",
     "output_type": "stream",
     "text": [
      "None\n",
      "123456abc123\n"
     ]
    }
   ],
   "source": [
    "with open(\"example.txt\", 'w') as f:\n",
    "    print(f.writelines(['123456', 'abc', '123']))\n",
    "with open(\"example.txt\", 'r') as f:\n",
    "    print(f.read())"
   ]
  },
  {
   "cell_type": "markdown",
   "id": "aac41d19",
   "metadata": {},
   "source": [
    "Данный блок идентичен предыдущему, но при этом лаконичнее. Файл считается закрытым по завершению вложенного блока with."
   ]
  },
  {
   "cell_type": "markdown",
   "id": "e0aa4d54",
   "metadata": {},
   "source": [
    "## 2.3 dsv, tsv, csv "
   ]
  },
  {
   "cell_type": "markdown",
   "id": "ec01d131",
   "metadata": {},
   "source": [
    "TSV\n",
    "\n",
    "TSV (англ. tab separated values — «значения, разделенные табуляцией») — текстовый формат для представления таблиц баз данных. Каждая запись в таблице — строка текстового файла. Каждое поле записи отделяется от других символом табуляции, а точнее — горизонтальной табуляции.\n",
    "\n",
    "TSV — форма более общего формата DSV («значения, разграниченные разделителем», от англ. delimiter separated values).\n",
    "\n",
    "Одним из самых распространенных форматов DSV стал CSV — формат с разделителем полей — запятой (англ. comma separated values). "
   ]
  },
  {
   "cell_type": "code",
   "execution_count": 187,
   "id": "b6aabe08",
   "metadata": {},
   "outputs": [
    {
     "name": "stdout",
     "output_type": "stream",
     "text": [
      "['keywords', 'price', 'product_name']\n",
      "['МОРУМ, Ковер, безворсовый', '6999', 'МОРУМ']\n",
      "['МОРУМ, Ковер, безворсовый', '6999', 'МОРУМ']\n",
      "['ИДБИ, Придверный коврик', '649', 'ИДБИ']\n",
      "['ХОДДЕ, Ковер, безворсовый', '1399', 'ХОДДЕ']\n",
      "['ОПЛЕВ, Придверный коврик', '599', 'ОПЛЕВ']\n",
      "['ОПЛЕВ, Придверный коврик', '599', 'ОПЛЕВ']\n",
      "['ЮНКЭН, Брикеты', '89', 'ЮНКЭН']\n",
      "['БУНСЁ, Детское садовое кресло', '1199', 'БУНСЁ']\n",
      "['ИКЕА ПС ВОГЭ, Садовое легкое кресло', '1999', 'ИКЕА ПС ВОГЭ']\n",
      "['КУНГСХОЛЬМЕН, Садовый табурет', '5500', 'КУНГСХОЛЬМЕН']\n"
     ]
    }
   ],
   "source": [
    "import csv\n",
    "\n",
    "with open('ikea.csv', encoding=\"utf8\") as csvfile:\n",
    "    reader = csv.reader(csvfile, delimiter=';', quotechar='\"')\n",
    "    for index, row in enumerate(reader):\n",
    "        if index > 10:\n",
    "            break\n",
    "        print(row)"
   ]
  },
  {
   "cell_type": "code",
   "execution_count": 189,
   "id": "19a8d814",
   "metadata": {},
   "outputs": [
    {
     "name": "stdout",
     "output_type": "stream",
     "text": [
      "{'keywords': 'ГРИЛЬЕРА, Плита', 'price': '99999', 'product_name': 'ГРИЛЬЕРА'}\n",
      "{'keywords': 'ГРИЛЬЕРА, Плита', 'price': '99999', 'product_name': 'ГРИЛЬЕРА'}\n",
      "{'keywords': 'КИВИК, Диван-кровать 3-местный', 'price': '79999', 'product_name': 'КИВИК'}\n",
      "{'keywords': 'КИВИК, Диван-кровать 3-местный', 'price': '79999', 'product_name': 'КИВИК'}\n",
      "{'keywords': 'СТОКГОЛЬМ, Диван 3-местный', 'price': '69999', 'product_name': 'СТОКГОЛЬМ'}\n",
      "{'keywords': 'ИСАНДЕ, Встраив холодильник/морозильник А++', 'price': '59999', 'product_name': 'ИСАНДЕ'}\n",
      "{'keywords': 'КУЛИНАРИСК, Комбинир СВЧ с горячим обдувом', 'price': '54999', 'product_name': 'КУЛИНАРИСК'}\n",
      "{'keywords': 'ХОГКЛАССИГ, Индукц варочн панель', 'price': '49999', 'product_name': 'ХОГКЛАССИГ'}\n",
      "{'keywords': 'ГРЭНСЛЁС, Комбинир СВЧ с горячим обдувом', 'price': '49999', 'product_name': 'ГРЭНСЛЁС'}\n",
      "{'keywords': 'КУЛИНАРИСК, Духовка/пиролитическая самоочистка', 'price': '49999', 'product_name': 'КУЛИНАРИСК'}\n"
     ]
    }
   ],
   "source": [
    "with open('ikea.csv', encoding=\"utf8\") as csvfile:\n",
    "    reader = csv.DictReader(csvfile, delimiter=';', quotechar='\"')\n",
    "    expensive = sorted(reader, key=lambda x: int(x['price']), reverse=True)\n",
    "\n",
    "for record in expensive[:10]:\n",
    "    print(record)"
   ]
  },
  {
   "cell_type": "markdown",
   "id": "826348d3",
   "metadata": {},
   "source": [
    "в этом примере мы использовали функцию sorted, которая позволила нам отсортировать данные по убыванию"
   ]
  },
  {
   "cell_type": "code",
   "execution_count": 192,
   "id": "c5a55880",
   "metadata": {},
   "outputs": [],
   "source": [
    "with open('квадраты.csv', 'w', newline='', encoding=\"utf8\") as csvfile:\n",
    "    writer = csv.writer(\n",
    "        csvfile, delimiter=';', quotechar='\"', quoting=csv.QUOTE_MINIMAL)\n",
    "    for i in range(10):\n",
    "        writer.writerow([i, i ** 2, \"Квадрат числа %d равен %d\" % (i, i ** 2)])"
   ]
  },
  {
   "cell_type": "markdown",
   "id": "ca43c938",
   "metadata": {},
   "source": [
    "А этот код позволил нам записать в файл квадраты чисел от 0 до 9"
   ]
  },
  {
   "cell_type": "code",
   "execution_count": null,
   "id": "1d843e64",
   "metadata": {},
   "outputs": [],
   "source": [
    "import csv\n",
    "\n",
    "data = [{\n",
    "    'lastname': 'Иванов',\n",
    "    'firstname': 'Пётр',\n",
    "    'class_number': 9,\n",
    "    'class_letter': 'А'\n",
    "}, {\n",
    "    'lastname': 'Кузнецов',\n",
    "    'firstname': 'Алексей',\n",
    "    'class_number': 9,\n",
    "    'class_letter': 'В'\n",
    "}, {\n",
    "    'lastname': 'Меньшова',\n",
    "    'firstname': 'Алиса',\n",
    "    'class_number': 9,\n",
    "    'class_letter': 'А'\n",
    "}, {\n",
    "    'lastname': 'Иванова',\n",
    "    'firstname': 'Татьяна',\n",
    "    'class_number': 9,\n",
    "    'class_letter': 'Б'\n",
    "}]\n",
    "\n",
    "with open('dictwriter.csv', 'w', newline='', encoding=\"utf8\") as f:\n",
    "    writer = csv.DictWriter(\n",
    "        f, fieldnames=list(data[0].keys()),\n",
    "        delimiter=';', quoting=csv.QUOTE_NONNUMERIC)\n",
    "    writer.writeheader()\n",
    "    for d in data:\n",
    "        writer.writerow(d)"
   ]
  },
  {
   "cell_type": "markdown",
   "id": "7f926365",
   "metadata": {},
   "source": [
    "с использование DictWriter и DictReader можно читать и писать в файл, где 1 строка - заголовки"
   ]
  },
  {
   "cell_type": "markdown",
   "id": "1ff42a27",
   "metadata": {},
   "source": [
    "Результат:\n",
    "\n",
    "\"lastname\";\"firstname\";\"class_number\";\"class_letter\"  \n",
    "\"Иванов\";\"Пётр\";9;\"А\"  \n",
    "\"Кузнецов\";\"Алексей\";9;\"В\"  \n",
    "\"Меньшова\";\"Алиса\";9;\"А\"  \n",
    "\"Иванова\";\"Татьяна\";9;\"Б\"  "
   ]
  },
  {
   "cell_type": "markdown",
   "id": "4a56450c",
   "metadata": {},
   "source": [
    "## 2.4 docx, xlsx "
   ]
  },
  {
   "cell_type": "markdown",
   "id": "27476980",
   "metadata": {},
   "source": [
    "Для работы с файлами известных офисных форматов используется дополнительная библиотека, которую сначала нужно установить. Для этого в терминале нужно ввести команду:  \n",
    "\n",
    "pip install <Название библиотеки>\n",
    "\n",
    "В jupyter-notebook или в colab перед этой командой необходимо поставить '!':\n",
    "\n",
    "!pip install <Название библиотеки>  \n",
    "    "
   ]
  },
  {
   "cell_type": "markdown",
   "id": "7f04f437",
   "metadata": {},
   "source": [
    "### 2.4.1 Создание текстового документа"
   ]
  },
  {
   "cell_type": "code",
   "execution_count": 196,
   "id": "5590f818",
   "metadata": {},
   "outputs": [
    {
     "name": "stdout",
     "output_type": "stream",
     "text": [
      "Requirement already satisfied: python-docx in /home/npocbet/PycharmProjects/pythonProject/venv/lib/python3.9/site-packages (0.8.10)\n",
      "Requirement already satisfied: lxml>=2.3.2 in /home/npocbet/PycharmProjects/pythonProject/venv/lib/python3.9/site-packages (from python-docx) (4.6.2)\n",
      "\u001b[33mWARNING: You are using pip version 21.3.1; however, version 23.3.1 is available.\n",
      "You should consider upgrading via the '/home/npocbet/PycharmProjects/pythonProject/venv/bin/python -m pip install --upgrade pip' command.\u001b[0m\n"
     ]
    }
   ],
   "source": [
    "!pip install python-docx"
   ]
  },
  {
   "cell_type": "code",
   "execution_count": 197,
   "id": "7b00bd00",
   "metadata": {},
   "outputs": [],
   "source": [
    "from docx import Document\n",
    "from docx.shared import Inches\n",
    "\n",
    "document = Document()\n",
    "\n",
    "document.add_heading('Заголовок документа', 0)\n",
    "\n",
    "document.add_paragraph('Абзац без форматирования')\n",
    "\n",
    "# тут у нас будет более сложный абзац\n",
    "p = document.add_paragraph('Часть абзаца обычным текстом, ')\n",
    "p.add_run('часть жирным шрифтом, ').bold = True\n",
    "p.add_run(' а часть ')\n",
    "p.add_run('курсивом.').italic = True\n",
    "\n",
    "document.add_heading('Заголовок первого уровня', level=1)\n",
    "document.add_paragraph('Некоторая цитата', style='Intense Quote')\n",
    "\n",
    "document.add_paragraph('Элемент ненумерованного списка', \n",
    "                       style='List Bullet')\n",
    "document.add_paragraph('Элемент нумерованного списка', \n",
    "                       style='List Number')\n",
    "\n",
    "table = document.add_table(rows=1, cols=3)\n",
    "hdr_cells = table.rows[0].cells\n",
    "hdr_cells[0].text = 'Номер'\n",
    "hdr_cells[1].text = 'Название'\n",
    "hdr_cells[2].text = 'Количество'\n",
    "\n",
    "document.save('test.docx')"
   ]
  },
  {
   "cell_type": "markdown",
   "id": "28de2e8b",
   "metadata": {},
   "source": [
    "**add_heading** — для создания заголовков разного уровня. При этом уровень 0 — заголовок документа  \n",
    "\n",
    "**add_paragraph** — для создания абзацев. С помощью параметра **style** можно управлять стилем абзаца и превращать его элемент маркированного или нумерованного списка\n",
    "Метод **add_paragraph** объекта-документа возвращает новый абзац, у которого есть свои методы вроде **add_run**, который дописывает текст с форматированием или без него в конец абзаца.\n",
    "\n",
    "Метод **add_table** создает в документе таблицу размером col столбцов и row строк. Если мы присвоим результат вызова этой функции переменной, сможем заполнить такую таблицу данными.\n",
    "\n",
    "Метод **save** сохраняет документ под указанным именем."
   ]
  },
  {
   "cell_type": "code",
   "execution_count": 198,
   "id": "2ff244b7",
   "metadata": {},
   "outputs": [
    {
     "name": "stdout",
     "output_type": "stream",
     "text": [
      "Заголовок документа\n",
      "Абзац без форматирования\n",
      "Часть абзаца обычным текстом, часть жирным шрифтом,  а часть курсивом.\n",
      "Заголовок первого уровня\n",
      "Некоторая цитата\n",
      "Элемент ненумерованного списка\n",
      "Элемент нумерованного списка\n",
      "Номер\n"
     ]
    }
   ],
   "source": [
    "from docx import Document\n",
    "\n",
    "document = Document('test.docx')\n",
    "for par in document.paragraphs:\n",
    "    print(par.text)\n",
    "\n",
    "for table in document.tables:\n",
    "    print(table.rows[0].cells[0].text)"
   ]
  },
  {
   "cell_type": "markdown",
   "id": "f920ee81",
   "metadata": {},
   "source": [
    "### 2.4.2 Работа с документом как с шаблоном"
   ]
  },
  {
   "cell_type": "code",
   "execution_count": 200,
   "id": "310a5d05",
   "metadata": {},
   "outputs": [
    {
     "name": "stdout",
     "output_type": "stream",
     "text": [
      "Requirement already satisfied: docxtpl in /home/npocbet/PycharmProjects/pythonProject/venv/lib/python3.9/site-packages (0.11.3)\n",
      "Requirement already satisfied: jinja2 in /home/npocbet/PycharmProjects/pythonProject/venv/lib/python3.9/site-packages (from docxtpl) (3.1.2)\n",
      "Requirement already satisfied: six in /home/npocbet/PycharmProjects/pythonProject/venv/lib/python3.9/site-packages (from docxtpl) (1.15.0)\n",
      "Requirement already satisfied: lxml in /home/npocbet/PycharmProjects/pythonProject/venv/lib/python3.9/site-packages (from docxtpl) (4.6.2)\n",
      "Requirement already satisfied: python-docx in /home/npocbet/PycharmProjects/pythonProject/venv/lib/python3.9/site-packages (from docxtpl) (0.8.10)\n",
      "Requirement already satisfied: MarkupSafe>=2.0 in /home/npocbet/PycharmProjects/pythonProject/venv/lib/python3.9/site-packages (from jinja2->docxtpl) (2.1.1)\n",
      "\u001b[33mWARNING: You are using pip version 21.3.1; however, version 23.3.1 is available.\n",
      "You should consider upgrading via the '/home/npocbet/PycharmProjects/pythonProject/venv/bin/python -m pip install --upgrade pip' command.\u001b[0m\n"
     ]
    }
   ],
   "source": [
    "!pip install docxtpl"
   ]
  },
  {
   "cell_type": "code",
   "execution_count": 201,
   "id": "1dde994b",
   "metadata": {},
   "outputs": [],
   "source": [
    "from docxtpl import DocxTemplate\n",
    "import datetime as dt\n",
    "\n",
    "doc = DocxTemplate(\"tpl.docx\")\n",
    "context = {\n",
    "    'name': 'Иван Иванович',\n",
    "    'event_name': \"танцевально-увеселительное мероприятие по случаю 45-летия независимости Кабо-Верде\",\n",
    "    'place': \"любой точке Кабо-Верде\",\n",
    "    'date': dt.date.today(),\n",
    "    'time': dt.datetime.now().strftime(\"%H:%M\"),\n",
    "    'items': [\"картину\",\n",
    "              'корзину',\n",
    "              \"картонку\",\n",
    "              \"маленькую собачонку\"]\n",
    "}\n",
    "doc.render(context)\n",
    "doc.save(\"res.docx\")"
   ]
  },
  {
   "cell_type": "markdown",
   "id": "b317d2c3",
   "metadata": {},
   "source": [
    "### 2.4.3 Создание таблиц Excel"
   ]
  },
  {
   "cell_type": "code",
   "execution_count": 203,
   "id": "be4da26d",
   "metadata": {},
   "outputs": [
    {
     "name": "stdout",
     "output_type": "stream",
     "text": [
      "Requirement already satisfied: xlsxwriter in /home/npocbet/PycharmProjects/pythonProject/venv/lib/python3.9/site-packages (1.3.7)\n",
      "\u001b[33mWARNING: You are using pip version 21.3.1; however, version 23.3.1 is available.\n",
      "You should consider upgrading via the '/home/npocbet/PycharmProjects/pythonProject/venv/bin/python -m pip install --upgrade pip' command.\u001b[0m\n"
     ]
    }
   ],
   "source": [
    "!pip install xlsxwriter"
   ]
  },
  {
   "cell_type": "code",
   "execution_count": 204,
   "id": "9623ab37",
   "metadata": {},
   "outputs": [],
   "source": [
    "import xlsxwriter\n",
    "  \n",
    "workbook = xlsxwriter.Workbook('Суммы.xlsx')\n",
    "worksheet = workbook.add_worksheet()\n",
    " \n",
    "data = [('Развлечения', 6800), ('Продукты', 25670), ('Транспорт', 3450),]\n",
    "  \n",
    "for row, (item, price) in enumerate(data):\n",
    "    worksheet.write(row, 0, item)\n",
    "    worksheet.write(row, 1, price)\n",
    " \n",
    "row += 1\n",
    "worksheet.write(row, 0, 'Всего')\n",
    "worksheet.write(row, 1, '=SUM(B1:B3)')\n",
    " \n",
    "workbook.close()"
   ]
  },
  {
   "cell_type": "code",
   "execution_count": 205,
   "id": "c29348f0",
   "metadata": {},
   "outputs": [],
   "source": [
    "import xlsxwriter\n",
    " \n",
    "workbook = xlsxwriter.Workbook('диаграммы.xlsx')\n",
    "worksheet = workbook.add_worksheet()\n",
    " \n",
    "# Данные\n",
    "data = [10, 40, 50, 20, 10, 50, 20]\n",
    "worksheet.write_column('A1', data)\n",
    " \n",
    "# Тип диаграммы\n",
    "chart = workbook.add_chart({'type': 'line'})\n",
    " \n",
    "# Строим по нашим данным\n",
    "chart.add_series({'values': '=Sheet1!A1:A7'})\n",
    " \n",
    "worksheet.insert_chart('C1', chart)\n",
    "workbook.close()"
   ]
  },
  {
   "cell_type": "markdown",
   "id": "b3ce9344",
   "metadata": {},
   "source": [
    "Данный код позволит создать диаграмму"
   ]
  }
 ],
 "metadata": {
  "kernelspec": {
   "display_name": "Python 3 (ipykernel)",
   "language": "python",
   "name": "python3"
  },
  "language_info": {
   "codemirror_mode": {
    "name": "ipython",
    "version": 3
   },
   "file_extension": ".py",
   "mimetype": "text/x-python",
   "name": "python",
   "nbconvert_exporter": "python",
   "pygments_lexer": "ipython3",
   "version": "3.9.14"
  }
 },
 "nbformat": 4,
 "nbformat_minor": 5
}
