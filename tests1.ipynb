{
  "nbformat": 4,
  "nbformat_minor": 0,
  "metadata": {
    "colab": {
      "provenance": [],
      "include_colab_link": true
    },
    "kernelspec": {
      "name": "python3",
      "display_name": "Python 3"
    },
    "language_info": {
      "name": "python"
    }
  },
  "cells": [
    {
      "cell_type": "markdown",
      "metadata": {
        "id": "view-in-github",
        "colab_type": "text"
      },
      "source": [
        "<a href=\"https://colab.research.google.com/github/npocbet/kbsu/blob/main/tests1.ipynb\" target=\"_parent\"><img src=\"https://colab.research.google.com/assets/colab-badge.svg\" alt=\"Open In Colab\"/></a>"
      ]
    },
    {
      "cell_type": "markdown",
      "source": [
        "3"
      ],
      "metadata": {
        "id": "vfq8Bl28kNAS"
      }
    },
    {
      "cell_type": "markdown",
      "source": [
        "тут"
      ],
      "metadata": {
        "id": "uWiDKxZNlJZB"
      }
    },
    {
      "cell_type": "markdown",
      "source": [
        "1"
      ],
      "metadata": {
        "id": "l-8MXx4BkSlI"
      }
    },
    {
      "cell_type": "code",
      "source": [
        "name = input()\n",
        "val = int(input())\n",
        "print(f'Самое популярное имя — {name}. В нем аж {len(name)} букв!')"
      ],
      "metadata": {
        "colab": {
          "base_uri": "https://localhost:8080/"
        },
        "id": "FPnHm9sLijgI",
        "outputId": "4822645c-9fec-40cd-b3f2-de745ec56b59"
      },
      "execution_count": null,
      "outputs": [
        {
          "output_type": "stream",
          "name": "stdout",
          "text": [
            "Самое популярное имя — Alex. В нем аж 4 букв!\n"
          ]
        }
      ]
    },
    {
      "cell_type": "code",
      "source": [
        "our_string = 'apple cat dog parrot'\n",
        "our_list = our_string.split()[1::2]\n",
        "print(our_list)"
      ],
      "metadata": {
        "id": "CbRNYgdaSgAr"
      },
      "execution_count": null,
      "outputs": []
    },
    {
      "cell_type": "code",
      "source": [
        "name = input()\n",
        "total = int(input()) * 5\n",
        "\n",
        "print(f\"Ваня покупает {name}, 5 шт. Он заплатит за покупку {total} рублей\")"
      ],
      "metadata": {
        "colab": {
          "base_uri": "https://localhost:8080/"
        },
        "id": "eksE66RBlvYL",
        "outputId": "9fbdde8b-e02b-408d-f594-7b63b88da462"
      },
      "execution_count": null,
      "outputs": [
        {
          "output_type": "stream",
          "name": "stdout",
          "text": [
            "Лера\n",
            "1\n",
            "На праздник приглашена Лера. Она будет одна? True\n"
          ]
        }
      ]
    },
    {
      "cell_type": "markdown",
      "source": [
        "2"
      ],
      "metadata": {
        "id": "1adkY7X9oUWT"
      }
    },
    {
      "cell_type": "code",
      "source": [
        "cities = ['Москва', 'Пермь', 'Краснодар', 'Калининград', 'Якутск']\n",
        "\n",
        "shipment = 'Готовьте к отгрузке'\n",
        "multiple_packages = 'Разделите на несколько посылок'\n",
        "other_company = 'Обратитесь в другую компанию'\n",
        "\n",
        "city = input()\n",
        "weight = int(input())\n",
        "\n",
        "if city in cities and weight <= 1000:\n",
        "    print(shipment)\n",
        "elif city in cities and weight > 1000:\n",
        "    print(multiple_packages)\n",
        "else:\n",
        "    print(other_company)"
      ],
      "metadata": {
        "id": "HXrnY-DYoVy4"
      },
      "execution_count": null,
      "outputs": []
    },
    {
      "cell_type": "markdown",
      "source": [
        "3"
      ],
      "metadata": {
        "id": "ZkYD2G_EqL_X"
      }
    },
    {
      "cell_type": "code",
      "source": [
        "goods = []\n",
        "while True:\n",
        "    line = input()\n",
        "    if line == 'END':\n",
        "        break\n",
        "    line = line.split(' ')\n",
        "    item = line[0]\n",
        "    price = int(line[1])\n",
        "    if price <= 500:\n",
        "      goods.append(item)\n",
        "\n",
        "print(goods)"
      ],
      "metadata": {
        "colab": {
          "base_uri": "https://localhost:8080/"
        },
        "id": "IFRx37smqLOn",
        "outputId": "f2f0c45f-0280-4115-fa38-63dca4e71b63"
      },
      "execution_count": null,
      "outputs": [
        {
          "output_type": "stream",
          "name": "stdout",
          "text": [
            "s:1200\n",
            "['s', '1200']\n",
            "b:1000\n",
            "['b', '1000']\n",
            "a:499\n",
            "['a', '499']\n",
            "b:500\n",
            "['b', '500']\n",
            "END\n",
            "['a']\n"
          ]
        }
      ]
    },
    {
      "cell_type": "markdown",
      "source": [
        "4"
      ],
      "metadata": {
        "id": "iUNc20ZrtyQv"
      }
    },
    {
      "cell_type": "code",
      "source": [
        "companies = input().split()\n",
        "timings = input().split()\n",
        "deadline = int(input())\n",
        "\n",
        "# summa = 0\n",
        "# for score in timings:\n",
        "#   summa += float(score)\n",
        "# avg = summa / len(timings)\n",
        "\n",
        "for i in range(len(companies)):\n",
        "  if int(timings[i]) <= deadline:\n",
        "    print(companies[i])\n",
        "\n"
      ],
      "metadata": {
        "id": "9q02RCzzty2I"
      },
      "execution_count": null,
      "outputs": []
    },
    {
      "cell_type": "code",
      "source": [
        "lector = set(input().split(\",\"))\n",
        "starshecuksniki = set(input().split(\",\"))\n",
        "library = set(input().split(\",\"))\n",
        "recomendations = (lector | starshecuksniki) & library\n",
        "sorted_recomendations = sorted(recomendations)\n",
        "print(','.join(sorted_recomendations))\n",
        "\n"
      ],
      "metadata": {
        "id": "Mk8KhYcyOlKI"
      },
      "execution_count": null,
      "outputs": []
    },
    {
      "cell_type": "code",
      "source": [
        "shops = {'Монеточка': [6000, 4000, 2300],\n",
        "         'Дорожный': [6700, 4000, 2100],\n",
        "         'Букварь вкусов' : [10000, 8000, 6000],\n",
        "         'СладкоВилл' : [5000, 9000, 4000]}\n",
        "\n",
        "limit = int(input())\n",
        "\n",
        "for shop in shops: # shop - например 'Монеточка'\n",
        "    for profit in shops[shop]: # shops[shop] - [6000, 4000, 2300]\n",
        "        if profit < limit:\n",
        "            print(shop)\n",
        "            break"
      ],
      "metadata": {
        "id": "idwTBjLcTbuz"
      },
      "execution_count": null,
      "outputs": []
    },
    {
      "cell_type": "code",
      "source": [
        "def find_numbers(numbers, len_phone):\n",
        "    result = []\n",
        "\n",
        "    for number in numbers:\n",
        "        if number.isdigit() and len(number) == len_phone:\n",
        "            result.append(number)\n",
        "\n",
        "    return sorted(result)"
      ],
      "metadata": {
        "id": "UrqUxfhRV19H"
      },
      "execution_count": null,
      "outputs": []
    },
    {
      "cell_type": "code",
      "source": [
        "error = \"Ошибка. Введите число 10\"\n",
        "ok = \"Все работает!\"\n",
        "\n",
        "while True:\n",
        "    number = int(input())\n",
        "    if number == 10:\n",
        "        break\n",
        "    print(error)\n",
        "print(ok)"
      ],
      "metadata": {
        "id": "WYf2wLjaOnG7"
      },
      "execution_count": null,
      "outputs": []
    },
    {
      "cell_type": "code",
      "source": [
        "# ваш код здесь\n",
        "n = \"end\"\n",
        "a = 0\n",
        "while word != n:\n",
        "    word = input()\n",
        "    if word == \"end\":\n",
        "        break\n",
        "    a += 1 # a = a + 1\n",
        "\n",
        "print(a)"
      ],
      "metadata": {
        "id": "YcmR6vHdPEbF"
      },
      "execution_count": null,
      "outputs": []
    },
    {
      "cell_type": "code",
      "source": [
        "names = input().split()\n",
        "fruits = input().split()\n",
        "for i in range(len(names)):\n",
        "    print(i)\n",
        "    print(names[i] + ' любит ' + fruits[i])\n",
        "# ваш код ниже"
      ],
      "metadata": {
        "colab": {
          "base_uri": "https://localhost:8080/"
        },
        "id": "iHvEO8i_PjBE",
        "outputId": "2a18c532-b995-4af0-ae50-6d45c3630331"
      },
      "execution_count": null,
      "outputs": [
        {
          "output_type": "stream",
          "name": "stdout",
          "text": [
            "Алена Таня Дима\n",
            "арбузы апельсины яблоки\n",
            "0\n",
            "Алена любит арбузы\n",
            "1\n",
            "Таня любит апельсины\n",
            "2\n",
            "Дима любит яблоки\n"
          ]
        }
      ]
    },
    {
      "cell_type": "code",
      "source": [
        "names = input().split()\n",
        "\n",
        "# 1\n",
        "numbers = input().split()\n",
        "for i in range(len(numbers)):\n",
        "    numbers[i] = int(numbers[i])\n",
        "# 2\n",
        "# numbers = [int(i) for i in input().split()]\n",
        "# 3\n",
        "# numbers = list(map(int, input().split()))\n",
        "\n",
        "\n",
        "# 1\n",
        "result = []\n",
        "for i in range(len(numbers)):\n",
        "    result.append(names[i])\n",
        "print(result)\n",
        "# 2\n",
        "# print([names[i] for i in numbers])\n",
        "# 3\n",
        "# print(list(map(lambda x: names[x], numbers)))\n",
        "# ваш код здесь"
      ],
      "metadata": {
        "colab": {
          "base_uri": "https://localhost:8080/"
        },
        "id": "VyqDOfwPQpz8",
        "outputId": "2e2a3dfe-d4dd-4f17-aa2d-c846c914405a"
      },
      "execution_count": null,
      "outputs": [
        {
          "output_type": "stream",
          "name": "stdout",
          "text": [
            "Аня Маша Петя Марина\n",
            "2 2\n",
            "['Петя', 'Петя']\n"
          ]
        }
      ]
    },
    {
      "cell_type": "code",
      "source": [
        "numbers"
      ],
      "metadata": {
        "colab": {
          "base_uri": "https://localhost:8080/"
        },
        "id": "XADi6GsNQ8hS",
        "outputId": "a4e057d4-c36f-488e-af12-8c5948111378"
      },
      "execution_count": null,
      "outputs": [
        {
          "output_type": "execute_result",
          "data": {
            "text/plain": [
              "[2, 2]"
            ]
          },
          "metadata": {},
          "execution_count": 3
        }
      ]
    },
    {
      "cell_type": "code",
      "source": [
        "a = [100, 2, 3, 4, 5, 10]"
      ],
      "metadata": {
        "id": "SzDdpKNoRvcO"
      },
      "execution_count": null,
      "outputs": []
    },
    {
      "cell_type": "markdown",
      "source": [
        "получить квадраты"
      ],
      "metadata": {
        "id": "cpfHmNLYR6BX"
      }
    },
    {
      "cell_type": "code",
      "source": [
        "for i in range(len(a)):\n",
        "    a[i] = a[i] ** 3"
      ],
      "metadata": {
        "id": "ZxmlLf4uR5mJ"
      },
      "execution_count": null,
      "outputs": []
    },
    {
      "cell_type": "code",
      "source": [
        "a = [i ** 3 for i in a]"
      ],
      "metadata": {
        "id": "3UF0jLMfSF4c"
      },
      "execution_count": null,
      "outputs": []
    },
    {
      "cell_type": "code",
      "source": [
        "a = list(map(lambda element: element ** 3, a))"
      ],
      "metadata": {
        "id": "Pq7w9Oa9Sb1g"
      },
      "execution_count": null,
      "outputs": []
    },
    {
      "cell_type": "code",
      "source": [
        "numbers_1 = list(map(int, input().split()))\n",
        "numbers_2 = list(map(int, input().split()))\n",
        "a = set(numbers_1)\n",
        "b = set(numbers_2)\n",
        "# print(\" \".join([str(i) for i in sorted(a.union(b))]))\n",
        "c = a | b # c = a.union(b)\n",
        "c = sorted(c)\n",
        "for i in range(len(c)):\n",
        "    c[i] = str(c[i])\n",
        "print(' '.join(c))"
      ],
      "metadata": {
        "id": "lUgeJ_8RV23X"
      },
      "execution_count": null,
      "outputs": []
    },
    {
      "cell_type": "code",
      "source": [
        "numbers_1 = list(map(int, input().split()))\n",
        "numbers_2 = list(map(int, input().split()))"
      ],
      "metadata": {
        "colab": {
          "base_uri": "https://localhost:8080/"
        },
        "id": "bTEefz9rXbkh",
        "outputId": "d664ce01-52e6-4034-b20b-bdf89a5a87d7"
      },
      "execution_count": null,
      "outputs": [
        {
          "name": "stdout",
          "output_type": "stream",
          "text": [
            "1 2 3\n",
            "2 3 8\n"
          ]
        }
      ]
    },
    {
      "cell_type": "code",
      "source": [
        "a = set(numbers_1)\n",
        "b = set(numbers_2)\n",
        "print(a, b)"
      ],
      "metadata": {
        "colab": {
          "base_uri": "https://localhost:8080/"
        },
        "id": "zJAtw1tOXjfg",
        "outputId": "02974ce3-88f2-48d1-ef92-ea08fcd24b35"
      },
      "execution_count": null,
      "outputs": [
        {
          "output_type": "stream",
          "name": "stdout",
          "text": [
            "{1, 2, 3} {8, 2, 3}\n"
          ]
        }
      ]
    },
    {
      "cell_type": "code",
      "source": [
        "c = a | b # c = a.union(b)\n",
        "print(c)"
      ],
      "metadata": {
        "colab": {
          "base_uri": "https://localhost:8080/"
        },
        "id": "eOE0kOooXlvG",
        "outputId": "7740b188-4be4-4ebb-9155-eb3bda08bbd3"
      },
      "execution_count": null,
      "outputs": [
        {
          "output_type": "stream",
          "name": "stdout",
          "text": [
            "{1, 2, 3, 8}\n"
          ]
        }
      ]
    },
    {
      "cell_type": "code",
      "source": [
        "c = sorted(c)\n",
        "print(c)"
      ],
      "metadata": {
        "colab": {
          "base_uri": "https://localhost:8080/"
        },
        "id": "XIFE61kaXuF6",
        "outputId": "ab2fa94d-3845-4e78-94e8-3f9258ef39e0"
      },
      "execution_count": null,
      "outputs": [
        {
          "output_type": "stream",
          "name": "stdout",
          "text": [
            "[1, 2, 3, 8]\n"
          ]
        }
      ]
    },
    {
      "cell_type": "code",
      "source": [
        "for i in range(len(c)):\n",
        "    c[i] = str(c[i])\n",
        "print(c)"
      ],
      "metadata": {
        "colab": {
          "base_uri": "https://localhost:8080/"
        },
        "id": "GPXO2pwOXwI4",
        "outputId": "8a2e43a1-8821-48ec-cc21-738cc7c35cbc"
      },
      "execution_count": null,
      "outputs": [
        {
          "output_type": "stream",
          "name": "stdout",
          "text": [
            "['1', '2', '3', '8']\n"
          ]
        }
      ]
    },
    {
      "cell_type": "code",
      "source": [
        "students_1 = set(input().split())\n",
        "students_2 = set(input().split())\n",
        "print(len(students_1 & students_2))\n"
      ],
      "metadata": {
        "colab": {
          "base_uri": "https://localhost:8080/",
          "height": 333
        },
        "id": "-cn3G4auYRem",
        "outputId": "070df4d2-823a-4de4-d565-12a4a6aab5c1"
      },
      "execution_count": null,
      "outputs": [
        {
          "output_type": "error",
          "ename": "KeyboardInterrupt",
          "evalue": "Interrupted by user",
          "traceback": [
            "\u001b[0;31m---------------------------------------------------------------------------\u001b[0m",
            "\u001b[0;31mKeyboardInterrupt\u001b[0m                         Traceback (most recent call last)",
            "\u001b[0;32m<ipython-input-10-690587d53cae>\u001b[0m in \u001b[0;36m<cell line: 1>\u001b[0;34m()\u001b[0m\n\u001b[0;32m----> 1\u001b[0;31m \u001b[0mstudents_1\u001b[0m \u001b[0;34m=\u001b[0m \u001b[0mset\u001b[0m\u001b[0;34m(\u001b[0m\u001b[0minput\u001b[0m\u001b[0;34m(\u001b[0m\u001b[0;34m)\u001b[0m\u001b[0;34m.\u001b[0m\u001b[0msplit\u001b[0m\u001b[0;34m(\u001b[0m\u001b[0;34m)\u001b[0m\u001b[0;34m)\u001b[0m\u001b[0;34m\u001b[0m\u001b[0;34m\u001b[0m\u001b[0m\n\u001b[0m\u001b[1;32m      2\u001b[0m \u001b[0mstudents_2\u001b[0m \u001b[0;34m=\u001b[0m \u001b[0mset\u001b[0m\u001b[0;34m(\u001b[0m\u001b[0minput\u001b[0m\u001b[0;34m(\u001b[0m\u001b[0;34m)\u001b[0m\u001b[0;34m.\u001b[0m\u001b[0msplit\u001b[0m\u001b[0;34m(\u001b[0m\u001b[0;34m)\u001b[0m\u001b[0;34m)\u001b[0m\u001b[0;34m\u001b[0m\u001b[0;34m\u001b[0m\u001b[0m\n\u001b[1;32m      3\u001b[0m \u001b[0mprint\u001b[0m\u001b[0;34m(\u001b[0m\u001b[0mlen\u001b[0m\u001b[0;34m(\u001b[0m\u001b[0mstudents_1\u001b[0m \u001b[0;34m&\u001b[0m \u001b[0mstudents_2\u001b[0m\u001b[0;34m)\u001b[0m\u001b[0;34m)\u001b[0m\u001b[0;34m\u001b[0m\u001b[0;34m\u001b[0m\u001b[0m\n",
            "\u001b[0;32m/usr/local/lib/python3.10/dist-packages/ipykernel/kernelbase.py\u001b[0m in \u001b[0;36mraw_input\u001b[0;34m(self, prompt)\u001b[0m\n\u001b[1;32m    849\u001b[0m                 \u001b[0;34m\"raw_input was called, but this frontend does not support input requests.\"\u001b[0m\u001b[0;34m\u001b[0m\u001b[0;34m\u001b[0m\u001b[0m\n\u001b[1;32m    850\u001b[0m             )\n\u001b[0;32m--> 851\u001b[0;31m         return self._input_request(str(prompt),\n\u001b[0m\u001b[1;32m    852\u001b[0m             \u001b[0mself\u001b[0m\u001b[0;34m.\u001b[0m\u001b[0m_parent_ident\u001b[0m\u001b[0;34m,\u001b[0m\u001b[0;34m\u001b[0m\u001b[0;34m\u001b[0m\u001b[0m\n\u001b[1;32m    853\u001b[0m             \u001b[0mself\u001b[0m\u001b[0;34m.\u001b[0m\u001b[0m_parent_header\u001b[0m\u001b[0;34m,\u001b[0m\u001b[0;34m\u001b[0m\u001b[0;34m\u001b[0m\u001b[0m\n",
            "\u001b[0;32m/usr/local/lib/python3.10/dist-packages/ipykernel/kernelbase.py\u001b[0m in \u001b[0;36m_input_request\u001b[0;34m(self, prompt, ident, parent, password)\u001b[0m\n\u001b[1;32m    893\u001b[0m             \u001b[0;32mexcept\u001b[0m \u001b[0mKeyboardInterrupt\u001b[0m\u001b[0;34m:\u001b[0m\u001b[0;34m\u001b[0m\u001b[0;34m\u001b[0m\u001b[0m\n\u001b[1;32m    894\u001b[0m                 \u001b[0;31m# re-raise KeyboardInterrupt, to truncate traceback\u001b[0m\u001b[0;34m\u001b[0m\u001b[0;34m\u001b[0m\u001b[0m\n\u001b[0;32m--> 895\u001b[0;31m                 \u001b[0;32mraise\u001b[0m \u001b[0mKeyboardInterrupt\u001b[0m\u001b[0;34m(\u001b[0m\u001b[0;34m\"Interrupted by user\"\u001b[0m\u001b[0;34m)\u001b[0m \u001b[0;32mfrom\u001b[0m \u001b[0;32mNone\u001b[0m\u001b[0;34m\u001b[0m\u001b[0;34m\u001b[0m\u001b[0m\n\u001b[0m\u001b[1;32m    896\u001b[0m             \u001b[0;32mexcept\u001b[0m \u001b[0mException\u001b[0m \u001b[0;32mas\u001b[0m \u001b[0me\u001b[0m\u001b[0;34m:\u001b[0m\u001b[0;34m\u001b[0m\u001b[0;34m\u001b[0m\u001b[0m\n\u001b[1;32m    897\u001b[0m                 \u001b[0mself\u001b[0m\u001b[0;34m.\u001b[0m\u001b[0mlog\u001b[0m\u001b[0;34m.\u001b[0m\u001b[0mwarning\u001b[0m\u001b[0;34m(\u001b[0m\u001b[0;34m\"Invalid Message:\"\u001b[0m\u001b[0;34m,\u001b[0m \u001b[0mexc_info\u001b[0m\u001b[0;34m=\u001b[0m\u001b[0;32mTrue\u001b[0m\u001b[0;34m)\u001b[0m\u001b[0;34m\u001b[0m\u001b[0;34m\u001b[0m\u001b[0m\n",
            "\u001b[0;31mKeyboardInterrupt\u001b[0m: Interrupted by user"
          ]
        }
      ]
    }
  ]
}