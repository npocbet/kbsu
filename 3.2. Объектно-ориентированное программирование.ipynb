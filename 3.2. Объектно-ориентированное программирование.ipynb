{
 "cells": [
  {
   "cell_type": "markdown",
   "id": "997a1e7e",
   "metadata": {},
   "source": [
    "# 1. Полиморфизм\n",
    "\n",
    "Свойство кода работать с разными типами данных называют **полиморфизмом**.\n",
    "\n",
    "Мы уже неоднократно пользовались этим свойством многих функций и операторов, не задумываясь о нем. Например, оператор + является полиморфным:"
   ]
  },
  {
   "cell_type": "code",
   "execution_count": 1,
   "id": "6bca2f29",
   "metadata": {},
   "outputs": [
    {
     "name": "stdout",
     "output_type": "stream",
     "text": [
      "3\n",
      "1.7\n",
      "abcdef\n"
     ]
    }
   ],
   "source": [
    "print(1 + 2)          # 3\n",
    "print(1.5 + 0.2)      # 1.7\n",
    "print(\"abc\" + \"def\")  # abcdef"
   ]
  },
  {
   "cell_type": "markdown",
   "id": "bdf21199",
   "metadata": {},
   "source": [
    "Внутренняя реализация оператора + существенно отличается для целых чисел, чисел с плавающей точкой и строк. То есть на самом деле это три разные операции — интерпретатор Python выбирает одну из них при выполнении в зависимости от операндов. Впрочем, в нашем случае выбор очевиден, потому что операнды — просто константы."
   ]
  },
  {
   "cell_type": "code",
   "execution_count": 2,
   "id": "15f1d5c8",
   "metadata": {},
   "outputs": [],
   "source": [
    "from math import pi\n",
    "\n",
    " \n",
    "class Circle:\n",
    "    def __init__(self, radius):\n",
    "        self.radius = radius\n",
    " \n",
    "    def area(self):\n",
    "        return pi * self.radius ** 2\n",
    " \n",
    "    def perimeter(self):\n",
    "        return 2 * pi * self.radius\n",
    " \n",
    "\n",
    "class Square:\n",
    "    def __init__(self, side):\n",
    "        self.side = side\n",
    " \n",
    "    def area(self):\n",
    "        return self.side * self.side\n",
    " \n",
    "    def perimeter(self):\n",
    "        return 4 * self.side"
   ]
  },
  {
   "cell_type": "code",
   "execution_count": 3,
   "id": "d7e87a74",
   "metadata": {},
   "outputs": [],
   "source": [
    "def print_shape_info(shape):\n",
    "    print(f\"Area = {shape.area()}, perimeter = {shape.perimeter()}.\")"
   ]
  },
  {
   "cell_type": "code",
   "execution_count": 4,
   "id": "a360ef2b",
   "metadata": {},
   "outputs": [
    {
     "name": "stdout",
     "output_type": "stream",
     "text": [
      "Area = 100, perimeter = 40.\n"
     ]
    }
   ],
   "source": [
    "square = Square(10)\n",
    "print_shape_info(square)"
   ]
  },
  {
   "cell_type": "code",
   "execution_count": 5,
   "id": "6e5dd253",
   "metadata": {},
   "outputs": [
    {
     "name": "stdout",
     "output_type": "stream",
     "text": [
      "Area = 314.1592653589793, perimeter = 62.83185307179586.\n"
     ]
    }
   ],
   "source": [
    "circle = Circle(10)\n",
    "print_shape_info(circle)"
   ]
  },
  {
   "cell_type": "markdown",
   "id": "8f51a565",
   "metadata": {},
   "source": [
    "В данном примере мы имеем функцию **print_shape_info**, которая предполагает наличие у передаваемого ей аргумента методов **area** и **perimeter**. Причем не важно, к каким классам(типам) относятся данные объекты."
   ]
  },
  {
   "cell_type": "markdown",
   "id": "de081f0a",
   "metadata": {},
   "source": [
    "**Утиная типизация**\n",
    "\n",
    "Данный код использует тот факт, что в Python принята так называемая утиная типизация. Название происходит от шутливого выражения «Если нечто выглядит как утка, плавает как утка и крякает как утка, это, вероятно, утка и есть».\n",
    "\n",
    "В программах на Python это означает, что если какой-то объект поддерживает все требуемые от него операции, с ним и будут работать с помощью этих операций, не заботясь о том, какого он на самом деле типа."
   ]
  },
  {
   "cell_type": "markdown",
   "id": "8e530bc1",
   "metadata": {},
   "source": [
    "Чтобы полиморфизм работал, за ними надо следить как на уровне синтаксиса (одинаковые имена методов и количество параметров), так и на уровне смысла (методы с одинаковыми именами делают похожие операции, параметры методов имеют тот же смысл)."
   ]
  },
  {
   "cell_type": "code",
   "execution_count": 6,
   "id": "49ebcf60",
   "metadata": {},
   "outputs": [
    {
     "name": "stdout",
     "output_type": "stream",
     "text": [
      "Area = 150, perimeter = 50.\n"
     ]
    }
   ],
   "source": [
    "class Rectangle:\n",
    "    def __init__(self, width, height):\n",
    "        self.width = width\n",
    "        self.height = height\n",
    " \n",
    "    def area(self):\n",
    "        return self.width * self.height\n",
    " \n",
    "    def perimeter(self):\n",
    "        return 2 * (self.width + self.height)\n",
    " \n",
    "\n",
    "rect = Rectangle(10, 15)\n",
    "print_shape_info(rect)  # Area = 150, perimeter = 50."
   ]
  },
  {
   "cell_type": "markdown",
   "id": "b8e5835f",
   "metadata": {},
   "source": [
    "Еще раз обратите внимание: утиная типизация позволяет заранее написать функцию, которая будет работать со всеми экземплярами любых классов — даже еще не существующих. Важно лишь, чтобы эти классы поддерживали необходимый функции **интерфейс**."
   ]
  },
  {
   "cell_type": "markdown",
   "id": "b3f4c7d6",
   "metadata": {},
   "source": [
    "## 1.1. Функция **isinstance**\n",
    "\n",
    "Эта функция принимает два параметра: isinstance(object, type)\n",
    "\n",
    "Первый параметр представляет объект, а второй — тип, на принадлежность к которому выполняется проверка. Если объект представляет указанный тип, функция возвращает True."
   ]
  },
  {
   "cell_type": "code",
   "execution_count": 12,
   "id": "03480b36",
   "metadata": {},
   "outputs": [
    {
     "name": "stdout",
     "output_type": "stream",
     "text": [
      "Ivanov\n",
      "\n",
      "MTS\n",
      "\n",
      "Kbsu\n",
      "\n"
     ]
    }
   ],
   "source": [
    "class Student:\n",
    "    def __init__(self, name, university):\n",
    "        self.university = university\n",
    "        self.name = name\n",
    "        \n",
    "class Employee:\n",
    "    def __init__(self, name, company):\n",
    "        self.company = company\n",
    "        self.name = name\n",
    "        \n",
    "class Pupil:\n",
    "    def __init__(self, name, school):\n",
    "        self.school = school\n",
    "        self.name = name\n",
    "        \n",
    "p1 = Pupil('Ivanov', '1')\n",
    "p2 = Employee('Petrov', 'MTS')\n",
    "p3 = Student('Sidorov', 'Kbsu')\n",
    "people = [p1, p2, p3]\n",
    "\n",
    "for person in people:\n",
    "    if isinstance(person, Student):\n",
    "        print(person.university)\n",
    "    elif isinstance(person, Employee):\n",
    "        print(person.company)\n",
    "    else:\n",
    "        print(person.name)\n",
    "    print()"
   ]
  },
  {
   "cell_type": "markdown",
   "id": "5c3625cd",
   "metadata": {},
   "source": [
    "Здесь мы имеем дело со списком объектов, порожденных разными классами, при при этом перебор элементов содержит проверку принадлежности одному из классов."
   ]
  },
  {
   "cell_type": "code",
   "execution_count": 13,
   "id": "a460270c",
   "metadata": {},
   "outputs": [
    {
     "data": {
      "text/plain": [
       "True"
      ]
     },
     "execution_count": 13,
     "metadata": {},
     "output_type": "execute_result"
    }
   ],
   "source": [
    "isinstance(p1, Pupil)"
   ]
  },
  {
   "cell_type": "code",
   "execution_count": 14,
   "id": "992131d4",
   "metadata": {},
   "outputs": [
    {
     "data": {
      "text/plain": [
       "__main__.Pupil"
      ]
     },
     "execution_count": 14,
     "metadata": {},
     "output_type": "execute_result"
    }
   ],
   "source": [
    "type(p1)"
   ]
  },
  {
   "cell_type": "markdown",
   "id": "dbdac457",
   "metadata": {},
   "source": [
    "# 2. Специальные методы\n",
    "\n",
    "Специальные методы имеют для интерпретатора особое значение. Имена специальных методов и их смысл определены создателями языка: создавать новые нельзя, можно только реализовывать существующие. Названия всех специальных методов начинаются и заканчиваются на два подчеркивания.\n",
    "\n",
    "Пример такого метода — уже знакомый нам `__init__`. Он предназначен для инициализации экземпляров и автоматически вызывается интерпретатором после создания экземпляра объекта."
   ]
  },
  {
   "cell_type": "markdown",
   "id": "347b925c",
   "metadata": {},
   "source": [
    "## 2.1. `__add__` и `__iadd__`"
   ]
  },
  {
   "cell_type": "code",
   "execution_count": 15,
   "id": "c78a3ed5",
   "metadata": {},
   "outputs": [
    {
     "name": "stdout",
     "output_type": "stream",
     "text": [
      "5:50\n",
      "3:20\n",
      "9:10\n",
      "140442484012848 140442090814240 140442090814672\n"
     ]
    }
   ],
   "source": [
    "class Time:\n",
    "    def __init__(self, minutes, seconds):\n",
    "        self.minutes = minutes\n",
    "        self.seconds = seconds\n",
    "\n",
    "    def __add__(self, other):\n",
    "        m = self.minutes + other.minutes\n",
    "        s = self.seconds + other.seconds\n",
    "        m += s // 60\n",
    "        s = s % 60\n",
    "        return Time(m, s)\n",
    "\n",
    "    def __iadd__(self, other):\n",
    "        m = self.minutes + other.minutes\n",
    "        s = self.seconds + other.seconds\n",
    "        m += s // 60\n",
    "        s = s % 60\n",
    "        self.minutes = m\n",
    "        self.seconds = s\n",
    "        return self\n",
    "\n",
    "    def info(self):\n",
    "        return f'{self.minutes}:{self.seconds}'\n",
    "\n",
    "\n",
    "t1 = Time(5, 50)\n",
    "print(t1.info())  # 5:50\n",
    "t2 = Time(3, 20)\n",
    "print(t2.info())  # 3:20\n",
    "print(id(t1))\n",
    "t1 += t2\n",
    "print(t1.info())  # 9:10\n",
    "print(id(t1))  # id объекта не поменяется"
   ]
  },
  {
   "cell_type": "markdown",
   "id": "1e121997",
   "metadata": {},
   "source": [
    "В данном примере определены 2 операции для класса Time - операции сложения - `+` и `+=`. Первая возвращает новый объект того же типа, вторая - ссылку на измененный исходный объект.\n",
    "\n",
    "Здесь нужно обратить внимание на аргумент **`other`**, который в данном случае будет содержать \"то, с чем мы складываем наш объект\"."
   ]
  },
  {
   "cell_type": "markdown",
   "id": "1b980b02",
   "metadata": {},
   "source": [
    "## 2.2. `__repr__` и `__str__`\n",
    "\n",
    "методы необходимы для текстового представления объектов. Первый обычно используется для возвращения строки кода, инициализирующую объект, второй - для детализации вывода при печати объекта"
   ]
  },
  {
   "cell_type": "code",
   "execution_count": 25,
   "id": "9c669a0c",
   "metadata": {},
   "outputs": [],
   "source": [
    "class Person:\n",
    "    def __init__(self, name):\n",
    "        self.name = name\n",
    "        \n",
    "    def __str__(self):\n",
    "        return f'Человек по имени {self.name}'\n",
    "    \n",
    "    def __repr__(self):\n",
    "        return f'Person(\\'{self.name}\\')'"
   ]
  },
  {
   "cell_type": "code",
   "execution_count": 26,
   "id": "48852e79",
   "metadata": {},
   "outputs": [
    {
     "name": "stdout",
     "output_type": "stream",
     "text": [
      "Человек по имени Иванов\n"
     ]
    }
   ],
   "source": [
    "p1 = Person('Иванов')\n",
    "print(p1)"
   ]
  },
  {
   "cell_type": "code",
   "execution_count": 27,
   "id": "1b8dcdcf",
   "metadata": {},
   "outputs": [
    {
     "name": "stdout",
     "output_type": "stream",
     "text": [
      "Person('Иванов')\n"
     ]
    }
   ],
   "source": [
    "print(repr(p1))"
   ]
  },
  {
   "cell_type": "markdown",
   "id": "998d83e4",
   "metadata": {},
   "source": [
    "## 2.3. `__sub__`, `__mul__`, `__rmul__`"
   ]
  },
  {
   "cell_type": "code",
   "execution_count": 29,
   "id": "b7443ab5",
   "metadata": {},
   "outputs": [
    {
     "name": "stdout",
     "output_type": "stream",
     "text": [
      "MyVector(1, 1)\n",
      "MyVector(-3.0, 7.5)\n",
      "MyVector(4, -10)\n"
     ]
    }
   ],
   "source": [
    "class MyVector:\n",
    "    def __init__(self, x, y):\n",
    "        self.x = x\n",
    "        self.y = y\n",
    " \n",
    "    def __add__(self, other):\n",
    "        return MyVector(self.x + other.x, self.y + other.y)\n",
    " \n",
    "    def __sub__(self, other):\n",
    "        return MyVector(self.x - other.x, self.y - other.y)\n",
    " \n",
    "    def __mul__(self, other):\n",
    "        return MyVector(self.x * other, self.y * other)\n",
    " \n",
    "    def __rmul__(self, other):\n",
    "        return MyVector(self.x * other, self.y * other)\n",
    " \n",
    "    def __str__(self):\n",
    "        return f'MyVector({self.x}, {self.y})'\n",
    " \n",
    " \n",
    "v1 = MyVector(-2, 5)\n",
    "v2 = MyVector(3, -4)\n",
    "v_sum = v1 + v2\n",
    "print(v_sum)\n",
    "v_mul = v1 * 1.5\n",
    "print(v_mul)\n",
    "v_rmul = -2 * v1\n",
    "print(v_rmul)  "
   ]
  },
  {
   "cell_type": "markdown",
   "id": "008dc5d2",
   "metadata": {},
   "source": [
    "## 2.4. Другие операторы"
   ]
  },
  {
   "cell_type": "markdown",
   "id": "ce7c4d8a",
   "metadata": {},
   "source": [
    "\n",
    "Метод\t                                   Описание  \n",
    "`__add__`(self, other)\t           Сложение (x + y). Будет вызвано: x.`__add__`(y)  \n",
    "`__sub__`(self, other)\t           Вычитание (x - y)  \n",
    "`__mul__`(self, other)\t           Умножение (x * y)  \n",
    "`__truediv__`(self, other)\t       Деление (x / y)  \n",
    "`__floordiv__`(self, other)\t       Целочисленное деление (x // y)  \n",
    "`__mod__`(self, other)\t           Остаток от деления (x % y)  \n",
    "`__divmod__`(self, other)\t           Частное и остаток (divmod(x, y))  \n",
    "`__radd__`(self, other)\t           Сложение (x + y). Будет вызвано: y.`__radd__`(x)  \n",
    "`__rsub__`(self, other)\t           Вычитание (y - x)  \n",
    "`__lt__`(self, other)\t               Сравнение (x < y). Будет вызвано: x.`__lt__`(y)  \n",
    "`__eq__`(self, other)\t               Сравнение (x == y). Будет вызвано: x.`__eq__`(y)  \n",
    "`__len__`(self)\t                   Возвращение длины объекта  \n",
    "`__getitem__`(self, key)\t           Доступ по индексу (или ключу)  \n",
    "`__call__`(self[, args...])\t       Вызов экземпляра класса как функции  "
   ]
  },
  {
   "cell_type": "markdown",
   "id": "c8677d56",
   "metadata": {},
   "source": [
    "Это лишь небольшая часть методов. Остальные можно посмотреть в документации:\n",
    "https://docs.python.org/3/reference/datamodel.html#special-method-names\n",
    "\n",
    "Однако есть некоторые общие правила, например для арифметических операций (`__add__`, `__mul__` и т.д.) добавление в название символа `i` означает сокращенную форму операции (`+ => +=`), а символа `r` - обратный порядок вычисления."
   ]
  },
  {
   "cell_type": "markdown",
   "id": "0f36bc3c",
   "metadata": {},
   "source": [
    "# 3. Наследование\n",
    "\n",
    "Одно из главных достоинств ООП заключается в многократном использовании одного и того же кода. Один из способов достижения этого - механизм `наследования`. Легче всего представить себе наследование в виде отношения между классами как `тип` и `подтип`. "
   ]
  },
  {
   "cell_type": "code",
   "execution_count": 41,
   "id": "0bdbbae1",
   "metadata": {},
   "outputs": [
    {
     "name": "stdout",
     "output_type": "stream",
     "text": [
      "Создан SchoolMember: mr. S. Ivanov\n",
      "Создан Teacher: mr. S. Ivanov\n",
      "Создан SchoolMember: V. Pupkin\n",
      "Создан Student: V. Pupkin\n"
     ]
    }
   ],
   "source": [
    "class SchoolMember:\n",
    "    def __init__(self, name, age):\n",
    "        self.name = name\n",
    "        self.age = age\n",
    "        print(f'Создан SchoolMember: {self.name}')\n",
    "    \n",
    "    def tell(self):\n",
    "        print(f'Имя:{self.name} Возраст:{self.age}')\n",
    "\n",
    "class Teacher(SchoolMember):\n",
    "    def __init__(self, name, age, salary):\n",
    "        SchoolMember.__init__(self, name, age)\n",
    "        self.salary = salary\n",
    "        print(f'Создан Teacher: {self.name}')\n",
    "\n",
    "    def info(self):\n",
    "        print(f'Зарплата {self.salary}')\n",
    "\n",
    "class Student(SchoolMember):\n",
    "    def __init__(self, name, age, marks):\n",
    "        super().__init__(name, age)\n",
    "        self.marks = marks\n",
    "        print(f'Создан Student: {self.name}')\n",
    "    \n",
    "    def tell(self):\n",
    "        super().tell()\n",
    "        print(f'Оценки: {self.marks}')\n",
    "        \n",
    "        \n",
    "t = Teacher('mr. S. Ivanov', 40, 50_000)\n",
    "s = Student('V. Pupkin', 25, 75)\n",
    "    "
   ]
  },
  {
   "cell_type": "markdown",
   "id": "42042cad",
   "metadata": {},
   "source": [
    "Здесь первые строки методов `__init__` классов `Teacher` и `Student` имеют идентичный смысл: поскольку каждый из этих классов является потомком класса `SchoolMember` мы обязаны вызвать его метод инициализации (еще его называют конструктором), передав ему необходимые параметры.   "
   ]
  },
  {
   "cell_type": "code",
   "execution_count": 36,
   "id": "ce7903c6",
   "metadata": {},
   "outputs": [
    {
     "name": "stdout",
     "output_type": "stream",
     "text": [
      "Имя:mr. S. Ivanov Возраст:40\n",
      "Зарплата 50000\n"
     ]
    }
   ],
   "source": [
    "t.tell()"
   ]
  },
  {
   "cell_type": "code",
   "execution_count": 40,
   "id": "948f0f32",
   "metadata": {},
   "outputs": [
    {
     "name": "stdout",
     "output_type": "stream",
     "text": [
      "Имя:V. Pupkin Возраст:25\n"
     ]
    }
   ],
   "source": [
    "s.tell()"
   ]
  },
  {
   "cell_type": "markdown",
   "id": "42ae4431",
   "metadata": {},
   "source": [
    "Поскольку оа класса `Teacher` и `Student` имеют однин базовый класс, им доступны методы tell этого класса. Но в случае со `Student` - в нем данный метод переопределен(заменен)."
   ]
  },
  {
   "cell_type": "markdown",
   "id": "ed997ff2",
   "metadata": {},
   "source": [
    "Рассмотрим еще 1 пример:"
   ]
  },
  {
   "cell_type": "code",
   "execution_count": 42,
   "id": "3c995501",
   "metadata": {},
   "outputs": [],
   "source": [
    "class Shape:\n",
    "    def describe(self):\n",
    "        # Атрибут __class__ содержит класс или тип объекта self\n",
    "        # Атрибут __name__ содержит строку, \n",
    "        # в которой написано название класса или типа\n",
    "        print(f\"Класс: {self.__class__.__name__}\")"
   ]
  },
  {
   "cell_type": "code",
   "execution_count": 43,
   "id": "d51d3389",
   "metadata": {},
   "outputs": [
    {
     "name": "stdout",
     "output_type": "stream",
     "text": [
      "Класс: Shape\n",
      "Класс: Circle\n",
      "Класс: Rectangle\n"
     ]
    }
   ],
   "source": [
    "from math import pi\n",
    "\n",
    "\n",
    "class Circle(Shape):\n",
    "    def __init__(self, radius):\n",
    "        self.r = radius\n",
    "\n",
    "    def area(self):\n",
    "        return pi * self.r ** 2\n",
    "    \n",
    "    def perimeter(self):\n",
    "        return 2 * pi * self.r\n",
    "    \n",
    "    def square(self):\n",
    "        side = pi ** 0.5 * self.r\n",
    "        return Rectangle(side, side)\n",
    "\n",
    "class Rectangle(Shape):\n",
    "    def __init__(self, a, b):\n",
    "        self.a = a\n",
    "        self.b = b\n",
    "\n",
    "    def area(self):\n",
    "        return self.a * self.b\n",
    "    \n",
    "    def perimeter(self):\n",
    "        return 2 * (self.a + self.b)\n",
    "\n",
    "\n",
    "shape = Shape()\n",
    "shape.describe()\n",
    "\n",
    "circle = Circle(1)\n",
    "circle.describe()\n",
    "\n",
    "rectangle = Rectangle(1, 2)\n",
    "rectangle.describe()"
   ]
  },
  {
   "cell_type": "code",
   "execution_count": 44,
   "id": "ea449270",
   "metadata": {},
   "outputs": [
    {
     "name": "stdout",
     "output_type": "stream",
     "text": [
      "Площадь круга:    3.141592653589793\n",
      "Площадь квадрата: 3.1415926535897927\n",
      "Радиус круга: 1\n",
      "Длина стороны квадрата: 1.7724538509055159\n"
     ]
    }
   ],
   "source": [
    "class Circle(Shape):\n",
    "    def __init__(self, radius):\n",
    "        self.r = radius\n",
    "\n",
    "    def area(self):\n",
    "        return pi * self.r ** 2\n",
    "\n",
    "\n",
    "circle = Circle(1)\n",
    "square = circle.square()\n",
    "\n",
    "print(f\"Площадь круга:    {circle.area()}\")\n",
    "print(f\"Площадь квадрата: {square.area()}\")\n",
    "print(f\"Радиус круга: {circle.r}\")\n",
    "print(f\"Длина стороны квадрата: {square.a}\")"
   ]
  },
  {
   "cell_type": "code",
   "execution_count": null,
   "id": "69370c7f",
   "metadata": {},
   "outputs": [],
   "source": [
    "class Square(Rectangle):\n",
    "    def __init__(self, size):\n",
    "        print('Создаем квадрат')\n",
    "        super().__init__(size, size)\n",
    "\n",
    "\n",
    "side = 5\n",
    "sq = Square(side, side)\n",
    "print(sq.area())\n",
    "print(sq.perimeter())\n"
   ]
  },
  {
   "cell_type": "code",
   "execution_count": null,
   "id": "6ec7f88a",
   "metadata": {},
   "outputs": [],
   "source": [
    "sq = Square(2)\n",
    "print(sq.area())\n",
    "print(sq.perimeter())\n",
    "print(sq.a)"
   ]
  },
  {
   "cell_type": "markdown",
   "id": "d74b5a22",
   "metadata": {},
   "source": [
    "## 3.1. Множественное наследование\n",
    "\n",
    "Python поддерживает множественное наследование - наследование от 2х и более классов."
   ]
  },
  {
   "cell_type": "markdown",
   "id": "289d8c5c",
   "metadata": {},
   "source": [
    "<img src=\"https://pythonim.ru/wp-content/uploads/img-70.png\">\n",
    "\n"
   ]
  },
  {
   "cell_type": "code",
   "execution_count": 2,
   "id": "ec2cfd76",
   "metadata": {},
   "outputs": [
    {
     "name": "stdout",
     "output_type": "stream",
     "text": [
      "John\n",
      "102\n"
     ]
    }
   ],
   "source": [
    "class Person: \n",
    "    def __init__(self, personName, personAge): \n",
    "        self.name = personName \n",
    "        self.age = personAge \n",
    "    \n",
    "    def showName(self): \n",
    "        print(self.name) \n",
    "        \n",
    "    def showAge(self): \n",
    "        print(self.age) \n",
    "\n",
    "class Student: \n",
    "    def __init__(self, studentId): \n",
    "        self.studentId = studentId \n",
    "        \n",
    "    def getId(self): \n",
    "        return self.studentId \n",
    "    \n",
    "class Resident(Person, Student): # extends both Person and Student class \n",
    "    def __init__(self, name, age, id): \n",
    "        Person.__init__(self, name, age) \n",
    "        Student.__init__(self, id) \n",
    "\n",
    "resident1 = Resident('John', 30, '102') \n",
    "resident1.showName() \n",
    "print(resident1.getId())"
   ]
  },
  {
   "cell_type": "markdown",
   "id": "66d97652",
   "metadata": {},
   "source": [
    "В этом примере класс Resident получается в результате наследования от классов Person и Student"
   ]
  },
  {
   "cell_type": "code",
   "execution_count": 4,
   "id": "121267a3",
   "metadata": {},
   "outputs": [
    {
     "name": "stdout",
     "output_type": "stream",
     "text": [
      "Richard\n"
     ]
    }
   ],
   "source": [
    "class A: \n",
    "    def __init__(self): \n",
    "        self.name = 'John' \n",
    "        self.age = 23 \n",
    "    \n",
    "    def getName(self): \n",
    "        return self.name \n",
    "\n",
    "class B: \n",
    "    def __init__(self): \n",
    "        self.name = 'Richard' \n",
    "        self.id = '32' \n",
    "    \n",
    "    def getName(self): \n",
    "        return self.name \n",
    "\n",
    "class C(A, B): \n",
    "    def __init__(self): \n",
    "        A.__init__(self) \n",
    "        B.__init__(self) \n",
    "    \n",
    "    def getName(self): \n",
    "        return self.name \n",
    "\n",
    "C1 = C() \n",
    "print(C1.getName())"
   ]
  },
  {
   "cell_type": "code",
   "execution_count": 5,
   "id": "8025748f",
   "metadata": {},
   "outputs": [
    {
     "name": "stdout",
     "output_type": "stream",
     "text": [
      "John\n"
     ]
    }
   ],
   "source": [
    "class A: \n",
    "    def __init__(self): \n",
    "        super().__init__() \n",
    "        self.name = 'John' \n",
    "        self.age = 23 \n",
    "    \n",
    "    def getName(self): \n",
    "        return self.name \n",
    "\n",
    "class B: \n",
    "    def __init__(self): \n",
    "        super().__init__() \n",
    "        self.name = 'Richard' \n",
    "        self.id = '32' \n",
    "    \n",
    "    def getName(self): \n",
    "        return self.name \n",
    "\n",
    "class C(A, B): \n",
    "    def __init__(self): \n",
    "        super().__init__()\n",
    "    \n",
    "    def getName(self): \n",
    "        return self.name \n",
    "\n",
    "C1 = C() \n",
    "print(C1.getName())\n"
   ]
  },
  {
   "cell_type": "markdown",
   "id": "7b4f2a8f",
   "metadata": {},
   "source": [
    "Здесь super() в конструкторе класса С вызывает оба конструктора суперклассов А и В, и в случае конфликтов (у обоих этих классов есть метод getName) приоритет определяется порядком внутри скобок, следующих за определением целевого класса: class C(A,B)."
   ]
  }
 ],
 "metadata": {
  "kernelspec": {
   "display_name": "Python 3 (ipykernel)",
   "language": "python",
   "name": "python3"
  },
  "language_info": {
   "codemirror_mode": {
    "name": "ipython",
    "version": 3
   },
   "file_extension": ".py",
   "mimetype": "text/x-python",
   "name": "python",
   "nbconvert_exporter": "python",
   "pygments_lexer": "ipython3",
   "version": "3.9.14"
  }
 },
 "nbformat": 4,
 "nbformat_minor": 5
}
