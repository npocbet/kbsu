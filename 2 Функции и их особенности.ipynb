{
 "cells": [
  {
   "cell_type": "markdown",
   "id": "fe23281d",
   "metadata": {},
   "source": [
    "# 1. Функции, основные понятия"
   ]
  },
  {
   "cell_type": "markdown",
   "id": "f08dd301",
   "metadata": {},
   "source": [
    "Функции в программировании нужны для того, чтобы упростить и структурировать код, избежать повторения одинаковых действий и сделать программу более модульной и понятной. Функции позволяют выделить отдельные блоки кода, которые решают определенную задачу, и вызывать их по имени в любом месте программы. Функции также могут принимать и возвращать значения, которые используются для обмена данными между разными частями программы. Функции могут быть встроенными или определенными пользователем.\n",
    "\n",
    "Встроенные функци – это функции, которые предоставляются языком программирования или его библиотеками и реализуют общие или специфические операции. Например, в Python есть встроенные функци и print(), len(), type() и другие, которые позволяют выводить данные на экран, получать длину объекта, получать тип объектар и т.д.\n",
    "\n",
    "Определенные пользователем функции – это функции, которые создает сам программист для решения своих задач."
   ]
  },
  {
   "cell_type": "markdown",
   "id": "93202647",
   "metadata": {},
   "source": [
    "## 1.1. Определение функции\n",
    "Для определения функции используется ключевое слово def (сокращение от define). Тело функции прописывается с отступом. В данном примере функция принимает два аргумента (a и b). Значения аргументов будут использованы в теле функции при выполнении функции."
   ]
  },
  {
   "cell_type": "code",
   "execution_count": 4,
   "id": "574801d3",
   "metadata": {},
   "outputs": [],
   "source": [
    "def some_function(a, b):\n",
    "    c = a * b - 1\n",
    "    return c"
   ]
  },
  {
   "cell_type": "markdown",
   "id": "8c122c38",
   "metadata": {},
   "source": [
    "При объявлении функции не производится выполнения тела функции. Выполнение осуществляется только при вызове функции."
   ]
  },
  {
   "cell_type": "markdown",
   "id": "b44b5875",
   "metadata": {},
   "source": [
    "## 1.2. Вызов функции"
   ]
  },
  {
   "cell_type": "markdown",
   "id": "e0f50932",
   "metadata": {},
   "source": [
    "Для того, чтобы поспользоваться функцией, необходимо произвести вызов (call) функции. Для этого нужно написать имя функции, за которым будут следовать круглые скобки, в которых можно прописать аргументы."
   ]
  },
  {
   "cell_type": "code",
   "execution_count": 6,
   "id": "67587d4b",
   "metadata": {},
   "outputs": [
    {
     "name": "stdout",
     "output_type": "stream",
     "text": [
      "29\n"
     ]
    }
   ],
   "source": [
    "x, y = 5, 6\n",
    "result = some_function(x, y)\n",
    "print(result)"
   ]
  },
  {
   "cell_type": "markdown",
   "id": "1f6f0459",
   "metadata": {},
   "source": [
    "Очевидно, что вызов такой функции является выражением, результатом которого является значение, определяемое оператором return. Это значение, возвращаемое функцией, можно присвоить некоторой переменной.\n",
    "При вызове функций всегда после имени функции идут круглые скобки (). Если написать имя функции без скобок, то вызова функции не произойдет: имя функции является переменной, которая ссылается на объект функции, так что если просто написать имя функции, это это будет выражение, возвращающее объект функции. Это обстоятельство позволяет передавать функции по ссылке (см. ниже)\n",
    "\n",
    "После определения функции, ее можно вызывать многократно, в самых разных участках кода."
   ]
  },
  {
   "cell_type": "markdown",
   "id": "3fff0150",
   "metadata": {},
   "source": [
    "### Пример\n",
    "\n",
    "Рассмотрим код, вычисляющий площадь цилиндра:"
   ]
  },
  {
   "cell_type": "code",
   "execution_count": 8,
   "id": "1bad7e0a",
   "metadata": {},
   "outputs": [
    {
     "name": "stdout",
     "output_type": "stream",
     "text": [
      "S = 1281.12\n"
     ]
    }
   ],
   "source": [
    "h = 100\n",
    "r = 2\n",
    "pi = 3.14\n",
    "\n",
    "base_area = pi * r**2           # площадь основания\n",
    "side_area = 2 * pi * r * h      # площадь боковой поверхности\n",
    "area = 2*base_area + side_area  # полная площалдь\n",
    "\n",
    "print('S =', area)"
   ]
  },
  {
   "cell_type": "markdown",
   "id": "ef8edc3c",
   "metadata": {},
   "source": [
    "Определим функцию, которая по заданным аргументам (высота, радиус) будет вычислять площадь цилиндра и возвращать его в качестве результата выполнения:"
   ]
  },
  {
   "cell_type": "code",
   "execution_count": 9,
   "id": "c1e4f017",
   "metadata": {},
   "outputs": [],
   "source": [
    "def cylinder_area(h, r):\n",
    "    pi = 3.14\n",
    "    base_area = pi * r**2           # площадь основания\n",
    "    side_area = 2 * pi * r * h      # площадь боковой поверхности\n",
    "    area = 2*base_area + side_area  # возврат полной площади\n",
    "    return area"
   ]
  },
  {
   "cell_type": "markdown",
   "id": "f251c085",
   "metadata": {},
   "source": [
    "Теперь произведем вызов функции для того, чтобы получить площадь. Результат выполнения функции, т.е. значение, возвращаемое функцией, присвоим переменной s и выведем ее на печать:"
   ]
  },
  {
   "cell_type": "code",
   "execution_count": 10,
   "id": "86fee3bc",
   "metadata": {},
   "outputs": [
    {
     "name": "stdout",
     "output_type": "stream",
     "text": [
      "S = 1281.12\n"
     ]
    }
   ],
   "source": [
    "s = cylinder_area(100, 2)\n",
    "print('S =', s)"
   ]
  },
  {
   "cell_type": "markdown",
   "id": "19280744",
   "metadata": {},
   "source": [
    "Заметим, что переменные, хранящие значения высоты и радиуса, передаются в функцию в той последовательности, которая была предусмотрена при определении функции: первым аргументом функции является высота, вторым – радиус."
   ]
  },
  {
   "cell_type": "code",
   "execution_count": 12,
   "id": "a4051343",
   "metadata": {},
   "outputs": [
    {
     "name": "stdout",
     "output_type": "stream",
     "text": [
      "31400.0\n",
      "3768.0\n",
      "17584.0\n"
     ]
    }
   ],
   "source": [
    "print(cylinder_area(50, 50))\n",
    "print(cylinder_area(10, 20))\n",
    "print(cylinder_area(30, 40))"
   ]
  },
  {
   "cell_type": "markdown",
   "id": "fb723a67",
   "metadata": {},
   "source": [
    "## 1.3. Функции без return\n",
    "\n",
    "В качестве примера функции, которая не возвращает значений, напишем фукнцию, которая принимает в качестве аргумента некоторую строку, и выводит на печать отдельные слова, из которых оно состоит."
   ]
  },
  {
   "cell_type": "code",
   "execution_count": 13,
   "id": "ae591d71",
   "metadata": {},
   "outputs": [],
   "source": [
    "def print_words(text):\n",
    "    word = ''\n",
    "    for symbol in text:\n",
    "        if symbol != ' ':\n",
    "            word = word + symbol\n",
    "        else:\n",
    "            print(word)\n",
    "            word = ''"
   ]
  },
  {
   "cell_type": "code",
   "execution_count": 14,
   "id": "6e2af7ea",
   "metadata": {},
   "outputs": [
    {
     "name": "stdout",
     "output_type": "stream",
     "text": [
      "Medicine\n",
      "is\n",
      "the\n",
      "field\n",
      "of\n",
      "health\n",
      "and\n"
     ]
    }
   ],
   "source": [
    "some_text = \"Medicine is the field of health and healing\"\n",
    "print_words(some_text)"
   ]
  },
  {
   "cell_type": "markdown",
   "id": "5fcce576",
   "metadata": {},
   "source": [
    "Напишем теперь функцию, которая будет менять объект, передаваемый ей в качестве аргумента. В рассматриваемом примере функция increase_elements_of_list() изменяет список, увеличивая значения элементов на единицу:"
   ]
  },
  {
   "cell_type": "code",
   "execution_count": 15,
   "id": "56573fcd",
   "metadata": {},
   "outputs": [],
   "source": [
    "def increase_elements_of_list(x):\n",
    "    for i in range(len(x)):\n",
    "        x[i] += 1"
   ]
  },
  {
   "cell_type": "markdown",
   "id": "33401733",
   "metadata": {},
   "source": [
    "Следует отметить, что для передавать в функцию необходимо не произвольный список, а список целиком состоящий из чисел. Иначе оператор арифметического присваивания не будет работать корректно."
   ]
  },
  {
   "cell_type": "code",
   "execution_count": 17,
   "id": "e3273d31",
   "metadata": {},
   "outputs": [
    {
     "name": "stdout",
     "output_type": "stream",
     "text": [
      "[2, 3, 4]\n"
     ]
    }
   ],
   "source": [
    "a = [1, 2, 3]                   # имя \"a\" ссылается на список\n",
    "increase_elements_of_list(a)    # вызов функции, функция меняет список \"a\"\n",
    "print(a)"
   ]
  },
  {
   "cell_type": "markdown",
   "id": "85fe730f",
   "metadata": {},
   "source": [
    "Что возвращает функция без return?\n",
    "\n",
    "Строго говоря, функции без return все же кое что возвращают, а именно – объект None:"
   ]
  },
  {
   "cell_type": "code",
   "execution_count": 19,
   "id": "27a58066",
   "metadata": {},
   "outputs": [
    {
     "name": "stdout",
     "output_type": "stream",
     "text": [
      "None\n"
     ]
    }
   ],
   "source": [
    "result = increase_elements_of_list(a)\n",
    "print(result)"
   ]
  },
  {
   "cell_type": "markdown",
   "id": "8f773c9a",
   "metadata": {},
   "source": [
    "Литерал None в Python позволяет представить null переменную, то есть переменную, которая не содержит какого-либо значения. Другими словами, None – это специальная константа, означающая пустоту. Если более точно, то None – это объект специального типа данных NoneType."
   ]
  },
  {
   "cell_type": "markdown",
   "id": "27ee1fa2",
   "metadata": {},
   "source": [
    "## 1.4. Встроенные функции"
   ]
  },
  {
   "cell_type": "markdown",
   "id": "abb3d39a",
   "metadata": {},
   "source": [
    "**help()**\n",
    "\n",
    "help() – это встроенная функция в Python, которая позволяет получить справку по любому объекту языка, такому как модуль, класс, функция, переменная и т.д. Функция help() вызывает интерактивную справочную систему, которая показывает документацию по объекту, его атрибутам, методам и примерам использования. "
   ]
  },
  {
   "cell_type": "code",
   "execution_count": 21,
   "id": "7ffd726f",
   "metadata": {},
   "outputs": [
    {
     "name": "stdout",
     "output_type": "stream",
     "text": [
      "Help on built-in function print in module builtins:\n",
      "\n",
      "print(...)\n",
      "    print(value, ..., sep=' ', end='\\n', file=sys.stdout, flush=False)\n",
      "    \n",
      "    Prints the values to a stream, or to sys.stdout by default.\n",
      "    Optional keyword arguments:\n",
      "    file:  a file-like object (stream); defaults to the current sys.stdout.\n",
      "    sep:   string inserted between values, default a space.\n",
      "    end:   string appended after the last value, default a newline.\n",
      "    flush: whether to forcibly flush the stream.\n",
      "\n"
     ]
    }
   ],
   "source": [
    "help(print)"
   ]
  },
  {
   "cell_type": "markdown",
   "id": "ebf484cb",
   "metadata": {},
   "source": [
    "**abs()**\n",
    "\n",
    "abs() возвращает абсолютную величину числа:"
   ]
  },
  {
   "cell_type": "code",
   "execution_count": 22,
   "id": "e71674af",
   "metadata": {},
   "outputs": [
    {
     "name": "stdout",
     "output_type": "stream",
     "text": [
      "-3.6666666666666665\n"
     ]
    }
   ],
   "source": [
    "a = - 11 / 3\n",
    "print(a)"
   ]
  },
  {
   "cell_type": "code",
   "execution_count": 23,
   "id": "050cfdc5",
   "metadata": {},
   "outputs": [
    {
     "name": "stdout",
     "output_type": "stream",
     "text": [
      "3.6666666666666665\n"
     ]
    }
   ],
   "source": [
    "b = abs(a)\n",
    "print(b)"
   ]
  },
  {
   "cell_type": "markdown",
   "id": "e4fa5d04",
   "metadata": {},
   "source": [
    "**round()**\n",
    "\n",
    "round() округляет число до ближайшего целого, либо до n знаков после запятой:"
   ]
  },
  {
   "cell_type": "code",
   "execution_count": 24,
   "id": "163b8ce9",
   "metadata": {},
   "outputs": [
    {
     "data": {
      "text/plain": [
       "4"
      ]
     },
     "execution_count": 24,
     "metadata": {},
     "output_type": "execute_result"
    }
   ],
   "source": [
    "round(b)"
   ]
  },
  {
   "cell_type": "code",
   "execution_count": 25,
   "id": "eec49bab",
   "metadata": {},
   "outputs": [
    {
     "data": {
      "text/plain": [
       "3.67"
      ]
     },
     "execution_count": 25,
     "metadata": {},
     "output_type": "execute_result"
    }
   ],
   "source": [
    "round(b, 2)"
   ]
  },
  {
   "cell_type": "markdown",
   "id": "1b72b78f",
   "metadata": {},
   "source": [
    "**max() & min()**\n",
    "\n",
    "max() и min() возвращают максимальный и минимальный эелемент последовательности"
   ]
  },
  {
   "cell_type": "code",
   "execution_count": 26,
   "id": "68590bc3",
   "metadata": {},
   "outputs": [],
   "source": [
    "L_1 = [1, -2, 3, 2, 5, 2, -3, 4, 5, 0]\n",
    "L_2 = [2, 3, -3, 5, 3, -4, 5, 0, 9, 3]"
   ]
  },
  {
   "cell_type": "code",
   "execution_count": 27,
   "id": "099f74e4",
   "metadata": {},
   "outputs": [
    {
     "name": "stdout",
     "output_type": "stream",
     "text": [
      "5\n",
      "9\n"
     ]
    }
   ],
   "source": [
    "print(max(L_1))\n",
    "print(max(L_2))"
   ]
  },
  {
   "cell_type": "code",
   "execution_count": 28,
   "id": "69f102a7",
   "metadata": {},
   "outputs": [
    {
     "name": "stdout",
     "output_type": "stream",
     "text": [
      "-3\n",
      "-4\n"
     ]
    }
   ],
   "source": [
    "print(min(L_1))\n",
    "print(min(L_2))"
   ]
  },
  {
   "cell_type": "markdown",
   "id": "d28ffd0a",
   "metadata": {},
   "source": [
    "**sum()**  \n",
    "позволяет просуммировать элементы коллекции, состоящей только из цифр"
   ]
  },
  {
   "cell_type": "code",
   "execution_count": 29,
   "id": "5666983c",
   "metadata": {},
   "outputs": [
    {
     "name": "stdout",
     "output_type": "stream",
     "text": [
      "17 23\n"
     ]
    }
   ],
   "source": [
    "print(sum(L_1), sum(L_2))"
   ]
  },
  {
   "cell_type": "markdown",
   "id": "308b08ee",
   "metadata": {},
   "source": [
    "**zip()**\n",
    "\n",
    "Функция zip() позволяет пройтись в цикле параллельно по двум или нескольким последовательностям.\n",
    "\n",
    "Получим список, содержащий поэлементные разности двух списков:\n"
   ]
  },
  {
   "cell_type": "code",
   "execution_count": 31,
   "id": "eb2b227a",
   "metadata": {},
   "outputs": [
    {
     "name": "stdout",
     "output_type": "stream",
     "text": [
      "[1, 5, -6, 3, -2, -6, 8, -4, 4, 3]\n"
     ]
    }
   ],
   "source": [
    "differences = []\n",
    "lenght = len(L_1)\n",
    "\n",
    "for index in range(lenght):\n",
    "    diff = L_2[index] - L_1[index]\n",
    "    differences.append(diff)\n",
    "\n",
    "print(differences)"
   ]
  },
  {
   "cell_type": "markdown",
   "id": "33f5e880",
   "metadata": {},
   "source": [
    "Напишем в виде функции:"
   ]
  },
  {
   "cell_type": "code",
   "execution_count": 32,
   "id": "0c5677b8",
   "metadata": {},
   "outputs": [],
   "source": [
    "def get_differences(a, b):\n",
    "\n",
    "    differences = []\n",
    "    for v1, v2 in zip(a, b):\n",
    "        diff = v2 - v1\n",
    "        differences.append(diff)\n",
    "\n",
    "    return differences"
   ]
  },
  {
   "cell_type": "code",
   "execution_count": 33,
   "id": "8f4d8b7d",
   "metadata": {},
   "outputs": [
    {
     "name": "stdout",
     "output_type": "stream",
     "text": [
      "[1, 5, -6, 3, -2, -6, 8, -4, 4, 3]\n"
     ]
    }
   ],
   "source": [
    "d = get_differences(L_1, L_2)\n",
    "print(d)"
   ]
  },
  {
   "cell_type": "markdown",
   "id": "66254533",
   "metadata": {},
   "source": [
    "**sorted**\n",
    "\n",
    "позволяет получить отсортированный список чисел. По умолчанию - по возрастанию."
   ]
  },
  {
   "cell_type": "code",
   "execution_count": 34,
   "id": "03ffee3e",
   "metadata": {},
   "outputs": [
    {
     "name": "stdout",
     "output_type": "stream",
     "text": [
      "[-5, -1, 0, 1, 2, 3, 7]\n"
     ]
    }
   ],
   "source": [
    "a = [1, 2, 0, -1, 3, -5, 7]\n",
    "print(sorted(a))"
   ]
  },
  {
   "cell_type": "markdown",
   "id": "a6b29085",
   "metadata": {},
   "source": [
    "также есть возможность отсортировать по убыванию, для этого используется аргумент **reverse**"
   ]
  },
  {
   "cell_type": "code",
   "execution_count": 36,
   "id": "0ac32760",
   "metadata": {},
   "outputs": [
    {
     "name": "stdout",
     "output_type": "stream",
     "text": [
      "[7, 3, 2, 1, 0, -1, -5]\n"
     ]
    }
   ],
   "source": [
    "print(sorted(a, reverse=True))"
   ]
  },
  {
   "cell_type": "markdown",
   "id": "a7e9ef76",
   "metadata": {},
   "source": [
    "**type()**\n",
    "\n",
    "эта функция возвращает тип значения переданного ей аргумента"
   ]
  },
  {
   "cell_type": "code",
   "execution_count": 38,
   "id": "de6a39c7",
   "metadata": {},
   "outputs": [
    {
     "name": "stdout",
     "output_type": "stream",
     "text": [
      "<class 'str'>\n",
      "<class 'int'>\n",
      "<class 'float'>\n",
      "<class 'list'>\n",
      "<class 'bool'>\n",
      "<class 'dict'>\n"
     ]
    }
   ],
   "source": [
    "print(type('some string'))\n",
    "print(type(3))\n",
    "print(type(4.2))\n",
    "print(type([1, 2, 3]))\n",
    "print(type(True))\n",
    "print(type({'1': 'Иванов', '2': 'Петров'}))"
   ]
  },
  {
   "cell_type": "markdown",
   "id": "10c269c1",
   "metadata": {},
   "source": [
    "## 1.5. Композиция функций"
   ]
  },
  {
   "cell_type": "markdown",
   "id": "27a69aff",
   "metadata": {},
   "source": [
    "Под композицией мы понимаем передачу вывода одной функции другой в качестве значения аргумента"
   ]
  },
  {
   "cell_type": "code",
   "execution_count": 39,
   "id": "1b175993",
   "metadata": {},
   "outputs": [
    {
     "name": "stdout",
     "output_type": "stream",
     "text": [
      "<class 'int'>\n"
     ]
    }
   ],
   "source": [
    "print(type(10))"
   ]
  },
  {
   "cell_type": "markdown",
   "id": "32c3dacd",
   "metadata": {},
   "source": [
    "В общем случае можно неограниченно вкладывать вызовы функций друг в друга:"
   ]
  },
  {
   "cell_type": "code",
   "execution_count": 40,
   "id": "ec228d1c",
   "metadata": {},
   "outputs": [
    {
     "name": "stdout",
     "output_type": "stream",
     "text": [
      "13\n"
     ]
    }
   ],
   "source": [
    "print(len(str(type(10))))"
   ]
  },
  {
   "cell_type": "markdown",
   "id": "c28cc5eb",
   "metadata": {},
   "source": [
    "# 2. Области видимости переменных"
   ]
  },
  {
   "cell_type": "markdown",
   "id": "8a4173aa",
   "metadata": {},
   "source": [
    "Рассмотрим пример"
   ]
  },
  {
   "cell_type": "code",
   "execution_count": 41,
   "id": "f7a13d6e",
   "metadata": {},
   "outputs": [
    {
     "name": "stdout",
     "output_type": "stream",
     "text": [
      "Hello\n",
      "world\n",
      "123\n",
      "456\n",
      "789\n"
     ]
    }
   ],
   "source": [
    "def print_array(array):\n",
    "    for element in array:\n",
    "        print(element)\n",
    "\n",
    "\n",
    "print_array(['Hello', 'world'])\n",
    "print_array([123, 456, 789])"
   ]
  },
  {
   "cell_type": "markdown",
   "id": "65310cd8",
   "metadata": {},
   "source": [
    "**Локальная переменная**\n",
    "\n",
    "Переменная array будет локальной. Она существует только во время выполнения (или «жизни», как иногда говорят) функции. Можно сказать, что имя аргумента функции — временное имя для переданного в функцию значения."
   ]
  },
  {
   "cell_type": "code",
   "execution_count": null,
   "id": "5639abe8",
   "metadata": {},
   "outputs": [],
   "source": [
    "def print_array(array):\n",
    "    for element in array:\n",
    "        print(element)\n",
    "\n",
    "\n",
    "words = ['Hello', 'world']\n",
    "print_array(words)"
   ]
  },
  {
   "cell_type": "markdown",
   "id": "848e08ef",
   "metadata": {},
   "source": [
    "Теперь у списка есть имя words. Но в момент выполнения функции у этого списка существуют сразу два имени: words — имя из «внешнего мира», из глобальной области видимости, и array — локальное имя. В функции можно использовать любое из них, но внешнее — крайне не рекомендуется.\n",
    "\n",
    "Давайте перепишем программу, используя внешнее имя, и разберемся, почему так делать не стоит:"
   ]
  },
  {
   "cell_type": "code",
   "execution_count": 42,
   "id": "b0a24b40",
   "metadata": {},
   "outputs": [
    {
     "name": "stdout",
     "output_type": "stream",
     "text": [
      "Hello\n",
      "world\n"
     ]
    }
   ],
   "source": [
    "def print_array(array):\n",
    "    for element in words:\n",
    "        print(element)\n",
    "\n",
    "\n",
    "words = ['Hello', 'world']\n",
    "print_array(words)"
   ]
  },
  {
   "cell_type": "markdown",
   "id": "c15be7f4",
   "metadata": {},
   "source": [
    "Пока все работает аналогично предыдущему примеру. А теперь выполним такую команду:"
   ]
  },
  {
   "cell_type": "code",
   "execution_count": 43,
   "id": "68f689fd",
   "metadata": {},
   "outputs": [
    {
     "name": "stdout",
     "output_type": "stream",
     "text": [
      "Hello\n",
      "world\n"
     ]
    }
   ],
   "source": [
    "print_array(['abc', 'def', 'ghi'])"
   ]
  },
  {
   "cell_type": "markdown",
   "id": "1cac1c95",
   "metadata": {},
   "source": [
    "Мы рассчитывали, что будут распечатаны три строки: abc, def и ghi, но вместо этого снова распечатались Hello и world, которые находятся в списке words.\n",
    "\n",
    "К внешним переменным прибегать допустимо, если переменная — константа. Константы обычно пишутся большими буквами, чтобы не перепутать их с обычными переменными.\n",
    "\n",
    "Вот пример корректного обращения к переменным(константам) из внешнего мира:"
   ]
  },
  {
   "cell_type": "code",
   "execution_count": 44,
   "id": "339bf81a",
   "metadata": {},
   "outputs": [
    {
     "name": "stdout",
     "output_type": "stream",
     "text": [
      "желтый\n",
      "yellow\n"
     ]
    }
   ],
   "source": [
    "ENGLISH_RAINBOW_COLORS = [\n",
    "    'red', 'orange', 'yellow', 'green', 'blue', 'indigo', 'violet'\n",
    "]\n",
    "RUSSIAN_RAINBOW_COLORS = [\n",
    "    'красный', 'оранжевый', 'желтый', 'зеленый', 'голубой', 'синий',\n",
    "    'фиолетовый'\n",
    "]\n",
    "\n",
    "\n",
    "def rainbow_color(index, russian_or_english):\n",
    "    if russian_or_english == 'russian':\n",
    "        print(RUSSIAN_RAINBOW_COLORS[index])\n",
    "    elif russian_or_english == 'english':\n",
    "        print(ENGLISH_RAINBOW_COLORS[index])\n",
    "    else:\n",
    "        print('Неверный язык')\n",
    "\n",
    "\n",
    "rainbow_color(2, 'russian')\n",
    "rainbow_color(2, 'english')"
   ]
  },
  {
   "cell_type": "markdown",
   "id": "a54c7306",
   "metadata": {},
   "source": [
    "## 2.1. Принцип работы области видимости переменных\n",
    "\n",
    "1. Внутри функции видны все переменные этой функции (локальные переменные и аргументы функции).\n",
    "2. Внутри функции видны переменные, которые определены снаружи этой функции.\n",
    "3. Снаружи не видны никакие переменные, которые определены внутри функции.\n",
    "\n",
    "Еще 1 пример:"
   ]
  },
  {
   "cell_type": "code",
   "execution_count": 45,
   "id": "11866fc2",
   "metadata": {},
   "outputs": [
    {
     "name": "stdout",
     "output_type": "stream",
     "text": [
      "Место встречи:  Красная площадь\n",
      "Площадь площади:  24750\n",
      "Повторяю, место встречи:  Красная площадь\n"
     ]
    }
   ],
   "source": [
    "area = 'Красная площадь'\n",
    "\n",
    "\n",
    "def print_square_area(length, width):\n",
    "    area = length * width\n",
    "    print('Площадь площади: ', area)\n",
    "\n",
    "\n",
    "print('Место встречи: ', area)\n",
    "print_square_area(330, 75)\n",
    "print('Повторяю, место встречи: ', area)"
   ]
  },
  {
   "cell_type": "markdown",
   "id": "b86a18da",
   "metadata": {},
   "source": [
    "Оказывается, area внутри функции и снаружи — это две совершенно разные переменные. Если внутри функции переменной что-то присваивается (в любом месте функции), интерпретатор не позволит вам работать с внешней переменной.\n",
    "\n",
    "Вместо этого он создает новую переменную с тем же именем и присваивает значение уже ей. При этом к внешней переменной вы обратиться уже не можете: внутри функции она потеряла свое имя.\n",
    "\n",
    "Для того чтобы не вносить в программу лишние глобальные переменные, часто весь код с внешнего уровня программы (т. е. все, что не находится внутри функции) переносят в отдельную функцию main. После этого остается только вызвать ее. Все переменные, которые были глобальными, таким образом, становятся локальными для функции main и не загрязняют область видимости других функций."
   ]
  },
  {
   "cell_type": "code",
   "execution_count": 46,
   "id": "5e00ab09",
   "metadata": {},
   "outputs": [
    {
     "name": "stdout",
     "output_type": "stream",
     "text": [
      "Место встречи:  Красная площадь\n",
      "Площадь площади:  24750\n",
      "Повторяю, место встречи:  Красная площадь\n"
     ]
    }
   ],
   "source": [
    "def print_square_area(length, width):\n",
    "    area = length * width\n",
    "    print('Площадь площади: ', area)\n",
    "\n",
    "\n",
    "def main():\n",
    "    area = 'Красная площадь'\n",
    "    print('Место встречи: ', area)\n",
    "    print_square_area(330, 75)\n",
    "    print('Повторяю, место встречи: ', area)\n",
    "\n",
    "\n",
    "main()"
   ]
  },
  {
   "cell_type": "markdown",
   "id": "4ba0aef7",
   "metadata": {},
   "source": [
    "## 2.2. Глобальные переменные"
   ]
  },
  {
   "cell_type": "markdown",
   "id": "915fdd37",
   "metadata": {},
   "source": [
    "Для изменения глобальной переменной перед тем, как присваивать внутри функции этой переменной какое-то значение, нужно указать, что она глобальная, т. е. относится к внешней области видимости."
   ]
  },
  {
   "cell_type": "code",
   "execution_count": 47,
   "id": "24d1d015",
   "metadata": {},
   "outputs": [
    {
     "name": "stdout",
     "output_type": "stream",
     "text": [
      "Ты спрашиваешь меня уже в 1-й раз\n",
      "Ты спрашиваешь меня уже в 2-й раз\n",
      "Ты спрашиваешь меня уже в 3-й раз\n"
     ]
    }
   ],
   "source": [
    "ask_number = 0\n",
    "\n",
    "\n",
    "def ask_again():\n",
    "    global ask_number\n",
    "    ask_number = ask_number + 1\n",
    "    print('Ты спрашиваешь меня уже в ', ask_number, '-й раз', sep='')\n",
    "\n",
    "\n",
    "ask_again()\n",
    "ask_again()\n",
    "ask_again()"
   ]
  },
  {
   "cell_type": "markdown",
   "id": "133271fc",
   "metadata": {},
   "source": [
    "# 3. Аргументы функции"
   ]
  },
  {
   "cell_type": "markdown",
   "id": "c03dd096",
   "metadata": {},
   "source": [
    "## 3.1. Распаковка и запаковка значений"
   ]
  },
  {
   "cell_type": "code",
   "execution_count": 52,
   "id": "2f38677e",
   "metadata": {},
   "outputs": [
    {
     "name": "stdout",
     "output_type": "stream",
     "text": [
      "1 2\n"
     ]
    }
   ],
   "source": [
    "def get_coordinates():\n",
    "    return 1, 2\n",
    "\n",
    "\n",
    "x, y = get_coordinates()\n",
    "print(x, y)"
   ]
  },
  {
   "cell_type": "code",
   "execution_count": 54,
   "id": "889a8109",
   "metadata": {},
   "outputs": [
    {
     "data": {
      "text/plain": [
       "[3, 4, 5, 6]"
      ]
     },
     "execution_count": 54,
     "metadata": {},
     "output_type": "execute_result"
    }
   ],
   "source": [
    "x, y, *rest = 1, 2, 3, 4, 5, 6\n",
    "rest"
   ]
  },
  {
   "cell_type": "markdown",
   "id": "a21ba40d",
   "metadata": {},
   "source": [
    "Учтите, что rest всегда будет списком, даже когда в него попадает лишь один элемент или даже ноль:"
   ]
  },
  {
   "cell_type": "code",
   "execution_count": 56,
   "id": "9bc3941e",
   "metadata": {},
   "outputs": [
    {
     "name": "stdout",
     "output_type": "stream",
     "text": [
      "[3]\n"
     ]
    }
   ],
   "source": [
    "x, y, *rest = 1, 2, 3\n",
    "print(rest)"
   ]
  },
  {
   "cell_type": "code",
   "execution_count": 57,
   "id": "0fd81aa7",
   "metadata": {},
   "outputs": [
    {
     "name": "stdout",
     "output_type": "stream",
     "text": [
      "[]\n"
     ]
    }
   ],
   "source": [
    "x, y, *rest = 1, 2\n",
    "print(rest)"
   ]
  },
  {
   "cell_type": "markdown",
   "id": "53f561aa",
   "metadata": {},
   "source": [
    "Звездочка может быть только у одного аргумента, но необязательно у последнего:"
   ]
  },
  {
   "cell_type": "code",
   "execution_count": 62,
   "id": "69facaca",
   "metadata": {},
   "outputs": [
    {
     "name": "stdout",
     "output_type": "stream",
     "text": [
      "['Анна', 'Мария', 'Луиза']\n",
      "Медичи\n"
     ]
    }
   ],
   "source": [
    "*names, surname = 'Анна Мария Луиза Медичи'.split()\n",
    "print(names)   \n",
    "print(surname) "
   ]
  },
  {
   "cell_type": "markdown",
   "id": "45e77611",
   "metadata": {},
   "source": [
    "Общее правило такое: при любых нестандартных присваиваниях сначала происходит запаковывание значений в правой части, а затем распаковка их в переменные, стоящие в левой части.\n",
    "\n",
    "Но есть и отличие. При множественном присваивании переменная со звездочкой получает список значений. А когда аргумент функции указан со звездочкой, он получает кортеж значений."
   ]
  },
  {
   "cell_type": "code",
   "execution_count": 63,
   "id": "3dc00d90",
   "metadata": {},
   "outputs": [
    {
     "data": {
      "text/plain": [
       "210"
      ]
     },
     "execution_count": 63,
     "metadata": {},
     "output_type": "execute_result"
    }
   ],
   "source": [
    "def product(first, *rest):\n",
    "    result = first\n",
    "    for value in rest:\n",
    "        result *= value\n",
    "    return result\n",
    "\n",
    "\n",
    "product(2,3,5,7)"
   ]
  },
  {
   "cell_type": "markdown",
   "id": "60c08ea9",
   "metadata": {},
   "source": [
    "Звездочку можно использовать не только для того, чтобы запаковать аргументы. Распаковать их тоже можно. Если при вызове функции вы поставите звездочку перед переданным аргументом-списком, список раскроется и как бы «потеряет границы». Элементы списка станут аргументами функции."
   ]
  },
  {
   "cell_type": "code",
   "execution_count": 64,
   "id": "d2eda539",
   "metadata": {},
   "outputs": [],
   "source": [
    "arr = ['cd', 'ef', 'gh']"
   ]
  },
  {
   "cell_type": "code",
   "execution_count": 65,
   "id": "c5976200",
   "metadata": {},
   "outputs": [
    {
     "name": "stdout",
     "output_type": "stream",
     "text": [
      "['cd', 'ef', 'gh']\n"
     ]
    }
   ],
   "source": [
    "print(arr) # => ['cd', 'ef', 'gh']"
   ]
  },
  {
   "cell_type": "code",
   "execution_count": 66,
   "id": "25314662",
   "metadata": {},
   "outputs": [
    {
     "name": "stdout",
     "output_type": "stream",
     "text": [
      "cd ef gh\n"
     ]
    }
   ],
   "source": [
    "print(*arr)"
   ]
  },
  {
   "cell_type": "code",
   "execution_count": 67,
   "id": "2cfc8918",
   "metadata": {},
   "outputs": [
    {
     "name": "stdout",
     "output_type": "stream",
     "text": [
      "сd ef gh\n"
     ]
    }
   ],
   "source": [
    "print('сd', 'ef', 'gh')"
   ]
  },
  {
   "cell_type": "code",
   "execution_count": 68,
   "id": "1479d281",
   "metadata": {},
   "outputs": [
    {
     "name": "stdout",
     "output_type": "stream",
     "text": [
      "ab cd ef gh yz\n"
     ]
    }
   ],
   "source": [
    "print('ab', *arr, 'yz')"
   ]
  },
  {
   "cell_type": "code",
   "execution_count": 69,
   "id": "7905b9c4",
   "metadata": {},
   "outputs": [
    {
     "name": "stdout",
     "output_type": "stream",
     "text": [
      "cd ef gh cd ef gh\n"
     ]
    }
   ],
   "source": [
    "print(*arr, *arr)"
   ]
  },
  {
   "cell_type": "markdown",
   "id": "86a759d0",
   "metadata": {},
   "source": [
    "## 3.2. Аргументы по умолчанию"
   ]
  },
  {
   "cell_type": "code",
   "execution_count": 70,
   "id": "3b33ef3d",
   "metadata": {},
   "outputs": [],
   "source": [
    "def make_burger(type_of_meat, with_onion=False, with_tomato=True):\n",
    "    print('Булочка')\n",
    "    if with_onion:\n",
    "        print('Луковые колечки')\n",
    "    if with_tomato:\n",
    "        print('Ломтик помидора')\n",
    "    print('Котлета из', type_of_meat)\n",
    "    print('Булочка')"
   ]
  },
  {
   "cell_type": "markdown",
   "id": "08a2e61e",
   "metadata": {},
   "source": [
    "При вызове такое функции допускается ввод только одного аргумента - type_of_meat. Другие 2 аргумента получат то значение, которое для функции указано как значение по умолчанию"
   ]
  },
  {
   "cell_type": "code",
   "execution_count": 71,
   "id": "df46c05c",
   "metadata": {},
   "outputs": [
    {
     "name": "stdout",
     "output_type": "stream",
     "text": [
      "Булочка\n",
      "Ломтик помидора\n",
      "Котлета из говядины\n",
      "Булочка\n"
     ]
    }
   ],
   "source": [
    "make_burger('говядины')"
   ]
  },
  {
   "cell_type": "code",
   "execution_count": 72,
   "id": "6b3ca2bf",
   "metadata": {},
   "outputs": [
    {
     "name": "stdout",
     "output_type": "stream",
     "text": [
      "Булочка\n",
      "Луковые колечки\n",
      "Ломтик помидора\n",
      "Котлета из говядины\n",
      "Булочка\n"
     ]
    }
   ],
   "source": [
    "make_burger('говядины', True)"
   ]
  },
  {
   "cell_type": "code",
   "execution_count": 73,
   "id": "3429f2ec",
   "metadata": {},
   "outputs": [
    {
     "name": "stdout",
     "output_type": "stream",
     "text": [
      "Булочка\n",
      "Луковые колечки\n",
      "Котлета из говядины\n",
      "Булочка\n"
     ]
    }
   ],
   "source": [
    "make_burger('говядины', True, False)"
   ]
  },
  {
   "cell_type": "code",
   "execution_count": 74,
   "id": "1905cb76",
   "metadata": {},
   "outputs": [
    {
     "name": "stdout",
     "output_type": "stream",
     "text": [
      "Булочка\n",
      "Котлета из говядины\n",
      "Булочка\n"
     ]
    }
   ],
   "source": [
    "make_burger('говядины', False, False)"
   ]
  },
  {
   "cell_type": "markdown",
   "id": "d91a0b80",
   "metadata": {},
   "source": [
    "## 3.3. Именованные аргументы"
   ]
  },
  {
   "cell_type": "markdown",
   "id": "b0d98202",
   "metadata": {},
   "source": [
    "Аргументы, которые передаются без указания имен, называются **позиционными**, потому что функция по положению аргумента понимает, какому параметру он соответствует. Аргументы, которые передаются с именами, называются **именованными**.\n",
    "\n",
    "Именованные аргументы можно использовать вместе со значениями по умолчанию."
   ]
  },
  {
   "cell_type": "code",
   "execution_count": 76,
   "id": "9b8d1c60",
   "metadata": {},
   "outputs": [
    {
     "name": "stdout",
     "output_type": "stream",
     "text": [
      "Булочка\n",
      "Котлета из говядина\n",
      "Булочка\n"
     ]
    }
   ],
   "source": [
    "make_burger(type_of_meat='говядина', with_tomato=False)"
   ]
  },
  {
   "cell_type": "code",
   "execution_count": 77,
   "id": "079f909c",
   "metadata": {},
   "outputs": [
    {
     "name": "stdout",
     "output_type": "stream",
     "text": [
      "Булочка\n",
      "Котлета из говядина\n",
      "Булочка\n"
     ]
    }
   ],
   "source": [
    "make_burger(with_tomato=False, type_of_meat='говядина')"
   ]
  },
  {
   "cell_type": "markdown",
   "id": "fb0b40e0",
   "metadata": {},
   "source": [
    "`**kwargs`\n",
    "\n",
    "Аргумент с двумя звездочками `**kwargs`— специальный аргумент, который может перехватить все «лишние» именованные аргументы, переданные в функцию. Лишними аргументами будут все именованные аргументы в команде вызова функции, для которых нет соответствующего параметра в определении функции."
   ]
  },
  {
   "cell_type": "code",
   "execution_count": 78,
   "id": "47ac55df",
   "metadata": {},
   "outputs": [
    {
     "name": "stdout",
     "output_type": "stream",
     "text": [
      "Имя: Сергей\n",
      "Фамилия: Михалков\n",
      "Город проживания: Москва\n",
      "Дети: Никита Михалков, Андрей Кончаловский\n",
      "{'occupation': 'writer', 'diedIn': 2009}\n"
     ]
    }
   ],
   "source": [
    "def profile(name, surname, city, *children, **additional_info):\n",
    "    print(\"Имя:\", name)\n",
    "    print(\"Фамилия:\", surname)\n",
    "    print(\"Город проживания:\", city)\n",
    "    if len(children) > 0:\n",
    "        print(\"Дети:\", \", \".join(children))\n",
    "    print(additional_info)\n",
    "\n",
    "\n",
    "profile(\"Сергей\", \"Михалков\", \"Москва\", \"Никита Михалков\", \n",
    "        \"Андрей Кончаловский\", occupation=\"writer\", diedIn=2009)"
   ]
  },
  {
   "cell_type": "markdown",
   "id": "1f66b7bd",
   "metadata": {},
   "source": [
    "Как вы уже знаете, параметр children будет списком лишних позиционных аргументов. А вот additional_info будет словарем лишних именованных аргументов. "
   ]
  },
  {
   "cell_type": "code",
   "execution_count": 80,
   "id": "04918c94",
   "metadata": {},
   "outputs": [
    {
     "name": "stdout",
     "output_type": "stream",
     "text": [
      "Теперь текст выводится с линией перфорации.\n",
      "--------------------\n",
      "И можно использовать любые опции:\n",
      "--------------------\n",
      "end, sep, прочие!\n",
      "--------------------\n"
     ]
    }
   ],
   "source": [
    "def perforated_print(*args, **kwargs):\n",
    "    print(*args,**kwargs)\n",
    "    print('-' * 20)\n",
    "\n",
    "\n",
    "perforated_print('Теперь текст выводится с линией перфорации.')\n",
    "perforated_print('И', 'можно', 'использовать', 'любые', 'опции', end=':\\n')\n",
    "perforated_print('end', 'sep', 'прочие', sep=', ', end='!\\n')"
   ]
  },
  {
   "cell_type": "markdown",
   "id": "7ae4aaba",
   "metadata": {},
   "source": [
    "# 4. Рекурсия"
   ]
  },
  {
   "cell_type": "markdown",
   "id": "b39ffec1",
   "metadata": {},
   "source": [
    "рекурсия в программировании — прием, когда функция может вызывать сама себя прямо либо косвенно (через другую функцию, при этом обе функции являются рекурсивными).\n",
    "\n",
    "Примером может служить нахождение факториала:\n",
    "\n",
    "n! = **1 * 2 * 3 * ... * (n - 1)** * n\n",
    "\n",
    "а для 0 он равен 1.\n",
    "\n",
    "При этом можно обратить внимание на часть выделенную жирным. Очевидно, что она равна (n - 1)!\n",
    "\n",
    "Перепишем общее правило:\n",
    "\n",
    "n! = **(n - 1)!** * n"
   ]
  },
  {
   "cell_type": "code",
   "execution_count": 81,
   "id": "81df46df",
   "metadata": {},
   "outputs": [],
   "source": [
    "def rec_factorial(number):\n",
    "    if number == 0:\n",
    "        return 1\n",
    "    else:\n",
    "        return number * rec_factorial(number - 1)"
   ]
  },
  {
   "cell_type": "code",
   "execution_count": 82,
   "id": "a9e8ddd1",
   "metadata": {},
   "outputs": [
    {
     "data": {
      "text/plain": [
       "24"
      ]
     },
     "execution_count": 82,
     "metadata": {},
     "output_type": "execute_result"
    }
   ],
   "source": [
    "rec_factorial(4)   # 1 * 2 * 3 * 4"
   ]
  },
  {
   "cell_type": "markdown",
   "id": "217ac1d9",
   "metadata": {},
   "source": [
    "Рассмотрим в качестве примера функцию, вычисляющую числа Фибоначчи.\n",
    "\n",
    "Числа Фибоначчи — ряд чисел: 1, 1, 2, 3, 5, 8, 13, 21, 34, 55, 89...\n",
    "\n",
    "В этой последовательности сумма очередного числа (кроме первых 2-х, равных единице) равняется сумме двух предыдущих."
   ]
  },
  {
   "cell_type": "code",
   "execution_count": 83,
   "id": "146549b6",
   "metadata": {},
   "outputs": [],
   "source": [
    "def rec_fib(n):\n",
    "    if 0 < n <= 2:\n",
    "        return 1\n",
    "    else:\n",
    "        return rec_fib(n - 1) + rec_fib(n - 2)"
   ]
  },
  {
   "cell_type": "code",
   "execution_count": 84,
   "id": "e14e938f",
   "metadata": {},
   "outputs": [
    {
     "data": {
      "text/plain": [
       "2"
      ]
     },
     "execution_count": 84,
     "metadata": {},
     "output_type": "execute_result"
    }
   ],
   "source": [
    "rec_fib(3)"
   ]
  },
  {
   "cell_type": "code",
   "execution_count": 85,
   "id": "6a862434",
   "metadata": {},
   "outputs": [
    {
     "data": {
      "text/plain": [
       "3"
      ]
     },
     "execution_count": 85,
     "metadata": {},
     "output_type": "execute_result"
    }
   ],
   "source": [
    "rec_fib(4)"
   ]
  },
  {
   "cell_type": "code",
   "execution_count": 86,
   "id": "ca97c12b",
   "metadata": {},
   "outputs": [
    {
     "data": {
      "text/plain": [
       "13"
      ]
     },
     "execution_count": 86,
     "metadata": {},
     "output_type": "execute_result"
    }
   ],
   "source": [
    "rec_fib(7)"
   ]
  }
 ],
 "metadata": {
  "kernelspec": {
   "display_name": "Python 3 (ipykernel)",
   "language": "python",
   "name": "python3"
  },
  "language_info": {
   "codemirror_mode": {
    "name": "ipython",
    "version": 3
   },
   "file_extension": ".py",
   "mimetype": "text/x-python",
   "name": "python",
   "nbconvert_exporter": "python",
   "pygments_lexer": "ipython3",
   "version": "3.9.14"
  }
 },
 "nbformat": 4,
 "nbformat_minor": 5
}
