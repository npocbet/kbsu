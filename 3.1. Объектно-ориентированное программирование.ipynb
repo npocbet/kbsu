{
 "cells": [
  {
   "cell_type": "markdown",
   "metadata": {},
   "source": [
    "# 1.  Основные понятия \n",
    "\n",
    "Объектно-ориентированное программирование - одна из главных парадигм программирования.\n",
    "\n",
    "Традиционная парадигма программирования - процедурное или функциональное программирование, строится на следующем:\n",
    "\n",
    "- Программа имеет состояние, соответствующее значениям ее переменных.\n",
    "- Функции вызываются для обработки этих данных. \n",
    "- Данные передаются туда и обратно с помощью вызовов функций.\n",
    "\n",
    "Напротив, в парадигме ООП:\n",
    "\n",
    "- данные и функции объединены внутри объектов.\n",
    "\n"
   ]
  },
  {
   "cell_type": "markdown",
   "metadata": {},
   "source": [
    "## 1.1. Python и ООП\n",
    "\n",
    "Python - это прагматичный язык, который сочетает объектно-ориентированный и процедурный стили.\n",
    "\n",
    "Однако на фундаментальном уровне Python является объектно-ориентированным.\n",
    "\n",
    "В частности, в Python *все является объектом*.\n",
    "\n",
    "В этой лекции мы объясним, что означает это утверждение и почему оно имеет значение.\n"
   ]
  },
  {
   "cell_type": "markdown",
   "metadata": {},
   "source": [
    "## 1.2. Объекты\n",
    "\n",
    "Пример объекта из реальной жизни - автомобиль:\n",
    "\n",
    "Он состоит из набора **свойств** (под этим термином в ООП называют данные, которые содержит объект), таких как:\n",
    "\n",
    "- цвет\n",
    "- количество дверей\n",
    "- объем двигателя\n",
    "и т.д.\n",
    "\n",
    "И набора **методов** (а под этим термином - функции, позволяющие объект как взаимодействовать с внешним миром, так и менять собственны свойства)\n",
    "\n",
    "- ехать с заданной скоростью\n",
    "- издавать звуковой сигнал\n",
    "- использовать \"дворники\"\n",
    "и т.д.\n",
    "\n",
    "В Python **объект** - это набор данных и инструкций, хранящихся в памяти компьютера, который состоит из:\n",
    "\n",
    "1. тип  \n",
    "2. идентификатор  \n",
    "3. данные  \n",
    "4. методы  "
   ]
  },
  {
   "cell_type": "markdown",
   "metadata": {},
   "source": [
    "### 1.2.1. Тип\n",
    "\n",
    "Python предоставляет различные типы объектов для размещения различных категорий данных.\n",
    "\n",
    "Например:"
   ]
  },
  {
   "cell_type": "code",
   "execution_count": 1,
   "metadata": {
    "hide-output": false
   },
   "outputs": [
    {
     "data": {
      "text/plain": [
       "str"
      ]
     },
     "execution_count": 1,
     "metadata": {},
     "output_type": "execute_result"
    }
   ],
   "source": [
    "s = 'This is a string'\n",
    "type(s)"
   ]
  },
  {
   "cell_type": "code",
   "execution_count": 2,
   "metadata": {
    "hide-output": false
   },
   "outputs": [
    {
     "data": {
      "text/plain": [
       "int"
      ]
     },
     "execution_count": 2,
     "metadata": {},
     "output_type": "execute_result"
    }
   ],
   "source": [
    "x = 42   # Now let's create an integer\n",
    "type(x)"
   ]
  },
  {
   "cell_type": "markdown",
   "metadata": {},
   "source": [
    "Тип объекта имеет значение для многих выражений.\n",
    "\n",
    "Например, оператор сложения между двумя строками означает конкатенацию(объединение)"
   ]
  },
  {
   "cell_type": "code",
   "execution_count": 3,
   "metadata": {
    "hide-output": false
   },
   "outputs": [
    {
     "data": {
      "text/plain": [
       "'300cc'"
      ]
     },
     "execution_count": 3,
     "metadata": {},
     "output_type": "execute_result"
    }
   ],
   "source": [
    "'300' + 'cc'"
   ]
  },
  {
   "cell_type": "markdown",
   "metadata": {},
   "source": [
    "А между двумя числами - сложение"
   ]
  },
  {
   "cell_type": "code",
   "execution_count": 4,
   "metadata": {
    "hide-output": false
   },
   "outputs": [
    {
     "data": {
      "text/plain": [
       "700"
      ]
     },
     "execution_count": 4,
     "metadata": {},
     "output_type": "execute_result"
    }
   ],
   "source": [
    "300 + 400"
   ]
  },
  {
   "cell_type": "markdown",
   "metadata": {},
   "source": [
    "Рассмотрим следующее выражение"
   ]
  },
  {
   "cell_type": "code",
   "execution_count": null,
   "metadata": {
    "hide-output": false
   },
   "outputs": [],
   "source": [
    "'300' + 400"
   ]
  },
  {
   "cell_type": "markdown",
   "metadata": {},
   "source": [
    "Здесь мы используем разные типы, и Python неясно, хочет ли пользователь:\n",
    "\n",
    "- привести строку `'300'` к целому типу и сложить с числом 400 или \n",
    "- привести число `400` к строке и затем соединить их\n",
    "\n",
    "\n",
    "В некоторых языках подобное возможно (в этом случае говорят о языках со слабой типизацией), но не в Python, который является языком с сильной типизацией, что означает:\n",
    "\n",
    "- Тип важен, а неявное преобразование типов встречается редко.\n",
    "- Вместо этого Python ответит, выдав сообщение `TypeError`. \n",
    "\n",
    "\n",
    "Чтобы избежать ошибки, вам необходимо внести ясность, изменив соответствующий тип.\n",
    "\n",
    "Например,"
   ]
  },
  {
   "cell_type": "code",
   "execution_count": 6,
   "metadata": {
    "hide-output": false
   },
   "outputs": [
    {
     "data": {
      "text/plain": [
       "700"
      ]
     },
     "execution_count": 6,
     "metadata": {},
     "output_type": "execute_result"
    }
   ],
   "source": [
    "int('300') + 400  "
   ]
  },
  {
   "cell_type": "markdown",
   "metadata": {},
   "source": [
    "\n",
    "<a id='identity'></a>"
   ]
  },
  {
   "cell_type": "markdown",
   "metadata": {},
   "source": [
    "### 1.2.2. Идентификатор\n",
    "\n",
    "В Python каждый объект имеет уникальный идентификатор, который помогает Python (и нам) отслеживать объект.\n",
    "\n",
    "Идентификатор объекта можно получить с помощью функции `id()`"
   ]
  },
  {
   "cell_type": "code",
   "execution_count": 9,
   "metadata": {
    "hide-output": false
   },
   "outputs": [
    {
     "data": {
      "text/plain": [
       "140285122218544"
      ]
     },
     "execution_count": 9,
     "metadata": {},
     "output_type": "execute_result"
    }
   ],
   "source": [
    "y = 2.5\n",
    "z = 2.5\n",
    "id(y)"
   ]
  },
  {
   "cell_type": "code",
   "execution_count": 10,
   "metadata": {
    "hide-output": false
   },
   "outputs": [
    {
     "data": {
      "text/plain": [
       "140284604738416"
      ]
     },
     "execution_count": 10,
     "metadata": {},
     "output_type": "execute_result"
    }
   ],
   "source": [
    "id(z)"
   ]
  },
  {
   "cell_type": "markdown",
   "metadata": {},
   "source": [
    "В этом примере `y` и `z` имеют одинаковое значение (т.е. `2.5`), но они не являются одним и тем же объектом.\n",
    "\n",
    "Идентификатор объекта на самом деле является просто адресом объекта в памяти."
   ]
  },
  {
   "cell_type": "markdown",
   "metadata": {},
   "source": [
    "### 1.2.3. данные\n",
    "\n",
    "Если мы выполним `x = 42`, то создадим объект типа `int`, который содержит\n",
    "данные `42`.\n",
    "\n",
    "На самом деле, он содержит больше, как показано в следующем примере"
   ]
  },
  {
   "cell_type": "code",
   "execution_count": 11,
   "metadata": {
    "hide-output": false
   },
   "outputs": [
    {
     "data": {
      "text/plain": [
       "42"
      ]
     },
     "execution_count": 11,
     "metadata": {},
     "output_type": "execute_result"
    }
   ],
   "source": [
    "x = 42\n",
    "x"
   ]
  },
  {
   "cell_type": "code",
   "execution_count": 12,
   "metadata": {
    "hide-output": false
   },
   "outputs": [
    {
     "data": {
      "text/plain": [
       "0"
      ]
     },
     "execution_count": 12,
     "metadata": {},
     "output_type": "execute_result"
    }
   ],
   "source": [
    "x.imag   "
   ]
  },
  {
   "cell_type": "code",
   "execution_count": 13,
   "metadata": {
    "hide-output": false
   },
   "outputs": [
    {
     "data": {
      "text/plain": [
       "int"
      ]
     },
     "execution_count": 13,
     "metadata": {},
     "output_type": "execute_result"
    }
   ],
   "source": [
    "x.__class__"
   ]
  },
  {
   "cell_type": "markdown",
   "metadata": {},
   "source": [
    "Когда Python создает этот целочисленный объект, он сохраняет в нем различную вспомогательную информацию, такую как мнимая часть (для комплексных чисел) и тип.\n",
    "\n",
    "Любое имя, следующее за точкой, называется *атрибутом* объекта слева от точки.\n",
    "\n",
    "- - например, `imag` и `__class__` являются атрибутами `x`.  \n",
    "\n",
    "\n",
    "Из этого примера мы видим, что объекты имеют атрибуты, содержащие вспомогательную информацию.\n",
    "\n",
    "У них также есть атрибуты, которые действуют как функции, называемые *методами*.\n",
    "\n",
    "Эти атрибуты важны, поэтому давайте обсудим их подробнее."
   ]
  },
  {
   "cell_type": "markdown",
   "metadata": {},
   "source": [
    "### 1.2.4. Методы\n",
    "\n",
    "Методы - это *функции, которые связаны с объектами*.\n",
    "\n",
    "Формально методы - это атрибуты объектов, которые являются вызываемыми (т.е. могут вызываться как функции)."
   ]
  },
  {
   "cell_type": "code",
   "execution_count": 14,
   "metadata": {
    "hide-output": false
   },
   "outputs": [
    {
     "data": {
      "text/plain": [
       "True"
      ]
     },
     "execution_count": 14,
     "metadata": {},
     "output_type": "execute_result"
    }
   ],
   "source": [
    "x = ['foo', 'bar']\n",
    "callable(x.append)"
   ]
  },
  {
   "cell_type": "code",
   "execution_count": 15,
   "metadata": {
    "hide-output": false
   },
   "outputs": [
    {
     "data": {
      "text/plain": [
       "False"
      ]
     },
     "execution_count": 15,
     "metadata": {},
     "output_type": "execute_result"
    }
   ],
   "source": [
    "callable(x.__doc__)"
   ]
  },
  {
   "cell_type": "markdown",
   "metadata": {},
   "source": [
    "Методы обычно воздействуют на данные, содержащиеся в объекте, к которому они принадлежат, или объединяют эти данные с другими данными"
   ]
  },
  {
   "cell_type": "code",
   "execution_count": 17,
   "metadata": {
    "hide-output": false
   },
   "outputs": [
    {
     "data": {
      "text/plain": [
       "['a', 'b', 'c']"
      ]
     },
     "execution_count": 17,
     "metadata": {},
     "output_type": "execute_result"
    }
   ],
   "source": [
    "x = ['a', 'b']\n",
    "x.append('c')\n",
    "x"
   ]
  },
  {
   "cell_type": "code",
   "execution_count": 18,
   "metadata": {},
   "outputs": [
    {
     "data": {
      "text/plain": [
       "'THIS IS A STRING'"
      ]
     },
     "execution_count": 18,
     "metadata": {},
     "output_type": "execute_result"
    }
   ],
   "source": [
    "s = 'This is a string'\n",
    "s.upper()"
   ]
  },
  {
   "cell_type": "code",
   "execution_count": 19,
   "metadata": {
    "hide-output": false
   },
   "outputs": [
    {
     "data": {
      "text/plain": [
       "'this is a string'"
      ]
     },
     "execution_count": 19,
     "metadata": {},
     "output_type": "execute_result"
    }
   ],
   "source": [
    "s.lower()"
   ]
  },
  {
   "cell_type": "code",
   "execution_count": 20,
   "metadata": {
    "hide-output": false
   },
   "outputs": [
    {
     "data": {
      "text/plain": [
       "'That is a string'"
      ]
     },
     "execution_count": 20,
     "metadata": {},
     "output_type": "execute_result"
    }
   ],
   "source": [
    "s.replace('This', 'That')"
   ]
  },
  {
   "cell_type": "markdown",
   "metadata": {},
   "source": [
    "Значительная часть функциональности Python организована вокруг вызовов методов.\n",
    "\n",
    "Для примера рассмотрим следующий фрагмент кода"
   ]
  },
  {
   "cell_type": "code",
   "execution_count": 21,
   "metadata": {
    "hide-output": false
   },
   "outputs": [
    {
     "data": {
      "text/plain": [
       "['aa', 'b']"
      ]
     },
     "execution_count": 21,
     "metadata": {},
     "output_type": "execute_result"
    }
   ],
   "source": [
    "x = ['a', 'b']\n",
    "x[0] = 'aa'\n",
    "x"
   ]
  },
  {
   "cell_type": "markdown",
   "metadata": {},
   "source": [
    "Не похоже, что здесь используются какие-либо методы, но на самом деле обозначение присваивания в квадратных скобках - это просто удобный интерфейс для вызова метода.\n",
    "\n",
    "Что на самом деле происходит, так это то, что Python вызывает метод `__setitem__` следующим образом:"
   ]
  },
  {
   "cell_type": "code",
   "execution_count": null,
   "metadata": {
    "hide-output": false
   },
   "outputs": [],
   "source": [
    "x = ['a', 'b']\n",
    "x.__setitem__(0, 'aa')  # так же как и ...  x[0] = 'aa'\n",
    "x"
   ]
  },
  {
   "cell_type": "markdown",
   "metadata": {},
   "source": [
    "(Если бы вы захотели, вы могли бы изменить метод `__setitem__`, чтобы назначение квадратных скобок выполняло что-то совершенно другое)"
   ]
  },
  {
   "cell_type": "markdown",
   "metadata": {},
   "source": [
    "## 1.3. Функция как объект\n",
    "\n",
    "Все сказанное выше применимо и для функций"
   ]
  },
  {
   "cell_type": "code",
   "execution_count": 22,
   "metadata": {
    "hide-output": false
   },
   "outputs": [
    {
     "data": {
      "text/plain": [
       "<function __main__.f(x)>"
      ]
     },
     "execution_count": 22,
     "metadata": {},
     "output_type": "execute_result"
    }
   ],
   "source": [
    "def f(x): return x**2\n",
    "f"
   ]
  },
  {
   "cell_type": "code",
   "execution_count": 23,
   "metadata": {
    "hide-output": false
   },
   "outputs": [
    {
     "data": {
      "text/plain": [
       "function"
      ]
     },
     "execution_count": 23,
     "metadata": {},
     "output_type": "execute_result"
    }
   ],
   "source": [
    "type(f)"
   ]
  },
  {
   "cell_type": "code",
   "execution_count": 24,
   "metadata": {
    "hide-output": false
   },
   "outputs": [
    {
     "data": {
      "text/plain": [
       "140284604516960"
      ]
     },
     "execution_count": 24,
     "metadata": {},
     "output_type": "execute_result"
    }
   ],
   "source": [
    "id(f)"
   ]
  },
  {
   "cell_type": "markdown",
   "metadata": {},
   "source": [
    "# 1.4. Основные определения\n",
    "\n",
    "**Класс**\n",
    "\n",
    "Описывает модель объекта, его свойства и поведение. Говоря языком программиста, класс — такой тип данных, который создается для описания сложных объектов.\n",
    "\n",
    "**Экземпляр**\n",
    "\n",
    "Для краткости вместо «Объект, порожденный классом „Стул“» говорят «экземпляр класса „Стул“».\n",
    "\n",
    "**Объект**\n",
    "\n",
    "Хранит конкретные значения свойств и информацию о принадлежности к классу. Может выполнять методы.\n",
    "\n",
    "**Атрибут**\n",
    "\n",
    "Свойство, присущее объекту. Класс объекта определяет, какие атрибуты есть у объекта. Конкретные значения атрибутов — характеристика уже не класса, а конкретного экземпляра этого класса, то есть объекта.\n",
    "\n",
    "**Метод**\n",
    "\n",
    "Действие, которое объект может выполнять над самим собой или другими объектами."
   ]
  },
  {
   "cell_type": "markdown",
   "metadata": {},
   "source": [
    "# 2. Классы"
   ]
  },
  {
   "cell_type": "code",
   "execution_count": 27,
   "metadata": {},
   "outputs": [],
   "source": [
    "class Fruit:\n",
    "    pass"
   ]
  },
  {
   "cell_type": "markdown",
   "metadata": {},
   "source": [
    "Определение этого класса состоит из зарезервированного слова **class**, имени класса и пустой инструкции после отступа.\n",
    "\n",
    "Внутри класса с дополнительным уровнем отступов должны определяться его методы, но сейчас их нет. Однако хотя бы одна инструкция должна быть, поэтому приходится использовать пустую инструкцию-заглушку pass. Она предназначена как раз для таких случаев."
   ]
  },
  {
   "cell_type": "markdown",
   "metadata": {},
   "source": [
    "## 2.1. Свойства класса"
   ]
  },
  {
   "cell_type": "code",
   "execution_count": 28,
   "metadata": {},
   "outputs": [],
   "source": [
    "a = Fruit()\n",
    "b = Fruit()"
   ]
  },
  {
   "cell_type": "markdown",
   "metadata": {},
   "source": [
    "здесь мы создали 2 экземпляра класса Fruit"
   ]
  },
  {
   "cell_type": "code",
   "execution_count": 29,
   "metadata": {},
   "outputs": [],
   "source": [
    "a.name = 'apple'\n",
    "a.weight = 120\n",
    "b.name = 'orange'\n",
    "b.weight = 150"
   ]
  },
  {
   "cell_type": "markdown",
   "metadata": {},
   "source": [
    "а тут указали для них значения атрибутов. Теперь a - яблоко весом в 120 грамм, а b - апельсин, весом 150."
   ]
  },
  {
   "cell_type": "markdown",
   "metadata": {},
   "source": [
    "Атрибуты можно не только устанавливать, но и читать. При чтении еще не созданного атрибута будет появляться ошибка **AttributeError**. Вы ее часто увидите, допуская неточности в именах атрибутов и методов."
   ]
  },
  {
   "cell_type": "code",
   "execution_count": 30,
   "metadata": {},
   "outputs": [
    {
     "name": "stdout",
     "output_type": "stream",
     "text": [
      "apple 120\n",
      "orange 150\n",
      "orange 140\n"
     ]
    }
   ],
   "source": [
    "print(a.name, a.weight)  # apple 120\n",
    "print(b.name, b.weight)  # orange 150\n",
    "b.weight -= 10  # Апельсин долго лежал на складе и усох\n",
    "print(b.name, b.weight)  # orange 140"
   ]
  },
  {
   "cell_type": "code",
   "execution_count": 31,
   "metadata": {},
   "outputs": [
    {
     "ename": "AttributeError",
     "evalue": "'Fruit' object has no attribute 'weight'",
     "output_type": "error",
     "traceback": [
      "\u001b[0;31m---------------------------------------------------------------------------\u001b[0m",
      "\u001b[0;31mAttributeError\u001b[0m                            Traceback (most recent call last)",
      "Cell \u001b[0;32mIn [31], line 6\u001b[0m\n\u001b[1;32m      3\u001b[0m c\u001b[38;5;241m.\u001b[39mcolor \u001b[38;5;241m=\u001b[39m \u001b[38;5;124m'\u001b[39m\u001b[38;5;124myellow\u001b[39m\u001b[38;5;124m'\u001b[39m\n\u001b[1;32m      4\u001b[0m \u001b[38;5;66;03m# Атрибут color появился только в объекте c.\u001b[39;00m\n\u001b[1;32m      5\u001b[0m \u001b[38;5;66;03m# Забыли добавить свойство weight и обращаемся к нему\u001b[39;00m\n\u001b[0;32m----> 6\u001b[0m \u001b[38;5;28mprint\u001b[39m(c\u001b[38;5;241m.\u001b[39mname, \u001b[43mc\u001b[49m\u001b[38;5;241;43m.\u001b[39;49m\u001b[43mweight\u001b[49m)\n",
      "\u001b[0;31mAttributeError\u001b[0m: 'Fruit' object has no attribute 'weight'"
     ]
    }
   ],
   "source": [
    "c = Fruit()\n",
    "c.name = 'lemon'\n",
    "c.color = 'yellow'\n",
    "# Атрибут color появился только в объекте c.\n",
    "# Забыли добавить свойство weight и обращаемся к нему\n",
    "print(c.name, c.weight)  \n",
    "# Ошибка AttributeError, нет атрибута weight"
   ]
  },
  {
   "cell_type": "markdown",
   "metadata": {},
   "source": [
    "## 2.2. Методы классов "
   ]
  },
  {
   "cell_type": "code",
   "execution_count": 32,
   "metadata": {},
   "outputs": [
    {
     "name": "stdout",
     "output_type": "stream",
     "text": [
      "Привет, Мир!\n"
     ]
    }
   ],
   "source": [
    "class Greeter:\n",
    "    def hello_world(self):\n",
    "        print(\"Привет, Мир!\")\n",
    " \n",
    "\n",
    "greet = Greeter()\n",
    "greet.hello_world()  # выведет \"Привет, Мир!\""
   ]
  },
  {
   "cell_type": "markdown",
   "metadata": {},
   "source": [
    "Здесь мы описали метод с названием \"hello_world\" для класса Greeter. Затем создали его экземпляр и вызвали этот метод."
   ]
  },
  {
   "cell_type": "markdown",
   "metadata": {},
   "source": [
    "При создании собственных методов обратите внимание на два момента:\n",
    "\n",
    "Метод должен быть определен внутри класса (добавляется уровень отступов)\n",
    "У методов всегда есть хотя бы один аргумент, и первый по счету аргумент должен называться **self**\n",
    "\n",
    "В него передается тот объект, который вызвал этот метод. Поэтому self еще часто называют контекстным объектом. При этом вызывая метод у объекта, мы передаем в него параметры без его учета, как будто его не существует:"
   ]
  },
  {
   "cell_type": "code",
   "execution_count": 34,
   "metadata": {},
   "outputs": [],
   "source": [
    "class Greeter:\n",
    "    def hello_world(self):\n",
    "        print(\"Привет, Мир!\")\n",
    " \n",
    "    def greeting(self, name):\n",
    "        '''Поприветствовать человека с именем name.'''\n",
    "        print(f\"Привет, {name}!\")\n",
    " \n",
    "    def start_talking(self, name, weather_is_good):\n",
    "        '''Поприветствовать и начать разговор с вопроса о погоде.'''\n",
    "        print(f\"Привет, {name}!\")\n",
    "        if weather_is_good:\n",
    "            print(\"Хорошая погода, не так ли?\")\n",
    "        else:\n",
    "            print(\"Отвратительная погода, не так ли?\")\n"
   ]
  },
  {
   "cell_type": "code",
   "execution_count": 35,
   "metadata": {},
   "outputs": [
    {
     "name": "stdout",
     "output_type": "stream",
     "text": [
      "Привет, Мир!\n"
     ]
    }
   ],
   "source": [
    "greet = Greeter()\n",
    "greet.hello_world() "
   ]
  },
  {
   "cell_type": "code",
   "execution_count": 36,
   "metadata": {},
   "outputs": [
    {
     "name": "stdout",
     "output_type": "stream",
     "text": [
      "Привет, Петя!\n"
     ]
    }
   ],
   "source": [
    "greet.greeting(\"Петя\")"
   ]
  },
  {
   "cell_type": "code",
   "execution_count": 37,
   "metadata": {},
   "outputs": [
    {
     "name": "stdout",
     "output_type": "stream",
     "text": [
      "Привет, Саша!\n",
      "Хорошая погода, не так ли?\n"
     ]
    }
   ],
   "source": [
    "greet.start_talking(\"Саша\", True)  "
   ]
  },
  {
   "cell_type": "markdown",
   "metadata": {},
   "source": [
    "## 2.3. Инициализация экземпляров класса"
   ]
  },
  {
   "cell_type": "markdown",
   "metadata": {},
   "source": [
    "Рассмотрим пример создания класса автомобиля"
   ]
  },
  {
   "cell_type": "code",
   "execution_count": 39,
   "metadata": {},
   "outputs": [],
   "source": [
    "class Car:\n",
    "    def start_engine(self):\n",
    "        self.engine_on = True\n",
    " \n",
    "    def drive_to(self, city):\n",
    "        if self.engine_on:\n",
    "            print(f\"Едем в город {city}.\")\n",
    "        else:\n",
    "            print(\"Машина не заведена, никуда не едем.\")"
   ]
  },
  {
   "cell_type": "markdown",
   "metadata": {},
   "source": [
    "Мы описали 2 метода, имитирующих запуск двигателя и его движение в указанный город."
   ]
  },
  {
   "cell_type": "code",
   "execution_count": 41,
   "metadata": {},
   "outputs": [
    {
     "name": "stdout",
     "output_type": "stream",
     "text": [
      "Едем в город Владивосток.\n"
     ]
    }
   ],
   "source": [
    "car1 = Car()\n",
    "car1.start_engine()\n",
    "car1.drive_to('Владивосток')"
   ]
  },
  {
   "cell_type": "code",
   "execution_count": 42,
   "metadata": {},
   "outputs": [
    {
     "ename": "AttributeError",
     "evalue": "'Car' object has no attribute 'engine_on'",
     "output_type": "error",
     "traceback": [
      "\u001b[0;31m---------------------------------------------------------------------------\u001b[0m",
      "\u001b[0;31mAttributeError\u001b[0m                            Traceback (most recent call last)",
      "Cell \u001b[0;32mIn [42], line 2\u001b[0m\n\u001b[1;32m      1\u001b[0m car2 \u001b[38;5;241m=\u001b[39m Car()\n\u001b[0;32m----> 2\u001b[0m \u001b[43mcar2\u001b[49m\u001b[38;5;241;43m.\u001b[39;49m\u001b[43mdrive_to\u001b[49m\u001b[43m(\u001b[49m\u001b[38;5;124;43m'\u001b[39;49m\u001b[38;5;124;43mЛиссабон\u001b[39;49m\u001b[38;5;124;43m'\u001b[39;49m\u001b[43m)\u001b[49m\n",
      "Cell \u001b[0;32mIn [39], line 6\u001b[0m, in \u001b[0;36mCar.drive_to\u001b[0;34m(self, city)\u001b[0m\n\u001b[1;32m      5\u001b[0m \u001b[38;5;28;01mdef\u001b[39;00m \u001b[38;5;21mdrive_to\u001b[39m(\u001b[38;5;28mself\u001b[39m, city):\n\u001b[0;32m----> 6\u001b[0m     \u001b[38;5;28;01mif\u001b[39;00m \u001b[38;5;28;43mself\u001b[39;49m\u001b[38;5;241;43m.\u001b[39;49m\u001b[43mengine_on\u001b[49m:\n\u001b[1;32m      7\u001b[0m         \u001b[38;5;28mprint\u001b[39m(\u001b[38;5;124mf\u001b[39m\u001b[38;5;124m\"\u001b[39m\u001b[38;5;124mЕдем в город \u001b[39m\u001b[38;5;132;01m{\u001b[39;00mcity\u001b[38;5;132;01m}\u001b[39;00m\u001b[38;5;124m.\u001b[39m\u001b[38;5;124m\"\u001b[39m)\n\u001b[1;32m      8\u001b[0m     \u001b[38;5;28;01melse\u001b[39;00m:\n",
      "\u001b[0;31mAttributeError\u001b[0m: 'Car' object has no attribute 'engine_on'"
     ]
    }
   ],
   "source": [
    "car2 = Car()\n",
    "car2.drive_to('Лиссабон')"
   ]
  },
  {
   "cell_type": "markdown",
   "metadata": {},
   "source": [
    "вместо красивого сообщения о том, что незаведенная машина не поедет, получим «падение» программы с ошибкой AttributeError (отсутствие атрибута или метода). Еще бы! Ведь атрибут создавался в методе start_engine, а мы не вызвали его для объекта car2.\n",
    "\n",
    "Такой подход создания свойств крайне нежелателен, т.к. имея большое количество методов, часть из которых будет добавлять свойства объекту, в них можно будет легко запутаться. Действительно, вызывая 1 метод мы можем не можем быть уверены, что до этого были вызваны все методы, инициализирующие его свойства, необходимые для его работы.\n",
    "\n",
    "Для описания свойств объектов существует специальный метод, решающий данную проблему.\n",
    "\n",
    "Метод `__init__`\n",
    "\n",
    "Особое значение метода `__init__` заключается в том, что, если такой метод в классе определен, интерпретатор автоматически вызывает его при создании каждого экземпляра этого класса для инициализации экземпляра."
   ]
  },
  {
   "cell_type": "code",
   "execution_count": 44,
   "metadata": {},
   "outputs": [],
   "source": [
    "class Car:\n",
    "    def __init__(self):\n",
    "        self.engine_on = False\n",
    " \n",
    "    def start_engine(self):\n",
    "        self.engine_on = True\n",
    " \n",
    "    def drive_to(self, city):\n",
    "        if self.engine_on:\n",
    "            print(f\"Едем в город {city}.\")\n",
    "        else:\n",
    "            print(\"Машина не заведена, никуда не едем.\")"
   ]
  },
  {
   "cell_type": "code",
   "execution_count": 45,
   "metadata": {},
   "outputs": [
    {
     "name": "stdout",
     "output_type": "stream",
     "text": [
      "Едем в город Владивосток.\n"
     ]
    }
   ],
   "source": [
    "car1 = Car()\n",
    "car1.start_engine()\n",
    "car1.drive_to('Владивосток')"
   ]
  },
  {
   "cell_type": "code",
   "execution_count": 46,
   "metadata": {},
   "outputs": [
    {
     "name": "stdout",
     "output_type": "stream",
     "text": [
      "Машина не заведена, никуда не едем.\n"
     ]
    }
   ],
   "source": [
    "car2 = Car()\n",
    "car2.drive_to('Лиссабон')   "
   ]
  },
  {
   "cell_type": "markdown",
   "metadata": {},
   "source": [
    "Метод `__init__` после self может получать параметры, передаваемые ему при создании экземпляра:"
   ]
  },
  {
   "cell_type": "code",
   "execution_count": 47,
   "metadata": {},
   "outputs": [],
   "source": [
    "class Car:\n",
    "    def __init__(self, color):\n",
    "        self.engine_on = False\n",
    "        self.color = color\n",
    "\n",
    "    def start_engine(self):\n",
    "        self.engine_on = True\n",
    "\n",
    "    def drive_to(self, city):\n",
    "        if self.engine_on:\n",
    "            print(f\"{self.color} машина едет в город {city}.\")\n",
    "        else:\n",
    "            print(f\"{self.color} машина не заведена, никуда не едем.\")\n",
    "\n",
    "\n",
    "car1 = Car('красная')\n",
    "\n",
    "car2 = Car('синяя')"
   ]
  },
  {
   "cell_type": "markdown",
   "metadata": {},
   "source": [
    "технология сокрытия информации о внутреннем устройстве объекта за внешним интерфейсом из методов называется **инкапсуляцией**."
   ]
  },
  {
   "cell_type": "code",
   "execution_count": 49,
   "metadata": {},
   "outputs": [
    {
     "name": "stdout",
     "output_type": "stream",
     "text": [
      "Jane, Doe, 30 , New York , Flu \n",
      "Last visited doctor: John Doe (Surgeon)\n"
     ]
    }
   ],
   "source": [
    "class Doctor:\n",
    "    def __init__(self, name, specialty):\n",
    "        self.name = name\n",
    "        self.specialty = specialty\n",
    "        \n",
    " \n",
    "class Patient:\n",
    "    def __init__ (self,name=None,family=None,age=None,city=None,diagnoz=None, doctor=None):\n",
    "        self.name=name\n",
    "        self.family=family\n",
    "        self.age=age\n",
    "        self.city=city\n",
    "        self.diagnoz=diagnoz\n",
    "        self.doctor = doctor\n",
    " \n",
    "    def develop(self):\n",
    "        if self.age == None :\n",
    "            return 'Неизвестно'\n",
    "        elif self.diagnoz == None:\n",
    "            return 'Требуется консультация'\n",
    "        else:\n",
    "            return f'{self.name}, {self.family}, {self.age} , {self.city} , {self.diagnoz} ' \n",
    " \n",
    "    def last_visit(self):\n",
    "        if self.doctor:\n",
    "            return f'Last visited doctor: {self.doctor.name} ({self.doctor.specialty})'\n",
    "        else:\n",
    "            return 'No doctor visits yet'\n",
    " \n",
    "doc = Doctor(\"John Doe\", \"Surgeon\")\n",
    "patient = Patient(\"Jane\", \"Doe\", 30, \"New York\", \"Flu\", doc)\n",
    " \n",
    "print(patient.develop())\n",
    "print(patient.last_visit())"
   ]
  },
  {
   "cell_type": "markdown",
   "metadata": {},
   "source": [
    "В данном примере мы при создании экземпляра класса `Patient` передали ему в качестве аргумента экземпляр класса `Doctor`"
   ]
  }
 ],
 "metadata": {
  "date": 1584334749.33412,
  "filename": "oop_intro.rst",
  "kernelspec": {
   "display_name": "Python 3 (ipykernel)",
   "language": "python",
   "name": "python3"
  },
  "language_info": {
   "codemirror_mode": {
    "name": "ipython",
    "version": 3
   },
   "file_extension": ".py",
   "mimetype": "text/x-python",
   "name": "python",
   "nbconvert_exporter": "python",
   "pygments_lexer": "ipython3",
   "version": "3.9.14"
  },
  "title": "OOP I: Introduction to Object Oriented Programming"
 },
 "nbformat": 4,
 "nbformat_minor": 2
}
